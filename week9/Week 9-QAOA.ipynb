{
 "cells": [
  {
   "cell_type": "markdown",
   "id": "a8ada9e9-00dd-4acf-8725-3ffb98bf7f85",
   "metadata": {
    "tags": []
   },
   "source": [
    "# COMP90084 Workshop Week 9 - QAOA\n",
    "In this Jupyter Notebook, we will solve combinatorial optimization problems with the Quantum Approximate Optimization Algorithm (QAOA). We will code the QAOA algorithm with `Qiskit` as well as `Pennylane`.\n",
    "## Combinatorial Optimization Problem\n",
    "Combinatorial optimization problems involve finding an optimal object out of a finite set of objects. We would focus on problems that involve finding \"optimal\" bitstrings composed of 0's and 1's among a finite set of bitstrings. One such problem corresponding to a graph is the Max-Cut problem.\n",
    "## Max-Cut Problem\n",
    "The aim of MaxCut is to maximize the number of edges (yellow lines) in a graph that are “cut” by a given partition of the vertices (blue circles) into two sets (see figure below).\n",
    "![](https://pennylane.ai/qml/_images/qaoa_maxcut_partition.png)\n",
    "\n",
    "\n",
    "\n",
    "Consider a graph with $m$ edges and $n$ vertices. We seek the partition\n",
    "$z$ of the vertices into two sets $A$ and $B$ which maximizes\n",
    "\n",
    "$$C(z) = \\sum_{\\alpha=1}^{m}C_\\alpha(z),$$\n",
    "\n",
    "where $C$ counts the number of edges cut. $C_\\alpha(z)=1$ if $z$ places\n",
    "one vertex from the $\\alpha^\\text{th}$ edge in set $A$ and the other in\n",
    "set $B$, and $C_\\alpha(z)=0$ otherwise. Finding a cut which yields the\n",
    "maximum possible value of $C$ is an NP-complete problem, so our best\n",
    "hope for a polynomial-time algorithm lies in an approximate\n",
    "optimization. In the case of MaxCut, this means finding a partition $z$\n",
    "which yields a value for $C(z)$ that is close to the maximum possible\n",
    "value.\n",
    "\n",
    "We can represent the assignment of vertices to set $A$ or $B$ using a\n",
    "bitstring, $z=z_1...z_n$ where $z_i=0$ if the $i^\\text{th}$ vertex is in\n",
    "$A$ and $z_i = 1$ if it is in $B$. For instance, in the situation\n",
    "depicted in the figure above the bitstring representation is\n",
    "$z=0101\\text{,}$ indicating that the $0^{\\text{th}}$ and $2^{\\text{nd}}$\n",
    "vertices are in $A$ while the $1^{\\text{st}}$ and $3^{\\text{rd}}$ are in\n",
    "$B$. This assignment yields a value for the objective function (the\n",
    "number of yellow lines cut) $C=4$, which turns out to be the maximum\n",
    "cut. \n",
    "\n",
    "## QAOA\n",
    "\n",
    "\n",
    "The quantum approximate optimization algorithm (QAOA) is a general\n",
    "technique that can be used to find approximate solutions to\n",
    "combinatorial optimization problems, in particular problems that can be\n",
    "cast as searching for an optimal bitstring. QAOA consists of the\n",
    "following steps:\n",
    "\n",
    "1.  Define a *cost Hamiltonian* $H_C$ such that its ground state encodes\n",
    "    the solution to the optimization problem. For the cost Hamiltonian of other NP problems, see [Ising formulations of many NP problems](https://arxiv.org/abs/1302.5843).\n",
    "2.  Define a *mixer Hamiltonian* $H_M$.\n",
    "3.  Construct the circuits $e^{-i \\gamma H_C}$ and $e^{-i\\alpha H_M}$.\n",
    "    We call these the *cost* and *mixer layers*, respectively.\n",
    "4.  Choose a parameter $n\\geq 1$ and build the circuit\n",
    "\n",
    "    $$U(\\boldsymbol\\gamma, \\ \\boldsymbol\\alpha) \\ = \\ e^{-i \\alpha_n H_M}\n",
    "    e^{-i \\gamma_n H_C} \\ ... \\ e^{-i \\alpha_1 H_M} e^{-i \\gamma_1 H_C},$$\n",
    "\n",
    "    consisting of repeated application of the cost and mixer layers.\n",
    "\n",
    "5.  Prepare an initial state, apply\n",
    "    $U(\\boldsymbol\\gamma,\\boldsymbol\\alpha)$, and use classical\n",
    "    techniques to optimize the parameters.\n",
    "6.  After the circuit has been optimized, measurements of the output\n",
    "    state reveal approximate solutions to the optimization problem.\n",
    "\n",
    "In summary, the starting point of QAOA is the specification of cost and\n",
    "mixer Hamiltonians. We then use time evolution and layering to create a\n",
    "variational circuit and optimize its parameters. The algorithm concludes\n",
    "by sampling from the circuit to get an approximate solution to the\n",
    "optimization problem.\n",
    "\n",
    "## A circuit for QAOA\n",
    "\n",
    "\n",
    "This section describes implementing a circuit for QAOA using basic\n",
    "unitary gates to find approximate solutions to the MaxCut problem.\n",
    "Firstly, denoting the partitions using computational basis states\n",
    "$|z\\rangle$, we can represent the terms in the objective function as\n",
    "operators acting on these states\n",
    "\n",
    "$$C_\\alpha = \\frac{1}{2}\\left(1-\\sigma_{z}^j\\sigma_{z}^k\\right),$$\n",
    "\n",
    "where the $\\alpha\\text{th}$ edge is between vertices $(j,k)$. $C_\\alpha$\n",
    "has eigenvalue 1 if and only if the $j\\text{th}$ and $k\\text{th}$ qubits\n",
    "have different z-axis measurement values, representing separate\n",
    "partitions. The objective function $C$ can be considered a diagonal\n",
    "operator with integer eigenvalues.\n",
    "\n",
    "QAOA starts with a uniform superposition over the $n$ bitstring basis\n",
    "states,\n",
    "\n",
    "$$|+_{n}\\rangle = \\frac{1}{\\sqrt{2^n}}\\sum_{z\\in \\{0,1\\}^n} |z\\rangle.$$\n",
    "\n",
    "We aim to explore the space of bitstring states for a superposition\n",
    "which is likely to yield a large value for the $C$ operator upon\n",
    "performing a measurement in the computational basis. Using the $2p$\n",
    "angle parameters $\\boldsymbol{\\gamma} = \\gamma_1\\gamma_2...\\gamma_p$,\n",
    "$\\boldsymbol{\\beta} = \\beta_1\\beta_2...\\beta_p$ we perform a sequence of\n",
    "operations on our initial state:\n",
    "\n",
    "$$|\\boldsymbol{\\gamma},\\boldsymbol{\\beta}\\rangle = U_{B_p}U_{C_p}U_{B_{p-1}}U_{C_{p-1}}...U_{B_1}U_{C_1}|+_n\\rangle$$\n",
    "\n",
    "where the operators have the explicit forms\n",
    "\n",
    "$$\\begin{aligned}\n",
    "U_{B_l} &= e^{-i\\beta_lB} = \\prod_{j=1}^n e^{-i\\beta_l\\sigma_x^j}, \\\\\n",
    "U_{C_l} &= e^{-i\\gamma_lC} = \\prod_{\\text{edge (j,k)}} e^{-i\\gamma_l(1-\\sigma_z^j\\sigma_z^k)/2}.\n",
    "\\end{aligned}$$\n",
    "\n",
    "In other words, we make $p$ layers of parametrized $U_bU_C$ gates. These\n",
    "can be implemented on a quantum circuit using the gates depicted below,\n",
    "up to an irrelevant constant that gets absorbed into the parameters.\n",
    "\n",
    "![](https://pennylane.ai/qml/_images/qaoa_operators.png)\n",
    "\n",
    "\n",
    "Let $\\langle \\boldsymbol{\\gamma},\n",
    "\\boldsymbol{\\beta} | C | \\boldsymbol{\\gamma},\\boldsymbol{\\beta} \\rangle$\n",
    "be the expectation of the objective operator. In the next section, we\n",
    "will use PennyLane to perform classical optimization over the circuit\n",
    "parameters $(\\boldsymbol{\\gamma}, \\boldsymbol{\\beta})$. This will\n",
    "specify a state $|\\boldsymbol{\\gamma},\\boldsymbol{\\beta}\\rangle$ which\n",
    "is likely to yield an approximately optimal partition $|z\\rangle$ upon\n",
    "performing a measurement in the computational basis. In the case of the\n",
    "graph shown above, we want to measure either 0101 or 1010 from our state\n",
    "since these correspond to the optimal partitions.\n",
    "\n",
    "![](https://pennylane.ai/qml/_images/qaoa_optimal_state.png)\n",
    "\n",
    "Qualitatively, QAOA tries to evolve the initial state into the plane of\n",
    "the $|0101\\rangle$, $|1010\\rangle$ basis states (see figure above).\n",
    "\n",
    "## QAOA in Pennylane"
   ]
  },
  {
   "cell_type": "code",
   "execution_count": 1,
   "id": "10dfc330-bed2-46d3-a68a-b0883ad93ef6",
   "metadata": {},
   "outputs": [],
   "source": [
    "# imports and setup\n",
    "import pennylane as qml\n",
    "from pennylane import numpy as np\n",
    "\n",
    "np.random.seed(42)"
   ]
  },
  {
   "cell_type": "code",
   "execution_count": 2,
   "id": "46939e26-717d-495b-8ca4-ff0cb5435739",
   "metadata": {},
   "outputs": [],
   "source": [
    "# Operators\n",
    "# U_B acts on individual qubits\n",
    "# U_C acts on qubits whose corresponding vertices are joined by an edge in the graph\n",
    "n_wires = 4\n",
    "graph = [(0, 1), (0, 3), (1, 2), (2, 3)]\n",
    "\n",
    "# unitary operator U_B with parameter beta\n",
    "def U_B(beta):\n",
    "    for wire in range(n_wires):\n",
    "        qml.RX(2 * beta, wires=wire)\n",
    "\n",
    "\n",
    "# unitary operator U_C with parameter gamma\n",
    "def U_C(gamma):\n",
    "    for edge in graph:\n",
    "        wire1 = edge[0]\n",
    "        wire2 = edge[1]\n",
    "        qml.CNOT(wires=[wire1, wire2])\n",
    "        qml.RZ(gamma, wires=wire2)\n",
    "        qml.CNOT(wires=[wire1, wire2])"
   ]
  },
  {
   "cell_type": "code",
   "execution_count": 3,
   "id": "941b03f4-68f3-4c29-8fcc-112a2433788e",
   "metadata": {},
   "outputs": [],
   "source": [
    "def bitstring_to_int(bit_string_sample):\n",
    "    bit_string = \"\".join(str(bs) for bs in bit_string_sample)\n",
    "    return int(bit_string, base=2)"
   ]
  },
  {
   "cell_type": "code",
   "execution_count": 4,
   "id": "1b9c5106-2622-4f3e-8863-26d68cb32774",
   "metadata": {},
   "outputs": [],
   "source": [
    "# create a quantum device\n",
    "dev = qml.device(\"default.qubit\", wires=n_wires, shots=1)\n",
    "# define the circuit\n",
    "@qml.qnode(dev)\n",
    "def circuit(gammas, betas, edge=None, n_layers=1):\n",
    "    # apply Hadamards to get the n qubit |+> state\n",
    "    for wire in range(n_wires):\n",
    "        qml.Hadamard(wires=wire)\n",
    "    # p instances of unitary operators\n",
    "    for i in range(n_layers):\n",
    "        U_C(gammas[i])\n",
    "        U_B(betas[i])\n",
    "    if edge is None:\n",
    "        # measurement phase\n",
    "        return qml.sample()\n",
    "    # during the optimization phase we are evaluating a term\n",
    "    # in the objective using expval\n",
    "    H = qml.PauliZ(edge[0]) @ qml.PauliZ(edge[1])\n",
    "    return qml.expval(H)"
   ]
  },
  {
   "cell_type": "code",
   "execution_count": 5,
   "id": "c35aad23-5f6c-462b-a60d-87d6034a4be6",
   "metadata": {},
   "outputs": [
    {
     "name": "stdout",
     "output_type": "stream",
     "text": [
      "\n",
      "p=1\n",
      "Objective after step     5:  4.0000000\n",
      "Objective after step    10:  3.0000000\n",
      "Objective after step    15:  4.0000000\n",
      "Objective after step    20:  3.0000000\n",
      "Objective after step    25:  3.0000000\n",
      "Objective after step    30:  3.0000000\n",
      "Optimized (gamma, beta) vectors:\n",
      "[[-0.63789432]\n",
      " [ 0.42900392]]\n",
      "Most frequently sampled bit string is: 1010\n",
      "\n",
      "p=2\n",
      "Objective after step     5:  2.0000000\n",
      "Objective after step    10:  4.0000000\n",
      "Objective after step    15:  3.0000000\n",
      "Objective after step    20:  4.0000000\n",
      "Objective after step    25:  4.0000000\n",
      "Objective after step    30:  4.0000000\n",
      "Optimized (gamma, beta) vectors:\n",
      "[[-1.63774005  0.95207792]\n",
      " [-0.36133511 -0.85343068]]\n",
      "Most frequently sampled bit string is: 0101\n"
     ]
    }
   ],
   "source": [
    "# optimization, with gradient descent based optimizer\n",
    "# just like training a neural network\n",
    "def qaoa_maxcut(n_layers=1):\n",
    "    print(\"\\np={:d}\".format(n_layers))\n",
    "\n",
    "    # initialize the parameters near zero\n",
    "    init_params = 0.01 * np.random.rand(2, n_layers, requires_grad=True)\n",
    "\n",
    "    # minimize the negative of the objective function\n",
    "    def objective(params):\n",
    "        gammas = params[0]\n",
    "        betas = params[1]\n",
    "        neg_obj = 0\n",
    "        for edge in graph:\n",
    "            # objective for the MaxCut problem\n",
    "            neg_obj -= 0.5 * (1 - circuit(gammas, betas, edge=edge, n_layers=n_layers))\n",
    "        return neg_obj\n",
    "\n",
    "    # initialize optimizer: Adagrad works well empirically\n",
    "    opt = qml.AdagradOptimizer(stepsize=0.5)\n",
    "\n",
    "    # optimize parameters in objective\n",
    "    params = init_params\n",
    "    steps = 30\n",
    "    for i in range(steps):\n",
    "        params = opt.step(objective, params)\n",
    "        if (i + 1) % 5 == 0:\n",
    "            print(\"Objective after step {:5d}: {: .7f}\".format(i + 1, -objective(params)))\n",
    "\n",
    "    # sample measured bitstrings 100 times\n",
    "    bit_strings = []\n",
    "    n_samples = 100\n",
    "    for i in range(0, n_samples):\n",
    "        bit_strings.append(bitstring_to_int(circuit(params[0], params[1], edge=None, n_layers=n_layers)))\n",
    "\n",
    "    # print optimal parameters and most frequently sampled bitstring\n",
    "    counts = np.bincount(np.array(bit_strings))\n",
    "    most_freq_bit_string = np.argmax(counts)\n",
    "    print(\"Optimized (gamma, beta) vectors:\\n{}\".format(params[:, :n_layers]))\n",
    "    print(\"Most frequently sampled bit string is: {:04b}\".format(most_freq_bit_string))\n",
    "\n",
    "    return -objective(params), bit_strings\n",
    "\n",
    "\n",
    "# perform qaoa on our graph with p=1,2 and\n",
    "# keep the bitstring sample lists\n",
    "bitstrings1 = qaoa_maxcut(n_layers=1)[1]\n",
    "bitstrings2 = qaoa_maxcut(n_layers=2)[1]"
   ]
  },
  {
   "cell_type": "markdown",
   "id": "17a9a166-2981-4707-bf22-cc32b48632c7",
   "metadata": {},
   "source": [
    "In the case where we set `n_layers=2`, we recover the optimal objective\n",
    "function $C=4$"
   ]
  },
  {
   "cell_type": "code",
   "execution_count": 6,
   "id": "bf49c0d4-acfc-4e49-af8c-12b55cabbac8",
   "metadata": {},
   "outputs": [
    {
     "data": {
      "image/png": "[encoded data removed]",
      "text/plain": [
       "<Figure size 576x288 with 2 Axes>"
      ]
     },
     "metadata": {
      "needs_background": "light"
     },
     "output_type": "display_data"
    }
   ],
   "source": [
    "# plot the results\n",
    "import matplotlib.pyplot as plt\n",
    "\n",
    "xticks = range(0, 16)\n",
    "xtick_labels = list(map(lambda x: format(x, \"04b\"), xticks))\n",
    "bins = np.arange(0, 17) - 0.5\n",
    "\n",
    "fig, (ax1, ax2) = plt.subplots(1, 2, figsize=(8, 4))\n",
    "plt.subplot(1, 2, 1)\n",
    "plt.title(\"n_layers=1\")\n",
    "plt.xlabel(\"bitstrings\")\n",
    "plt.ylabel(\"freq.\")\n",
    "plt.xticks(xticks, xtick_labels, rotation=\"vertical\")\n",
    "plt.hist(bitstrings1, bins=bins)\n",
    "plt.subplot(1, 2, 2)\n",
    "plt.title(\"n_layers=2\")\n",
    "plt.xlabel(\"bitstrings\")\n",
    "plt.ylabel(\"freq.\")\n",
    "plt.xticks(xticks, xtick_labels, rotation=\"vertical\")\n",
    "plt.hist(bitstrings2, bins=bins)\n",
    "plt.tight_layout()\n",
    "plt.show()"
   ]
  },
  {
   "cell_type": "markdown",
   "id": "25b948f9-ac87-40d2-beb2-834eb2bc7943",
   "metadata": {},
   "source": [
    "## QAOA with Qiskit\n",
    "Since Qiskit already has an implementation of QAOA, we'll just use it to solve the graph partition problem."
   ]
  },
  {
   "cell_type": "code",
   "execution_count": 7,
   "id": "9fcb4846-ba27-4dc6-934a-4815cc72e70f",
   "metadata": {},
   "outputs": [],
   "source": [
    "import matplotlib.axes as axes\n",
    "import numpy as np\n",
    "import networkx as nx\n",
    "import operator\n",
    "from qiskit import Aer\n",
    "from qiskit.tools.visualization import plot_histogram\n",
    "from qiskit.circuit.library import TwoLocal\n",
    "from qiskit_optimization.applications import Maxcut, Tsp\n",
    "from qiskit.algorithms import VQE, NumPyMinimumEigensolver\n",
    "from qiskit.algorithms.optimizers import SPSA\n",
    "from qiskit.utils import algorithm_globals, QuantumInstance\n",
    "from qiskit_optimization.algorithms import MinimumEigenOptimizer\n",
    "from qiskit_optimization.problems import QuadraticProgram\n",
    "from collections import OrderedDict"
   ]
  },
  {
   "cell_type": "code",
   "execution_count": 8,
   "id": "a4defd15-007e-4691-8dda-0a61cb886684",
   "metadata": {},
   "outputs": [
    {
     "data": {
      "image/png": "[encoded data removed]",
      "text/plain": [
       "<Figure size 432x288 with 1 Axes>"
      ]
     },
     "metadata": {},
     "output_type": "display_data"
    }
   ],
   "source": [
    "# construct the graph\n",
    "n = 4\n",
    "G = nx.Graph()\n",
    "G.add_nodes_from(np.arange(0, n, 1))\n",
    "elist = graph\n",
    "G.add_edges_from(elist)\n",
    "colors = [\"#00b4d9\" for node in G.nodes()]\n",
    "pos = nx.spring_layout(G,seed=42)\n",
    "def draw_graph(G, colors, pos):\n",
    "    default_axes = plt.axes(frameon=False)\n",
    "    nx.draw_networkx(G, node_color=colors, node_size=300, alpha=0.8, pos=pos, ax=default_axes)\n",
    "    #edge_labels = nx.get_edge_attributes(G, \"weight\")\n",
    "    #nx.draw_networkx_edge_labels(G, pos=pos, edge_labels=edge_labels)\n",
    "    plt.show()\n",
    "draw_graph(G, colors, pos)"
   ]
  },
  {
   "cell_type": "code",
   "execution_count": 9,
   "id": "4bee5e5e-532e-41e7-80a7-c72c6cdd485f",
   "metadata": {},
   "outputs": [
    {
     "name": "stdout",
     "output_type": "stream",
     "text": [
      "[[0. 1. 0. 1.]\n",
      " [1. 0. 1. 0.]\n",
      " [0. 1. 0. 1.]\n",
      " [1. 0. 1. 0.]]\n"
     ]
    }
   ],
   "source": [
    "# Computing the weight matrix from the graph\n",
    "w = np.zeros([n, n])\n",
    "for i in range(n):\n",
    "    for j in range(n):\n",
    "        temp = G.get_edge_data(i, j, default=0)\n",
    "        if temp != 0:\n",
    "            w[i, j] = 1\n",
    "print(w)"
   ]
  },
  {
   "cell_type": "code",
   "execution_count": 10,
   "id": "dd5f9ba6-a40f-43a9-afcb-83e12eebe87b",
   "metadata": {},
   "outputs": [
    {
     "name": "stdout",
     "output_type": "stream",
     "text": [
      "case = [0, 0, 0, 0] cost = 0.0\n",
      "case = [1, 0, 0, 0] cost = 2.0\n",
      "case = [0, 1, 0, 0] cost = 2.0\n",
      "case = [1, 1, 0, 0] cost = 2.0\n",
      "case = [0, 0, 1, 0] cost = 2.0\n",
      "case = [1, 0, 1, 0] cost = 4.0\n",
      "case = [0, 1, 1, 0] cost = 2.0\n",
      "case = [1, 1, 1, 0] cost = 2.0\n",
      "case = [0, 0, 0, 1] cost = 2.0\n",
      "case = [1, 0, 0, 1] cost = 2.0\n",
      "case = [0, 1, 0, 1] cost = 4.0\n",
      "case = [1, 1, 0, 1] cost = 2.0\n",
      "case = [0, 0, 1, 1] cost = 2.0\n",
      "case = [1, 0, 1, 1] cost = 2.0\n",
      "case = [0, 1, 1, 1] cost = 2.0\n",
      "case = [1, 1, 1, 1] cost = 0.0\n",
      "All Solutions:\n",
      " {'[1, 0, 1, 0]': 4.0, '[0, 1, 0, 1]': 4.0, '[1, 0, 0, 0]': 2.0, '[0, 1, 0, 0]': 2.0, '[1, 1, 0, 0]': 2.0, '[0, 0, 1, 0]': 2.0, '[0, 1, 1, 0]': 2.0, '[1, 1, 1, 0]': 2.0, '[0, 0, 0, 1]': 2.0, '[1, 0, 0, 1]': 2.0, '[1, 1, 0, 1]': 2.0, '[0, 0, 1, 1]': 2.0, '[1, 0, 1, 1]': 2.0, '[0, 1, 1, 1]': 2.0, '[0, 0, 0, 0]': 0.0, '[1, 1, 1, 1]': 0.0}\n",
      "\n",
      "Best solution = [1, 0, 1, 0] cost = 4.0\n"
     ]
    },
    {
     "data": {
      "image/png": "[encoded data removed]",
      "text/plain": [
       "<Figure size 432x288 with 1 Axes>"
      ]
     },
     "metadata": {},
     "output_type": "display_data"
    }
   ],
   "source": [
    "# use the brute force method\n",
    "best_cost_brute = 0\n",
    "cases = {}\n",
    "for b in range(2**n):\n",
    "    x = [int(t) for t in reversed(list(bin(b)[2:].zfill(n)))]\n",
    "    cost = 0\n",
    "    for i in range(n):\n",
    "        for j in range(n):\n",
    "            cost = cost + w[i, j] * x[i] * (1 - x[j])\n",
    "    if best_cost_brute < cost:\n",
    "        best_cost_brute = cost\n",
    "        xbest_brute = x\n",
    "    print(\"case = \" + str(x) + \" cost = \" + str(cost))\n",
    "    cases[str(x)] = cost\n",
    "cases = dict(sorted(cases.items(), key=operator.itemgetter(1),reverse=True))\n",
    "print(\"All Solutions:\\n\", cases)\n",
    "print(\"\\nBest solution = \" + str(xbest_brute) + \" cost = \" + str(best_cost_brute))\n",
    "colors = [\"r\" if xbest_brute[i] == 0 else \"c\" for i in range(n)]\n",
    "draw_graph(G, colors, pos)"
   ]
  },
  {
   "cell_type": "code",
   "execution_count": 11,
   "id": "dd878ef0-c3e0-4c46-b939-99a42f5addb4",
   "metadata": {},
   "outputs": [
    {
     "name": "stdout",
     "output_type": "stream",
     "text": [
      "\\ This file has been generated by DOcplex\n",
      "\\ ENCODING=ISO-8859-1\n",
      "\\Problem name: Max-cut\n",
      "\n",
      "Maximize\n",
      " obj: 2 x_0 + 2 x_1 + 2 x_2 + 2 x_3 + [ - 4 x_0*x_1 - 4 x_0*x_3 - 4 x_1*x_2\n",
      "      - 4 x_2*x_3 ]/2\n",
      "Subject To\n",
      "\n",
      "Bounds\n",
      " 0 <= x_0 <= 1\n",
      " 0 <= x_1 <= 1\n",
      " 0 <= x_2 <= 1\n",
      " 0 <= x_3 <= 1\n",
      "\n",
      "Binaries\n",
      " x_0 x_1 x_2 x_3\n",
      "End\n",
      "\n",
      "Offset: -2.0\n",
      "Ising Hamiltonian:\n",
      "0.5 * IIZZ\n",
      "+ 0.5 * IZZI\n",
      "+ 0.5 * ZIIZ\n",
      "+ 0.5 * ZZII\n"
     ]
    }
   ],
   "source": [
    "# use the Maxcut class in Qiskit\n",
    "max_cut = Maxcut(w)\n",
    "qp = max_cut.to_quadratic_program()\n",
    "print(qp.export_as_lp_string())\n",
    "qubitOp, offset = qp.to_ising()\n",
    "print(\"Offset:\", offset)\n",
    "print(\"Ising Hamiltonian:\")\n",
    "print(str(qubitOp))"
   ]
  },
  {
   "cell_type": "code",
   "execution_count": 12,
   "id": "d433722a-73cc-46a9-a597-044cfd937df7",
   "metadata": {},
   "outputs": [
    {
     "name": "stdout",
     "output_type": "stream",
     "text": [
      "fval=4.0, x_0=1.0, x_1=0.0, x_2=1.0, x_3=0.0, status=SUCCESS\n"
     ]
    }
   ],
   "source": [
    "# solving Quadratic Program using exact classical eigensolver\n",
    "exact = MinimumEigenOptimizer(NumPyMinimumEigensolver())\n",
    "result = exact.solve(qp)\n",
    "print(result)"
   ]
  },
  {
   "cell_type": "code",
   "execution_count": 13,
   "id": "05e7a394-85c0-4d15-8109-f088c64743d5",
   "metadata": {},
   "outputs": [
    {
     "name": "stdout",
     "output_type": "stream",
     "text": [
      "energy: -2.0\n",
      "max-cut objective: -4.0\n",
      "solution: [1 0 1 0]\n",
      "solution objective: 4.0\n"
     ]
    },
    {
     "data": {
      "image/png": "[encoded data removed]",
      "text/plain": [
       "<Figure size 432x288 with 1 Axes>"
      ]
     },
     "metadata": {},
     "output_type": "display_data"
    }
   ],
   "source": [
    "# Making the Hamiltonian in its full form and getting the lowest eigenvalue and eigenvector\n",
    "# with the exact classical eigensolver\n",
    "ee = NumPyMinimumEigensolver()\n",
    "result = ee.compute_minimum_eigenvalue(qubitOp)\n",
    "\n",
    "x = max_cut.sample_most_likely(result.eigenstate)\n",
    "print(\"energy:\", result.eigenvalue.real)\n",
    "print(\"max-cut objective:\", result.eigenvalue.real + offset)\n",
    "print(\"solution:\", x)\n",
    "print(\"solution objective:\", qp.objective.evaluate(x))\n",
    "\n",
    "colors = [\"r\" if x[i] == 0 else \"c\" for i in range(n)]\n",
    "draw_graph(G, colors, pos)"
   ]
  },
  {
   "cell_type": "code",
   "execution_count": 14,
   "id": "8c343716-e22f-43f0-9dbd-28236a897e8d",
   "metadata": {},
   "outputs": [
    {
     "name": "stdout",
     "output_type": "stream",
     "text": [
      "energy: -1.9995900934685757\n",
      "time: 1.3063788414001465\n",
      "max-cut objective: -3.9995900934685755\n",
      "solution: [0. 1. 0. 1.]\n",
      "solution objective: 4.0\n"
     ]
    },
    {
     "data": {
      "image/png": "[encoded data removed]",
      "text/plain": [
       "<Figure size 432x288 with 1 Axes>"
      ]
     },
     "metadata": {},
     "output_type": "display_data"
    }
   ],
   "source": [
    "# Calculate the eigensystems with VQE\n",
    "algorithm_globals.random_seed = 123\n",
    "seed = 10598\n",
    "backend = Aer.get_backend(\"aer_simulator_statevector\")\n",
    "quantum_instance = QuantumInstance(backend, seed_simulator=seed, seed_transpiler=seed)\n",
    "\n",
    "# construct VQE\n",
    "spsa = SPSA(maxiter=300)\n",
    "ry = TwoLocal(qubitOp.num_qubits, \"ry\", \"cz\", reps=5, entanglement=\"linear\")\n",
    "vqe = VQE(ry, optimizer=spsa, quantum_instance=quantum_instance)\n",
    "\n",
    "# run VQE\n",
    "result = vqe.compute_minimum_eigenvalue(qubitOp)\n",
    "\n",
    "# print results\n",
    "x = max_cut.sample_most_likely(result.eigenstate)\n",
    "print(\"energy:\", result.eigenvalue.real)\n",
    "print(\"time:\", result.optimizer_time)\n",
    "print(\"max-cut objective:\", result.eigenvalue.real + offset)\n",
    "print(\"solution:\", x)\n",
    "print(\"solution objective:\", qp.objective.evaluate(x))\n",
    "\n",
    "# plot results\n",
    "colors = [\"r\" if x[i] == 0 else \"c\" for i in range(n)]\n",
    "draw_graph(G, colors, pos)"
   ]
  },
  {
   "cell_type": "code",
   "execution_count": 15,
   "id": "13912664-033c-4605-8885-18af58d4b9fa",
   "metadata": {},
   "outputs": [
    {
     "name": "stdout",
     "output_type": "stream",
     "text": [
      "fval=4.0, x_0=1.0, x_1=0.0, x_2=1.0, x_3=0.0, status=SUCCESS\n"
     ]
    },
    {
     "data": {
      "image/png": "[encoded data removed]",
      "text/plain": [
       "<Figure size 432x288 with 1 Axes>"
      ]
     },
     "metadata": {},
     "output_type": "display_data"
    }
   ],
   "source": [
    "# create minimum eigen optimizer based on VQE\n",
    "vqe_optimizer = MinimumEigenOptimizer(vqe)\n",
    "\n",
    "# solve quadratic program\n",
    "result = vqe_optimizer.solve(qp)\n",
    "print(result)\n",
    "\n",
    "colors = [\"r\" if result.x[i] == 0 else \"c\" for i in range(n)]\n",
    "draw_graph(G, colors, pos)"
   ]
  },
  {
   "cell_type": "code",
   "execution_count": null,
   "id": "8894d850-1431-4a50-8f3c-b242a9f46aca",
   "metadata": {},
   "outputs": [],
   "source": []
  }
 ],
 "metadata": {
  "kernelspec": {
   "display_name": "Python 3 (ipykernel)",
   "language": "python",
   "name": "python3"
  },
  "language_info": {
   "codemirror_mode": {
    "name": "ipython",
    "version": 3
   },
   "file_extension": ".py",
   "mimetype": "text/x-python",
   "name": "python",
   "nbconvert_exporter": "python",
   "pygments_lexer": "ipython3",
   "version": "3.9.12"
  }
 },
 "nbformat": 4,
 "nbformat_minor": 5
}
