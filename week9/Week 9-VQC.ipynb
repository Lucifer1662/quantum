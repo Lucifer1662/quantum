{
 "cells": [
  {
   "cell_type": "markdown",
   "metadata": {},
   "source": [
    "# COMP90084 Workshop Week 9 - VQC\n",
    "In this tutorial, we show how to use PennyLane to implement variational\n",
    "quantum classifiers - quantum circuits that can be trained from labelled\n",
    "data to classify new data samples. The architecture is inspired by\n",
    "[Farhi and Neven (2018)](https://arxiv.org/abs/1802.06002) as well as\n",
    "[Schuld et al. (2018)](https://arxiv.org/abs/1804.00633)."
   ]
  },
  {
   "cell_type": "code",
   "execution_count": 1,
   "metadata": {},
   "outputs": [],
   "source": [
    "import pennylane as qml\n",
    "from pennylane import numpy as np\n",
    "import matplotlib.pyplot as plt\n",
    "plt.rcParams[\"figure.dpi\"] = 100"
   ]
  },
  {
   "cell_type": "markdown",
   "metadata": {},
   "source": [
    "## Load the Data from the Text File"
   ]
  },
  {
   "cell_type": "code",
   "execution_count": 2,
   "metadata": {},
   "outputs": [
    {
     "name": "stdout",
     "output_type": "stream",
     "text": [
      "Size of the data:  (100, 5)\n",
      "First X sample:  [0.4  0.05]\n",
      "Label for the first X sample: -1.0\n",
      "First X sample (normalized):  [0.79602975 0.09950372 0.59702231 0.        ]\n",
      "Label (processed) for the first X sample: [1. 0.]\n"
     ]
    }
   ],
   "source": [
    "data = np.loadtxt(\"iris_classes1and2_scaled.txt\")\n",
    "print(\"Size of the data: \",data.shape)\n",
    "X = data[:, [0, 3]] #data[:, 0:4]\n",
    "Y = data[:,4]\n",
    "print(\"First X sample: \", X[0])\n",
    "print(\"Label for the first X sample:\", Y[0])\n",
    "padding = 0.3 * np.ones((len(X), 1))\n",
    "X_pad = np.c_[np.c_[X, padding], np.zeros((len(X), 1))] if X.shape[1] == 2 else X\n",
    "# normalize the inputs\n",
    "normalization = np.sqrt(np.sum(X_pad**2, -1))\n",
    "X_norm = np.array((X_pad.T/normalization).T, requires_grad=False)\n",
    "print(\"First X sample (normalized): \", X_norm[0])\n",
    "# change -1 in Y to 0\n",
    "Y_01 = np.array(np.maximum(Y, 0).astype(int), requires_grad=False)\n",
    "Y_processed = np.zeros((X.shape[0], 2), requires_grad=False)\n",
    "for i in range(len(Y_01)):\n",
    "    Y_processed[i, Y_01[i]] = 1\n",
    "print(\"Label (processed) for the first X sample:\", Y_processed[0])"
   ]
  },
  {
   "cell_type": "markdown",
   "metadata": {},
   "source": [
    "## Data Encoding\n",
    "To encode the data into the amplitudes of a quantum state, we use a 2-qubit simulator. \n",
    "\n",
    "State preparation is simple. Every input x has to be translated into a set of angles\n",
    "which can get fed into a small routine for state preparation. To\n",
    "simplify things a bit, we will work with data from the positive\n",
    "subspace, so that we can ignore signs (which would require another\n",
    "cascade of rotations around the z axis).\n",
    "\n",
    "The circuit is coded according to the scheme in [Möttönen, et al.\n",
    "(2004)](https://arxiv.org/abs/quant-ph/0407010), or—as presented for\n",
    "positive vectors only—in [Schuld and Petruccione\n",
    "(2018)](https://link.springer.com/book/10.1007/978-3-319-96424-9). \n",
    ")"
   ]
  },
  {
   "cell_type": "code",
   "execution_count": 3,
   "metadata": {},
   "outputs": [],
   "source": [
    "dev = qml.device(\"default.qubit\", wires=2) \n",
    "def get_angles(x):\n",
    "\n",
    "    beta0 = 2 * np.arcsin(np.sqrt(x[1] ** 2) / np.sqrt(x[0] ** 2 + x[1] ** 2 + 1e-12))\n",
    "    beta1 = 2 * np.arcsin(np.sqrt(x[3] ** 2) / np.sqrt(x[2] ** 2 + x[3] ** 2 + 1e-12))\n",
    "    beta2 = 2 * np.arcsin(\n",
    "        np.sqrt(x[2] ** 2 + x[3] ** 2)\n",
    "        / np.sqrt(x[0] ** 2 + x[1] ** 2 + x[2] ** 2 + x[3] ** 2)\n",
    "    )\n",
    "\n",
    "    return np.array([beta2, -beta1 / 2, beta1 / 2, -beta0 / 2, beta0 / 2])\n",
    "\n",
    "\n",
    "def statepreparation(a):\n",
    "    qml.RY(a[0], wires=0)\n",
    "\n",
    "    qml.CNOT(wires=[0, 1])\n",
    "    qml.RY(a[1], wires=1)\n",
    "    qml.CNOT(wires=[0, 1])\n",
    "    qml.RY(a[2], wires=1)\n",
    "\n",
    "    qml.PauliX(wires=0)\n",
    "    qml.CNOT(wires=[0, 1])\n",
    "    qml.RY(a[3], wires=1)\n",
    "    qml.CNOT(wires=[0, 1])\n",
    "    qml.RY(a[4], wires=1)\n",
    "    qml.PauliX(wires=0)"
   ]
  },
  {
   "cell_type": "markdown",
   "metadata": {},
   "source": [
    "Test the encoding circuit"
   ]
  },
  {
   "cell_type": "code",
   "execution_count": 4,
   "metadata": {},
   "outputs": [
    {
     "name": "stdout",
     "output_type": "stream",
     "text": [
      "x               :  [0.79602975 0.09950372 0.59702231 0.        ]\n",
      "angles          :  [ 1.27956835 -0.          0.         -0.12435499  0.12435499]\n",
      "amplitude vector:  [0.79602975 0.09950372 0.59702231 0.        ]\n",
      "0: ──RY(1.28)─╭●────────────╭●──X────────╭●────────────╭●──X────────┤  <Z>\n",
      "1: ───────────╰X──RY(-0.00)─╰X──RY(0.00)─╰X──RY(-0.12)─╰X──RY(0.12)─┤     \n"
     ]
    }
   ],
   "source": [
    "test_angles = get_angles(X_norm[0])\n",
    "\n",
    "@qml.qnode(dev)\n",
    "def test_(angles):\n",
    "    statepreparation(angles)\n",
    "    return qml.expval(qml.PauliZ(0))\n",
    "\n",
    "test_(test_angles)\n",
    "print(\"x               : \", X_norm[0])\n",
    "print(\"angles          : \", test_angles)\n",
    "print(\"amplitude vector: \", np.real(dev.state))\n",
    "print(qml.draw(test_)(test_angles))"
   ]
  },
  {
   "cell_type": "markdown",
   "metadata": {},
   "source": [
    "## Variational Layers and Cost Function\n",
    "In this notebook, we will use the cross entropy between the target and predicted label for our binary classification task. For binary classification, if the predicted label is between 0 and 1, then the crossed entropy between the target $y$ and the predicted $p$ can be calculated as (see https://ml-cheatsheet.readthedocs.io/en/latest/loss_functions.html#cross-entropy):\n",
    "\n",
    "$$\n",
    "-[y \\log (p)+(1-y) \\log (1-p)]\n",
    "$$"
   ]
  },
  {
   "cell_type": "code",
   "execution_count": 9,
   "metadata": {},
   "outputs": [],
   "source": [
    "def cross_entropy(y, p):\n",
    "    loss_array = -y*np.log(p)\n",
    "    loss_array = np.sum(loss_array, axis=-1)\n",
    "    return np.mean(loss_array)\n",
    "\n",
    "def layer(W):\n",
    "    qml.Rot(W[0, 0], W[0, 1], W[0, 2], wires=0)\n",
    "    qml.Rot(W[1, 0], W[1, 1], W[1, 2], wires=1)\n",
    "    qml.CNOT(wires=[0, 1])\n",
    "\n",
    "@qml.qnode(dev)\n",
    "def circuit(weights, angles):\n",
    "    statepreparation(angles)\n",
    "    for W in weights:\n",
    "        layer(W)\n",
    "    return qml.probs(wires=0) # sample the probibilities on the first qubit, returns a 2D vector, first element is the probability for |0> and second is for |1>\n",
    "\n",
    "def variational_classifier(weight, angles):\n",
    "    return circuit(weight, angles)\n",
    "\n",
    "def accuracy(labels, predictions):\n",
    "    acc = 0\n",
    "    for l, p in zip(labels, predictions):\n",
    "        if l==p:\n",
    "            acc = acc + 1\n",
    "    acc = acc / len(labels)\n",
    "\n",
    "    return acc\n",
    "\n",
    "def cost(weights, features, labels):\n",
    "    predictions = np.array([variational_classifier(weights, f) for f in features])\n",
    "    c = cross_entropy(labels, predictions)\n",
    "    print(\"cost: \", c)\n",
    "    return c"
   ]
  },
  {
   "cell_type": "code",
   "execution_count": 7,
   "metadata": {},
   "outputs": [
    {
     "name": "stdout",
     "output_type": "stream",
     "text": [
      "0: ──RY(1.28)─╭●────────────╭●──X────────╭●────────────╭●──X─────────Rot(0.00,-0.00,0.01)──╭●\n",
      "1: ───────────╰X──RY(-0.00)─╰X──RY(0.00)─╰X──RY(-0.12)─╰X──RY(0.12)──Rot(0.01,-0.00,-0.01)─╰X\n",
      "\n",
      "───Rot(-0.00,-0.01,-0.01)─╭●──Rot(0.00,-0.02,0.00)──╭●──Rot(-0.01,0.00,-0.01)─╭●\n",
      "───Rot(-0.00,0.01,0.02)───╰X──Rot(-0.01,-0.00,0.00)─╰X──Rot(0.01,0.00,-0.01)──╰X\n",
      "\n",
      "───Rot(0.01,-0.01,0.02)─╭●──Rot(-0.00,0.01,0.00)─╭●──Rot(0.01,-0.00,0.01)─╭●──Rot(0.01,0.00,-0.01)\n",
      "───Rot(0.02,-0.01,0.00)─╰X──Rot(0.01,0.01,-0.01)─╰X──Rot(0.00,0.01,0.01)──╰X──Rot(0.02,-0.00,0.00)\n",
      "\n",
      "──╭●──Rot(0.01,-0.01,0.01)───╭●──Rot(0.01,-0.02,0.02)─╭●─┤  Probs\n",
      "──╰X──Rot(-0.01,-0.01,-0.00)─╰X──Rot(0.02,0.01,0.01)──╰X─┤       \n"
     ]
    }
   ],
   "source": [
    "\n",
    "print(qml.draw(circuit)(var_init, test_angles))\n"
   ]
  },
  {
   "cell_type": "markdown",
   "metadata": {},
   "source": [
    "## Optimization"
   ]
  },
  {
   "cell_type": "code",
   "execution_count": 11,
   "metadata": {},
   "outputs": [
    {
     "name": "stdout",
     "output_type": "stream",
     "text": [
      "cost:  2.7172017551201804\n"
     ]
    },
    {
     "name": "stderr",
     "output_type": "stream",
     "text": [
      "/home/vscode/.local/lib/python3.10/site-packages/autograd/tracer.py:14: UserWarning: Output seems independent of input.\n",
      "  warnings.warn(\"Output seems independent of input.\")\n"
     ]
    },
    {
     "name": "stdout",
     "output_type": "stream",
     "text": [
      "cost:  2.3677840005864965\n",
      "Iter:     1 | Cost: 2.3677840 | Acc train: 0.3333333 | Acc validation: 0.3600000 \n",
      "cost:  1.4932576676242166\n",
      "cost:  2.3677840005864965\n",
      "Iter:     2 | Cost: 2.3677840 | Acc train: 0.3333333 | Acc validation: 0.3600000 \n",
      "cost:  1.9556538410616433\n",
      "cost:  2.3677840005864965\n",
      "Iter:     3 | Cost: 2.3677840 | Acc train: 0.3333333 | Acc validation: 0.3600000 \n",
      "cost:  1.6275574566733346\n",
      "cost:  2.3677840005864965\n",
      "Iter:     4 | Cost: 2.3677840 | Acc train: 0.3333333 | Acc validation: 0.3600000 \n",
      "cost:  1.2825196185805725\n",
      "cost:  2.3677840005864965\n",
      "Iter:     5 | Cost: 2.3677840 | Acc train: 0.3333333 | Acc validation: 0.3600000 \n",
      "cost:  1.894685156316951\n",
      "cost:  2.3677840005864965\n",
      "Iter:     6 | Cost: 2.3677840 | Acc train: 0.3333333 | Acc validation: 0.3600000 \n",
      "cost:  1.720463389557278\n"
     ]
    },
    {
     "ename": "KeyboardInterrupt",
     "evalue": "",
     "output_type": "error",
     "traceback": [
      "\u001b[0;31m---------------------------------------------------------------------------\u001b[0m",
      "\u001b[0;31mKeyboardInterrupt\u001b[0m                         Traceback (most recent call last)",
      "Cell \u001b[0;32mIn [11], line 36\u001b[0m\n\u001b[1;32m     33\u001b[0m var \u001b[38;5;241m=\u001b[39m opt\u001b[38;5;241m.\u001b[39mstep(\u001b[38;5;28;01mlambda\u001b[39;00m v: cost(v, feats_train_batch, Y_train_batch), var)\n\u001b[1;32m     35\u001b[0m \u001b[38;5;66;03m# Compute predictions on train and validation set\u001b[39;00m\n\u001b[0;32m---> 36\u001b[0m predictions_train \u001b[38;5;241m=\u001b[39m np\u001b[38;5;241m.\u001b[39margmax(np\u001b[38;5;241m.\u001b[39marray([variational_classifier(var, f) \u001b[38;5;28;01mfor\u001b[39;00m f \u001b[38;5;129;01min\u001b[39;00m feats_train]), axis\u001b[38;5;241m=\u001b[39m\u001b[38;5;241m-\u001b[39m\u001b[38;5;241m1\u001b[39m)\n\u001b[1;32m     37\u001b[0m predictions_val \u001b[38;5;241m=\u001b[39mnp\u001b[38;5;241m.\u001b[39margmax(np\u001b[38;5;241m.\u001b[39marray([variational_classifier(var, f) \u001b[38;5;28;01mfor\u001b[39;00m f \u001b[38;5;129;01min\u001b[39;00m feats_val]), axis\u001b[38;5;241m=\u001b[39m\u001b[38;5;241m-\u001b[39m\u001b[38;5;241m1\u001b[39m)\n\u001b[1;32m     39\u001b[0m \u001b[38;5;66;03m# Compute accuracy on train and validation set\u001b[39;00m\n",
      "Cell \u001b[0;32mIn [11], line 36\u001b[0m, in \u001b[0;36m<listcomp>\u001b[0;34m(.0)\u001b[0m\n\u001b[1;32m     33\u001b[0m var \u001b[38;5;241m=\u001b[39m opt\u001b[38;5;241m.\u001b[39mstep(\u001b[38;5;28;01mlambda\u001b[39;00m v: cost(v, feats_train_batch, Y_train_batch), var)\n\u001b[1;32m     35\u001b[0m \u001b[38;5;66;03m# Compute predictions on train and validation set\u001b[39;00m\n\u001b[0;32m---> 36\u001b[0m predictions_train \u001b[38;5;241m=\u001b[39m np\u001b[38;5;241m.\u001b[39margmax(np\u001b[38;5;241m.\u001b[39marray([\u001b[43mvariational_classifier\u001b[49m\u001b[43m(\u001b[49m\u001b[43mvar\u001b[49m\u001b[43m,\u001b[49m\u001b[43m \u001b[49m\u001b[43mf\u001b[49m\u001b[43m)\u001b[49m \u001b[38;5;28;01mfor\u001b[39;00m f \u001b[38;5;129;01min\u001b[39;00m feats_train]), axis\u001b[38;5;241m=\u001b[39m\u001b[38;5;241m-\u001b[39m\u001b[38;5;241m1\u001b[39m)\n\u001b[1;32m     37\u001b[0m predictions_val \u001b[38;5;241m=\u001b[39mnp\u001b[38;5;241m.\u001b[39margmax(np\u001b[38;5;241m.\u001b[39marray([variational_classifier(var, f) \u001b[38;5;28;01mfor\u001b[39;00m f \u001b[38;5;129;01min\u001b[39;00m feats_val]), axis\u001b[38;5;241m=\u001b[39m\u001b[38;5;241m-\u001b[39m\u001b[38;5;241m1\u001b[39m)\n\u001b[1;32m     39\u001b[0m \u001b[38;5;66;03m# Compute accuracy on train and validation set\u001b[39;00m\n",
      "Cell \u001b[0;32mIn [9], line 19\u001b[0m, in \u001b[0;36mvariational_classifier\u001b[0;34m(weight, angles)\u001b[0m\n\u001b[1;32m     18\u001b[0m \u001b[38;5;28;01mdef\u001b[39;00m \u001b[38;5;21mvariational_classifier\u001b[39m(weight, angles):\n\u001b[0;32m---> 19\u001b[0m     \u001b[38;5;28;01mreturn\u001b[39;00m \u001b[43mcircuit\u001b[49m\u001b[43m(\u001b[49m\u001b[43mweight\u001b[49m\u001b[43m,\u001b[49m\u001b[43m \u001b[49m\u001b[43mangles\u001b[49m\u001b[43m)\u001b[49m\n",
      "File \u001b[0;32m~/.local/lib/python3.10/site-packages/pennylane/qnode.py:661\u001b[0m, in \u001b[0;36mQNode.__call__\u001b[0;34m(self, *args, **kwargs)\u001b[0m\n\u001b[1;32m    657\u001b[0m             res \u001b[39m=\u001b[39m \u001b[39mtuple\u001b[39m(res)\n\u001b[1;32m    659\u001b[0m     \u001b[39mreturn\u001b[39;00m res\n\u001b[0;32m--> 661\u001b[0m res \u001b[39m=\u001b[39m qml\u001b[39m.\u001b[39;49mexecute(\n\u001b[1;32m    662\u001b[0m     [\u001b[39mself\u001b[39;49m\u001b[39m.\u001b[39;49mtape],\n\u001b[1;32m    663\u001b[0m     device\u001b[39m=\u001b[39;49m\u001b[39mself\u001b[39;49m\u001b[39m.\u001b[39;49mdevice,\n\u001b[1;32m    664\u001b[0m     gradient_fn\u001b[39m=\u001b[39;49m\u001b[39mself\u001b[39;49m\u001b[39m.\u001b[39;49mgradient_fn,\n\u001b[1;32m    665\u001b[0m     interface\u001b[39m=\u001b[39;49m\u001b[39mself\u001b[39;49m\u001b[39m.\u001b[39;49minterface,\n\u001b[1;32m    666\u001b[0m     gradient_kwargs\u001b[39m=\u001b[39;49m\u001b[39mself\u001b[39;49m\u001b[39m.\u001b[39;49mgradient_kwargs,\n\u001b[1;32m    667\u001b[0m     override_shots\u001b[39m=\u001b[39;49moverride_shots,\n\u001b[1;32m    668\u001b[0m     \u001b[39m*\u001b[39;49m\u001b[39m*\u001b[39;49m\u001b[39mself\u001b[39;49m\u001b[39m.\u001b[39;49mexecute_kwargs,\n\u001b[1;32m    669\u001b[0m )\n\u001b[1;32m    671\u001b[0m \u001b[39mif\u001b[39;00m autograd\u001b[39m.\u001b[39misinstance(res, (\u001b[39mtuple\u001b[39m, \u001b[39mlist\u001b[39m)) \u001b[39mand\u001b[39;00m \u001b[39mlen\u001b[39m(res) \u001b[39m==\u001b[39m \u001b[39m1\u001b[39m:\n\u001b[1;32m    672\u001b[0m     \u001b[39m# If a device batch transform was applied, we need to 'unpack'\u001b[39;00m\n\u001b[1;32m    673\u001b[0m     \u001b[39m# the returned tuple/list to a float.\u001b[39;00m\n\u001b[0;32m   (...)\u001b[0m\n\u001b[1;32m    680\u001b[0m     \u001b[39m# TODO: find a more explicit way of determining that a batch transform\u001b[39;00m\n\u001b[1;32m    681\u001b[0m     \u001b[39m# was applied.\u001b[39;00m\n\u001b[1;32m    683\u001b[0m     res \u001b[39m=\u001b[39m res[\u001b[39m0\u001b[39m]\n",
      "File \u001b[0;32m~/.local/lib/python3.10/site-packages/pennylane/interfaces/execution.py:370\u001b[0m, in \u001b[0;36mexecute\u001b[0;34m(tapes, device, gradient_fn, interface, mode, gradient_kwargs, cache, cachesize, max_diff, override_shots, expand_fn, max_expansion, device_batch_transform)\u001b[0m\n\u001b[1;32m    366\u001b[0m     \u001b[39mreturn\u001b[39;00m batch_fn(res)\n\u001b[1;32m    368\u001b[0m \u001b[39mif\u001b[39;00m gradient_fn \u001b[39m==\u001b[39m \u001b[39m\"\u001b[39m\u001b[39mbackprop\u001b[39m\u001b[39m\"\u001b[39m \u001b[39mor\u001b[39;00m interface \u001b[39mis\u001b[39;00m \u001b[39mNone\u001b[39;00m:\n\u001b[1;32m    369\u001b[0m     \u001b[39mreturn\u001b[39;00m batch_fn(\n\u001b[0;32m--> 370\u001b[0m         qml\u001b[39m.\u001b[39;49minterfaces\u001b[39m.\u001b[39;49mcache_execute(\n\u001b[1;32m    371\u001b[0m             batch_execute, cache, return_tuple\u001b[39m=\u001b[39;49m\u001b[39mFalse\u001b[39;49;00m, expand_fn\u001b[39m=\u001b[39;49mexpand_fn\n\u001b[1;32m    372\u001b[0m         )(tapes)\n\u001b[1;32m    373\u001b[0m     )\n\u001b[1;32m    375\u001b[0m \u001b[39m# the default execution function is batch_execute\u001b[39;00m\n\u001b[1;32m    376\u001b[0m execute_fn \u001b[39m=\u001b[39m qml\u001b[39m.\u001b[39minterfaces\u001b[39m.\u001b[39mcache_execute(batch_execute, cache, expand_fn\u001b[39m=\u001b[39mexpand_fn)\n",
      "File \u001b[0;32m~/.local/lib/python3.10/site-packages/pennylane/interfaces/execution.py:197\u001b[0m, in \u001b[0;36mcache_execute.<locals>.wrapper\u001b[0;34m(tapes, **kwargs)\u001b[0m\n\u001b[1;32m    193\u001b[0m         \u001b[39mreturn\u001b[39;00m (res, []) \u001b[39mif\u001b[39;00m return_tuple \u001b[39melse\u001b[39;00m res\n\u001b[1;32m    195\u001b[0m \u001b[39melse\u001b[39;00m:\n\u001b[1;32m    196\u001b[0m     \u001b[39m# execute all unique tapes that do not exist in the cache\u001b[39;00m\n\u001b[0;32m--> 197\u001b[0m     res \u001b[39m=\u001b[39m fn(execution_tapes\u001b[39m.\u001b[39;49mvalues(), \u001b[39m*\u001b[39;49m\u001b[39m*\u001b[39;49mkwargs)\n\u001b[1;32m    199\u001b[0m final_res \u001b[39m=\u001b[39m []\n\u001b[1;32m    201\u001b[0m \u001b[39mfor\u001b[39;00m i, tape \u001b[39min\u001b[39;00m \u001b[39menumerate\u001b[39m(tapes):\n",
      "File \u001b[0;32m~/.local/lib/python3.10/site-packages/pennylane/interfaces/execution.py:121\u001b[0m, in \u001b[0;36mcache_execute.<locals>.fn\u001b[0;34m(tapes, **kwargs)\u001b[0m\n\u001b[1;32m    120\u001b[0m \u001b[39mdef\u001b[39;00m \u001b[39mfn\u001b[39m(tapes, \u001b[39m*\u001b[39m\u001b[39m*\u001b[39mkwargs):  \u001b[39m# pylint: disable=function-redefined\u001b[39;00m\n\u001b[0;32m--> 121\u001b[0m     tapes \u001b[39m=\u001b[39m [expand_fn(tape) \u001b[39mfor\u001b[39;00m tape \u001b[39min\u001b[39;00m tapes]\n\u001b[1;32m    122\u001b[0m     \u001b[39mreturn\u001b[39;00m original_fn(tapes, \u001b[39m*\u001b[39m\u001b[39m*\u001b[39mkwargs)\n",
      "File \u001b[0;32m~/.local/lib/python3.10/site-packages/pennylane/interfaces/execution.py:121\u001b[0m, in \u001b[0;36m<listcomp>\u001b[0;34m(.0)\u001b[0m\n\u001b[1;32m    120\u001b[0m \u001b[39mdef\u001b[39;00m \u001b[39mfn\u001b[39m(tapes, \u001b[39m*\u001b[39m\u001b[39m*\u001b[39mkwargs):  \u001b[39m# pylint: disable=function-redefined\u001b[39;00m\n\u001b[0;32m--> 121\u001b[0m     tapes \u001b[39m=\u001b[39m [expand_fn(tape) \u001b[39mfor\u001b[39;00m tape \u001b[39min\u001b[39;00m tapes]\n\u001b[1;32m    122\u001b[0m     \u001b[39mreturn\u001b[39;00m original_fn(tapes, \u001b[39m*\u001b[39m\u001b[39m*\u001b[39mkwargs)\n",
      "File \u001b[0;32m~/.local/lib/python3.10/site-packages/pennylane/interfaces/execution.py:351\u001b[0m, in \u001b[0;36mexecute.<locals>.<lambda>\u001b[0;34m(tape)\u001b[0m\n\u001b[1;32m    348\u001b[0m batch_execute \u001b[39m=\u001b[39m set_shots(device, override_shots)(device\u001b[39m.\u001b[39mbatch_execute)\n\u001b[1;32m    350\u001b[0m \u001b[39mif\u001b[39;00m expand_fn \u001b[39m==\u001b[39m \u001b[39m\"\u001b[39m\u001b[39mdevice\u001b[39m\u001b[39m\"\u001b[39m:\n\u001b[0;32m--> 351\u001b[0m     expand_fn \u001b[39m=\u001b[39m \u001b[39mlambda\u001b[39;00m tape: device\u001b[39m.\u001b[39;49mexpand_fn(tape, max_expansion\u001b[39m=\u001b[39;49mmax_expansion)\n\u001b[1;32m    353\u001b[0m \u001b[39mif\u001b[39;00m gradient_fn \u001b[39mis\u001b[39;00m \u001b[39mNone\u001b[39;00m:\n\u001b[1;32m    354\u001b[0m     \u001b[39m# don't unwrap if it's an interface device\u001b[39;00m\n\u001b[1;32m    355\u001b[0m     \u001b[39mif\u001b[39;00m \u001b[39m\"\u001b[39m\u001b[39mpassthru_interface\u001b[39m\u001b[39m\"\u001b[39m \u001b[39min\u001b[39;00m device\u001b[39m.\u001b[39mcapabilities():\n",
      "File \u001b[0;32m~/.local/lib/python3.10/site-packages/pennylane/_device.py:688\u001b[0m, in \u001b[0;36mDevice.expand_fn\u001b[0;34m(self, circuit, max_expansion)\u001b[0m\n\u001b[1;32m    685\u001b[0m \u001b[39mif\u001b[39;00m \u001b[39mself\u001b[39m\u001b[39m.\u001b[39mcustom_expand_fn \u001b[39mis\u001b[39;00m \u001b[39mnot\u001b[39;00m \u001b[39mNone\u001b[39;00m:\n\u001b[1;32m    686\u001b[0m     \u001b[39mreturn\u001b[39;00m \u001b[39mself\u001b[39m\u001b[39m.\u001b[39mcustom_expand_fn(circuit, max_expansion\u001b[39m=\u001b[39mmax_expansion)\n\u001b[0;32m--> 688\u001b[0m \u001b[39mreturn\u001b[39;00m \u001b[39mself\u001b[39;49m\u001b[39m.\u001b[39;49mdefault_expand_fn(circuit, max_expansion\u001b[39m=\u001b[39;49mmax_expansion)\n",
      "File \u001b[0;32m~/.local/lib/python3.10/site-packages/pennylane/_device.py:660\u001b[0m, in \u001b[0;36mDevice.default_expand_fn\u001b[0;34m(self, circuit, max_expansion)\u001b[0m\n\u001b[1;32m    655\u001b[0m obs_on_same_wire \u001b[39m=\u001b[39m \u001b[39mlen\u001b[39m(circuit\u001b[39m.\u001b[39m_obs_sharing_wires) \u001b[39m>\u001b[39m \u001b[39m0\u001b[39m\n\u001b[1;32m    656\u001b[0m obs_on_same_wire \u001b[39m&\u001b[39m\u001b[39m=\u001b[39m \u001b[39mnot\u001b[39;00m \u001b[39many\u001b[39m(\n\u001b[1;32m    657\u001b[0m     \u001b[39misinstance\u001b[39m(o, qml\u001b[39m.\u001b[39mHamiltonian) \u001b[39mfor\u001b[39;00m o \u001b[39min\u001b[39;00m circuit\u001b[39m.\u001b[39m_obs_sharing_wires\n\u001b[1;32m    658\u001b[0m )\n\u001b[0;32m--> 660\u001b[0m ops_not_supported \u001b[39m=\u001b[39m \u001b[39mnot\u001b[39;00m \u001b[39mall\u001b[39;49m(\u001b[39mself\u001b[39;49m\u001b[39m.\u001b[39;49mstopping_condition(op) \u001b[39mfor\u001b[39;49;00m op \u001b[39min\u001b[39;49;00m circuit\u001b[39m.\u001b[39;49moperations)\n\u001b[1;32m    662\u001b[0m \u001b[39mif\u001b[39;00m ops_not_supported \u001b[39mor\u001b[39;00m obs_on_same_wire:\n\u001b[1;32m    663\u001b[0m     circuit \u001b[39m=\u001b[39m circuit\u001b[39m.\u001b[39mexpand(depth\u001b[39m=\u001b[39mmax_expansion, stop_at\u001b[39m=\u001b[39m\u001b[39mself\u001b[39m\u001b[39m.\u001b[39mstopping_condition)\n",
      "File \u001b[0;32m~/.local/lib/python3.10/site-packages/pennylane/_device.py:660\u001b[0m, in \u001b[0;36m<genexpr>\u001b[0;34m(.0)\u001b[0m\n\u001b[1;32m    655\u001b[0m obs_on_same_wire \u001b[39m=\u001b[39m \u001b[39mlen\u001b[39m(circuit\u001b[39m.\u001b[39m_obs_sharing_wires) \u001b[39m>\u001b[39m \u001b[39m0\u001b[39m\n\u001b[1;32m    656\u001b[0m obs_on_same_wire \u001b[39m&\u001b[39m\u001b[39m=\u001b[39m \u001b[39mnot\u001b[39;00m \u001b[39many\u001b[39m(\n\u001b[1;32m    657\u001b[0m     \u001b[39misinstance\u001b[39m(o, qml\u001b[39m.\u001b[39mHamiltonian) \u001b[39mfor\u001b[39;00m o \u001b[39min\u001b[39;00m circuit\u001b[39m.\u001b[39m_obs_sharing_wires\n\u001b[1;32m    658\u001b[0m )\n\u001b[0;32m--> 660\u001b[0m ops_not_supported \u001b[39m=\u001b[39m \u001b[39mnot\u001b[39;00m \u001b[39mall\u001b[39m(\u001b[39mself\u001b[39;49m\u001b[39m.\u001b[39;49mstopping_condition(op) \u001b[39mfor\u001b[39;00m op \u001b[39min\u001b[39;00m circuit\u001b[39m.\u001b[39moperations)\n\u001b[1;32m    662\u001b[0m \u001b[39mif\u001b[39;00m ops_not_supported \u001b[39mor\u001b[39;00m obs_on_same_wire:\n\u001b[1;32m    663\u001b[0m     circuit \u001b[39m=\u001b[39m circuit\u001b[39m.\u001b[39mexpand(depth\u001b[39m=\u001b[39mmax_expansion, stop_at\u001b[39m=\u001b[39m\u001b[39mself\u001b[39m\u001b[39m.\u001b[39mstopping_condition)\n",
      "File \u001b[0;32m~/.local/lib/python3.10/site-packages/pennylane/devices/default_qubit.py:200\u001b[0m, in \u001b[0;36mDefaultQubit.stopping_condition\u001b[0;34m(self)\u001b[0m\n\u001b[1;32m    197\u001b[0m         \u001b[39mreturn\u001b[39;00m \u001b[39mnot\u001b[39;00m (obj\u001b[39m.\u001b[39m\u001b[39m__class__\u001b[39m\u001b[39m.\u001b[39m\u001b[39m__name__\u001b[39m \u001b[39m==\u001b[39m \u001b[39m\"\u001b[39m\u001b[39mPow\u001b[39m\u001b[39m\"\u001b[39m \u001b[39mand\u001b[39;00m qml\u001b[39m.\u001b[39moperation\u001b[39m.\u001b[39mis_trainable(obj))\n\u001b[1;32m    198\u001b[0m     \u001b[39mreturn\u001b[39;00m obj\u001b[39m.\u001b[39mname \u001b[39min\u001b[39;00m \u001b[39mself\u001b[39m\u001b[39m.\u001b[39mobservables\u001b[39m.\u001b[39munion(\u001b[39mself\u001b[39m\u001b[39m.\u001b[39moperations)\n\u001b[0;32m--> 200\u001b[0m \u001b[39mreturn\u001b[39;00m qml\u001b[39m.\u001b[39;49mBooleanFn(accepts_obj)\n",
      "File \u001b[0;32m~/.local/lib/python3.10/site-packages/pennylane/boolean_fn.py:82\u001b[0m, in \u001b[0;36mBooleanFn.__init__\u001b[0;34m(self, fn)\u001b[0m\n\u001b[1;32m     80\u001b[0m \u001b[39mdef\u001b[39;00m \u001b[39m__init__\u001b[39m(\u001b[39mself\u001b[39m, fn):\n\u001b[1;32m     81\u001b[0m     \u001b[39mself\u001b[39m\u001b[39m.\u001b[39mfn \u001b[39m=\u001b[39m fn\n\u001b[0;32m---> 82\u001b[0m     functools\u001b[39m.\u001b[39;49mupdate_wrapper(\u001b[39mself\u001b[39;49m, fn)\n",
      "File \u001b[0;32m/usr/local/lib/python3.10/functools.py:52\u001b[0m, in \u001b[0;36mupdate_wrapper\u001b[0;34m(wrapper, wrapped, assigned, updated)\u001b[0m\n\u001b[1;32m     50\u001b[0m \u001b[39mfor\u001b[39;00m attr \u001b[39min\u001b[39;00m assigned:\n\u001b[1;32m     51\u001b[0m     \u001b[39mtry\u001b[39;00m:\n\u001b[0;32m---> 52\u001b[0m         value \u001b[39m=\u001b[39m \u001b[39mgetattr\u001b[39;49m(wrapped, attr)\n\u001b[1;32m     53\u001b[0m     \u001b[39mexcept\u001b[39;00m \u001b[39mAttributeError\u001b[39;00m:\n\u001b[1;32m     54\u001b[0m         \u001b[39mpass\u001b[39;00m\n",
      "\u001b[0;31mKeyboardInterrupt\u001b[0m: "
     ]
    }
   ],
   "source": [
    "np.random.seed(0)\n",
    "num_data = len(Y)\n",
    "num_train = int(0.75 * num_data)\n",
    "index = np.random.permutation(range(num_data))\n",
    "features = np.array([get_angles(x) for x in X_norm])\n",
    "feats_train = features[index[:num_train]]\n",
    "Y_train = Y_processed[index[:num_train]]\n",
    "Y_01_train = Y_01[index[:num_train]]\n",
    "feats_val = features[index[num_train:]]\n",
    "Y_val = Y_processed[index[num_train:]]\n",
    "Y_01_val = Y_01[index[num_train:]]\n",
    "\n",
    "# We need these later for plotting\n",
    "X_train = X[index[:num_train]]\n",
    "X_val = X[index[num_train:]]\n",
    "\n",
    "num_qubits = 2\n",
    "num_layers = 0\n",
    "var_init = 0.01 * np.random.randn(num_layers, num_qubits, 3)\n",
    "\n",
    "opt = qml.NesterovMomentumOptimizer(0.01)\n",
    "batch_size = 5\n",
    "early_stop_tol = 1e-3\n",
    "\n",
    "# train the variational classifier\n",
    "var = var_init\n",
    "for it in range(100):\n",
    "\n",
    "    # Update the weights by one optimizer step\n",
    "    batch_index = np.random.randint(0, num_train, (batch_size,))\n",
    "    feats_train_batch = feats_train[batch_index]\n",
    "    Y_train_batch = Y_train[batch_index]\n",
    "    var = opt.step(lambda v: cost(v, feats_train_batch, Y_train_batch), var)\n",
    "\n",
    "    # Compute predictions on train and validation set\n",
    "    predictions_train = np.argmax(np.array([variational_classifier(var, f) for f in feats_train]), axis=-1)\n",
    "    predictions_val =np.argmax(np.array([variational_classifier(var, f) for f in feats_val]), axis=-1)\n",
    "\n",
    "    # Compute accuracy on train and validation set\n",
    "    acc_train = accuracy(Y_01_train, predictions_train)\n",
    "    acc_val = accuracy(Y_01_val, predictions_val)\n",
    "\n",
    "    print(\n",
    "        \"Iter: {:5d} | Cost: {:0.7f} | Acc train: {:0.7f} | Acc validation: {:0.7f} \"\n",
    "        \"\".format(it + 1, cost(var, features, Y_processed), acc_train, acc_val)\n",
    "    )\n",
    "    # early stopping\n",
    "    if abs(acc_train-1)<=early_stop_tol and abs(acc_val-1)<= early_stop_tol:\n",
    "        print(\"Early Stop...\")\n",
    "        break"
   ]
  },
  {
   "cell_type": "code",
   "execution_count": null,
   "metadata": {},
   "outputs": [
    {
     "data": {
      "image/png": "[encoded data removed]",
      "text/plain": [
       "<Figure size 600x400 with 2 Axes>"
      ]
     },
     "metadata": {
      "needs_background": "light"
     },
     "output_type": "display_data"
    }
   ],
   "source": [
    "# We can plot the predictions if we only selectd two columns of X\n",
    "if X.shape[1] == 2:\n",
    "    plt.figure()\n",
    "    cm = plt.cm.RdBu\n",
    "\n",
    "    # make data for decision regions\n",
    "    xx, yy = np.meshgrid(np.linspace(0.0, 1.5, 20), np.linspace(0.0, 1.5, 20))\n",
    "    X_grid = [np.array([x, y]) for x, y in zip(xx.flatten(), yy.flatten())]\n",
    "\n",
    "    # preprocess grid points like data inputs above\n",
    "    padding = 0.3 * np.ones((len(X_grid), 1))\n",
    "    X_grid = np.c_[np.c_[X_grid, padding], np.zeros((len(X_grid), 1))]  # pad each input\n",
    "    normalization = np.sqrt(np.sum(X_grid ** 2, -1))\n",
    "    X_grid = (X_grid.T / normalization).T  # normalize each input\n",
    "    features_grid = np.array(\n",
    "        [get_angles(x) for x in X_grid]\n",
    "    )  # angles for state preparation are new features\n",
    "    predictions_grid = np.argmax(np.array([variational_classifier(var, f) for f in features_grid]), axis=-1)\n",
    "    Z = np.reshape(predictions_grid, xx.shape)\n",
    "\n",
    "    # plot decision regions\n",
    "    cnt = plt.contourf(\n",
    "        xx, yy, Z, levels=np.arange(0, 1.1, 0.1), cmap=cm, alpha=0.8, extend=\"both\"\n",
    "    )\n",
    "    plt.contour(\n",
    "        xx, yy, Z, levels=[0.5], colors=(\"black\",), linestyles=(\"--\",), linewidths=(0.8,)\n",
    "    )\n",
    "    plt.colorbar(cnt, ticks=[0, 1])\n",
    "\n",
    "    # plot data\n",
    "    plt.scatter(\n",
    "        X_train[:, 0][Y_01_train == 1],\n",
    "        X_train[:, 1][Y_01_train == 1],\n",
    "        c=\"b\",\n",
    "        marker=\"o\",\n",
    "        edgecolors=\"k\",\n",
    "        label=\"class 1 train\",\n",
    "    )\n",
    "    plt.scatter(\n",
    "        X_val[:, 0][Y_01_val == 1],\n",
    "        X_val[:, 1][Y_01_val == 1],\n",
    "        c=\"b\",\n",
    "        marker=\"^\",\n",
    "        edgecolors=\"k\",\n",
    "        label=\"class 1 validation\",\n",
    "    )\n",
    "    plt.scatter(\n",
    "        X_train[:, 0][Y_01_train == 0],\n",
    "        X_train[:, 1][Y_01_train == 0],\n",
    "        c=\"r\",\n",
    "        marker=\"o\",\n",
    "        edgecolors=\"k\",\n",
    "        label=\"class 0 (-1) train\",\n",
    "    )\n",
    "    plt.scatter(\n",
    "        X_val[:, 0][Y_01_val == 0],\n",
    "        X_val[:, 1][Y_01_val == 0],\n",
    "        c=\"r\",\n",
    "        marker=\"^\",\n",
    "        edgecolors=\"k\",\n",
    "        label=\"class 0 (-1) validation\",\n",
    "    )\n",
    "\n",
    "    plt.legend()\n",
    "    plt.show()"
   ]
  },
  {
   "cell_type": "markdown",
   "metadata": {},
   "source": [
    "## Something Else: Cost Function with SWAP Test\n",
    "$$\n",
    "P(\\text { Control qubit of CSWAP}=0)=\\frac{1}{2}(\\langle\\phi \\langle\\psi |+\\langle\\psi|\\langle\\phi|) \\frac{1}{2}(|\\phi\\rangle|\\psi\\rangle+|\\psi\\rangle|\\phi\\rangle)=\\frac{1}{2}+\\frac{1}{2}|\\langle\\psi \\mid \\phi\\rangle|^{2}\n",
    "$$\n",
    "Since we've already treated the $1$ class as positive label, the two states we are going to put through the SWAP test will be the $|1\\rangle$ state and the output state on the first qubit of the variational classifier. The operator for the measurement of the control qubit of the CSWAP gate will be $|0\\rangle\\langle 0|$"
   ]
  },
  {
   "cell_type": "code",
   "execution_count": null,
   "metadata": {},
   "outputs": [
    {
     "name": "stdout",
     "output_type": "stream",
     "text": [
      "0: ──RY(1.28)─╭●────────────╭●──X────────╭●────────────╭●──X─────────Rot(-0.00,0.02,-0.01)──╭●─╭SWAP\n",
      "1: ───────────╰X──RY(-0.00)─╰X──RY(0.00)─╰X──RY(-0.12)─╰X──RY(0.12)──Rot(-0.01,-0.00,-0.01)─╰X─│────\n",
      "2: ──X─────────────────────────────────────────────────────────────────────────────────────────├SWAP\n",
      "3: ──H─────────────────────────────────────────────────────────────────────────────────────────╰●───\n",
      "\n",
      "─────┤         \n",
      "─────┤         \n",
      "─────┤         \n",
      "───H─┤  <𝓗(M0)>\n"
     ]
    }
   ],
   "source": [
    "boundary = 0.5\n",
    "\n",
    "dev2 = qml.device(\"default.qubit\", wires=4)\n",
    "\n",
    "@qml.qnode(dev2)\n",
    "def circuit2(weights, angles, target_state):\n",
    "    statepreparation(angles)\n",
    "    for W in weights:\n",
    "        layer(W)\n",
    "    # load target state\n",
    "    if target_state == 1:\n",
    "        qml.PauliX(wires=2)\n",
    "    # swap test between target state and the state of the 0th qubit:\n",
    "    qml.Hadamard(wires=3)\n",
    "    qml.CSWAP(wires=[3, 0, 2])\n",
    "    qml.Hadamard(wires=3)\n",
    "    return qml.expval(qml.Hermitian(np.outer(np.array([1,0]), np.array([1,0])), wires=[3]))\n",
    "\n",
    "@qml.qnode(dev2)\n",
    "def prediction_circuit(weights, angles):\n",
    "    statepreparation(angles)\n",
    "    for W in weights:\n",
    "        layer(W)\n",
    "    # when making predictions, the default target state is |1>\n",
    "    # so that the fidelity between the two states for swap test\n",
    "    # will be zero if the prediction label is 0 and one if 1.\n",
    "    qml.PauliX(wires=2)\n",
    "    # swap test between target state and the state of the 0th qubit:\n",
    "    qml.Hadamard(wires=3)\n",
    "    qml.CSWAP(wires=[3, 0, 2])\n",
    "    qml.Hadamard(wires=3)\n",
    "    return qml.expval(qml.Hermitian(np.outer(np.array([1,0]), np.array([1,0])), wires=[3]))\n",
    "\n",
    "def prediction_func(weights, features):\n",
    "    predictions = np.array([prediction_circuit(weights, f) for f in features])\n",
    "    predictions = (predictions-1/2)*2\n",
    "    predictions = np.heaviside(predictions-boundary, 0)\n",
    "    return predictions\n",
    "\n",
    "# draw the full circuit:\n",
    "var_draw = 0.01 * np.random.randn(1, 2, 3)\n",
    "angles_draw = get_angles(X_norm[0])\n",
    "print(qml.draw(circuit2)(var_draw, angles_draw, 1))"
   ]
  },
  {
   "cell_type": "code",
   "execution_count": null,
   "metadata": {},
   "outputs": [],
   "source": [
    "def cost2(weights, features, labels):\n",
    "    predictions = np.array([circuit2(weights, f, l) for (f, l) in zip(features, labels)])\n",
    "    # extract the fidelity:\n",
    "    fid = (predictions-1/2)*2\n",
    "    loss = 1-fid\n",
    "    return np.mean(loss)\n",
    "\n",
    "def accuracy2(labels, predictions):\n",
    "\n",
    "    acc = 0\n",
    "    for l, p in zip(labels, predictions):\n",
    "        if abs(l - p) < 1e-5:\n",
    "            acc = acc + 1\n",
    "    acc = acc / len(labels)\n",
    "\n",
    "    return acc\n"
   ]
  },
  {
   "cell_type": "code",
   "execution_count": null,
   "metadata": {},
   "outputs": [
    {
     "name": "stdout",
     "output_type": "stream",
     "text": [
      "Iter:     1 | Cost: 0.6727288 | Acc train: 0.3333333 | Acc validation: 0.3600000 \n",
      "Iter:     2 | Cost: 0.6632226 | Acc train: 0.3333333 | Acc validation: 0.3600000 \n",
      "Iter:     3 | Cost: 0.6520423 | Acc train: 0.3866667 | Acc validation: 0.4000000 \n",
      "Iter:     4 | Cost: 0.6423658 | Acc train: 0.3866667 | Acc validation: 0.4000000 \n",
      "Iter:     5 | Cost: 0.6298119 | Acc train: 0.4133333 | Acc validation: 0.4000000 \n",
      "Iter:     6 | Cost: 0.6164277 | Acc train: 0.4133333 | Acc validation: 0.4000000 \n",
      "Iter:     7 | Cost: 0.6012761 | Acc train: 0.4533333 | Acc validation: 0.4400000 \n",
      "Iter:     8 | Cost: 0.5844376 | Acc train: 0.4533333 | Acc validation: 0.4400000 \n",
      "Iter:     9 | Cost: 0.5658224 | Acc train: 0.4666667 | Acc validation: 0.4400000 \n",
      "Iter:    10 | Cost: 0.5465429 | Acc train: 0.4666667 | Acc validation: 0.4400000 \n",
      "Iter:    11 | Cost: 0.5253882 | Acc train: 0.4666667 | Acc validation: 0.4400000 \n",
      "Iter:    12 | Cost: 0.5031433 | Acc train: 0.5066667 | Acc validation: 0.4400000 \n",
      "Iter:    13 | Cost: 0.4784658 | Acc train: 0.5066667 | Acc validation: 0.4400000 \n",
      "Iter:    14 | Cost: 0.4527707 | Acc train: 0.5066667 | Acc validation: 0.4400000 \n",
      "Iter:    15 | Cost: 0.4251637 | Acc train: 0.5200000 | Acc validation: 0.4400000 \n",
      "Iter:    16 | Cost: 0.3951046 | Acc train: 0.5200000 | Acc validation: 0.4400000 \n",
      "Iter:    17 | Cost: 0.3676459 | Acc train: 0.5733333 | Acc validation: 0.5200000 \n",
      "Iter:    18 | Cost: 0.3402224 | Acc train: 0.9200000 | Acc validation: 0.9600000 \n",
      "Iter:    19 | Cost: 0.3164286 | Acc train: 1.0000000 | Acc validation: 1.0000000 \n",
      "Early Stop...\n"
     ]
    }
   ],
   "source": [
    "np.random.seed(0)\n",
    "num_data = len(Y)\n",
    "num_train = int(0.75 * num_data)\n",
    "index = np.random.permutation(range(num_data))\n",
    "features = np.array([get_angles(x) for x in X_norm])\n",
    "feats_train = features[index[:num_train]]\n",
    "Y_01_train = Y_01[index[:num_train]].astype(int)\n",
    "feats_val = features[index[num_train:]]\n",
    "Y_01_val = Y_01[index[num_train:]].astype(int)\n",
    "\n",
    "# We need these later for plotting\n",
    "X_train = X[index[:num_train]]\n",
    "X_val = X[index[num_train:]]\n",
    "\n",
    "num_qubits = 2\n",
    "num_layers = 2\n",
    "var_init = 0.01 * np.random.randn(num_layers, num_qubits, 3)\n",
    "\n",
    "opt = qml.AdamOptimizer(0.1)\n",
    "batch_size = 5\n",
    "early_stop_tol = 1e-3\n",
    "\n",
    "\n",
    "# train the variational classifier\n",
    "var = var_init\n",
    "for it in range(100):\n",
    "\n",
    "    # Update the weights by one optimizer step\n",
    "    batch_index = np.random.randint(0, num_train, (batch_size,))\n",
    "    feats_train_batch = feats_train[batch_index]\n",
    "    Y_train_batch = Y_01_train[batch_index]\n",
    "    var = opt.step(lambda v: cost2(v, feats_train_batch, Y_train_batch), var)\n",
    "\n",
    "    # Compute predictions on train and validation set\n",
    "    predictions_train = prediction_func(var, feats_train)\n",
    "    predictions_val = prediction_func(var, feats_val)\n",
    "\n",
    "    # Compute accuracy on train and validation set\n",
    "    acc_train = accuracy(Y_01_train, predictions_train)\n",
    "    acc_val = accuracy(Y_01_val, predictions_val)\n",
    "\n",
    "    print(\n",
    "        \"Iter: {:5d} | Cost: {:0.7f} | Acc train: {:0.7f} | Acc validation: {:0.7f} \"\n",
    "        \"\".format(it + 1, cost2(var, features, Y_01), acc_train, acc_val)\n",
    "    )\n",
    "    # early stopping\n",
    "    if abs(acc_train-1)<=early_stop_tol and abs(acc_val-1)<= early_stop_tol:\n",
    "        print(\"Early Stop...\")\n",
    "        break"
   ]
  },
  {
   "cell_type": "code",
   "execution_count": null,
   "metadata": {},
   "outputs": [
    {
     "data": {
      "image/png": "[encoded data removed]",
      "text/plain": [
       "<Figure size 600x400 with 2 Axes>"
      ]
     },
     "metadata": {
      "needs_background": "light"
     },
     "output_type": "display_data"
    }
   ],
   "source": [
    "# We can plot the predictions if we only selectd two columns of X\n",
    "if X.shape[1] == 2:\n",
    "    plt.figure()\n",
    "    cm = plt.cm.RdBu\n",
    "\n",
    "    # make data for decision regions\n",
    "    xx, yy = np.meshgrid(np.linspace(0.0, 1.5, 20), np.linspace(0.0, 1.5, 20))\n",
    "    X_grid = [np.array([x, y]) for x, y in zip(xx.flatten(), yy.flatten())]\n",
    "\n",
    "    # preprocess grid points like data inputs above\n",
    "    padding = 0.3 * np.ones((len(X_grid), 1))\n",
    "    X_grid = np.c_[np.c_[X_grid, padding], np.zeros((len(X_grid), 1))]  # pad each input\n",
    "    normalization = np.sqrt(np.sum(X_grid ** 2, -1))\n",
    "    X_grid = (X_grid.T / normalization).T  # normalize each input\n",
    "    features_grid = np.array(\n",
    "        [get_angles(x) for x in X_grid]\n",
    "    )  # angles for state preparation are new features\n",
    "    predictions_grid = [(prediction_circuit(var, f)-1/2)*2 for f in features_grid]\n",
    "    Z = np.reshape(predictions_grid, xx.shape)\n",
    "\n",
    "    # plot decision regions\n",
    "    cnt = plt.contourf(\n",
    "        xx, yy, Z, levels=np.arange(0, 1.1, 0.1), cmap=cm, alpha=0.8, extend=\"both\"\n",
    "    )\n",
    "    plt.contour(\n",
    "        xx, yy, Z, levels=[boundary], colors=(\"black\",), linestyles=(\"--\",), linewidths=(0.8,)\n",
    "    )\n",
    "    plt.colorbar(cnt, ticks=[0,0.5, 1])\n",
    "\n",
    "    # plot data\n",
    "    plt.scatter(\n",
    "        X_train[:, 0][Y_01_train == 1],\n",
    "        X_train[:, 1][Y_01_train == 1],\n",
    "        c=\"b\",\n",
    "        marker=\"o\",\n",
    "        edgecolors=\"k\",\n",
    "        label=\"class 1 train\",\n",
    "    )\n",
    "    plt.scatter(\n",
    "        X_val[:, 0][Y_01_val == 1],\n",
    "        X_val[:, 1][Y_01_val == 1],\n",
    "        c=\"b\",\n",
    "        marker=\"^\",\n",
    "        edgecolors=\"k\",\n",
    "        label=\"class 1 validation\",\n",
    "    )\n",
    "    plt.scatter(\n",
    "        X_train[:, 0][Y_01_train == 0],\n",
    "        X_train[:, 1][Y_01_train == 0],\n",
    "        c=\"r\",\n",
    "        marker=\"o\",\n",
    "        edgecolors=\"k\",\n",
    "        label=\"class 0 (-1) train\",\n",
    "    )\n",
    "    plt.scatter(\n",
    "        X_val[:, 0][Y_01_val == 0],\n",
    "        X_val[:, 1][Y_01_val == 0],\n",
    "        c=\"r\",\n",
    "        marker=\"^\",\n",
    "        edgecolors=\"k\",\n",
    "        label=\"class 0 (-1) validation\",\n",
    "    )\n",
    "\n",
    "    plt.legend()\n",
    "    plt.show()"
   ]
  },
  {
   "cell_type": "markdown",
   "metadata": {},
   "source": [
    "## Factors that Influence the Loss Landscape and the Best Decision boundary\n",
    "Batch size, optimizer, number of layers, etc..."
   ]
  }
 ],
 "metadata": {
  "kernelspec": {
   "display_name": "Python 3.10.6 64-bit",
   "language": "python",
   "name": "python3"
  },
  "language_info": {
   "codemirror_mode": {
    "name": "ipython",
    "version": 3
   },
   "file_extension": ".py",
   "mimetype": "text/x-python",
   "name": "python",
   "nbconvert_exporter": "python",
   "pygments_lexer": "ipython3",
   "version": "3.10.6"
  },
  "vscode": {
   "interpreter": {
    "hash": "949777d72b0d2535278d3dc13498b2535136f6dfe0678499012e853ee9abcab1"
   }
  }
 },
 "nbformat": 4,
 "nbformat_minor": 4
}
