{
 "cells": [
  {
   "cell_type": "markdown",
   "metadata": {},
   "source": [
    "# COMP90084 Workshop Week 9 - Variational Quantum Linear Solver for Linear Differential Equations\n",
    "\n",
    "This notebook attempts to show the solution of a differential equation using VQLS."
   ]
  },
  {
   "cell_type": "code",
   "execution_count": 1,
   "metadata": {},
   "outputs": [],
   "source": [
    "from qiskit import QuantumRegister, QuantumCircuit\n",
    "import numpy as np\n",
    "from qiskit import Aer\n",
    "from qiskit.tools.visualization import plot_histogram\n",
    "from numpy import pi\n",
    "from matplotlib import pylab as pl\n",
    "import warnings\n",
    "warnings.filterwarnings('ignore')\n",
    "%matplotlib inline"
   ]
  },
  {
   "cell_type": "code",
   "execution_count": 2,
   "metadata": {},
   "outputs": [],
   "source": [
    "sv_simulator = Aer.get_backend('statevector_simulator')\n",
    "simulator = Aer.get_backend('aer_simulator_statevector')"
   ]
  },
  {
   "cell_type": "code",
   "execution_count": 3,
   "metadata": {},
   "outputs": [],
   "source": [
    "# Pauli Matrices\n",
    "I = np.matrix([[1., 0.],\n",
    "              [0.,  1.]])\n",
    "X = np.matrix([[0., 1.], \n",
    "              [1., 0.]])\n",
    "Y = np.matrix([[0., -1.j], \n",
    "              [1.j, 0.]])\n",
    "Z = np.matrix([[1., 0.],\n",
    "              [0., -1.]])"
   ]
  },
  {
   "cell_type": "markdown",
   "metadata": {},
   "source": [
    "## A Simple Example\n",
    "$$ f'(x) = 2x; \\\\\n",
    "f(0) = 0 $$\n",
    "This has the solution,\n",
    "\n",
    "$$ f(x) = x^2 $$\n",
    "\n",
    "Let us create a discrete version of the problem. In our case, we will use just four points, one at $x=0$, which we call $f_0$ and one at $x=1$ which we call $f_1$ and so on up until $x=3$.\n",
    "\n",
    "We want, for the solution to satisfy the initial condition, that:\n",
    "\n",
    "$$f_0 = 0$$\n",
    "\n",
    "This ensures the initial value is correct. We would also like the correct gradient, ie.\n",
    "\n",
    "$$f'(0.5) \\approx \\frac{f_1 - f_0}{1} = 1 $$\n",
    "$$f'(1.5) \\approx \\frac{f_2 - f_1}{1} = 3 $$\n",
    "$$f'(2.5) \\approx \\frac{f_3 - f_2}{1} = 5 $$\n",
    "\n",
    "This gives us four different linear equations which we can solve for $f_0$ to $f_3$.\n",
    "\n",
    "Writing in terms of matrices and vectors,\n",
    "\n",
    "$$\n",
    "A = \\left[ \\begin{array}{cc} \n",
    "      1 & 0 & 0 & 0 \\\\\n",
    "      -1 & 1 & 0 & 0 \\\\\n",
    "      0 & -1 & 1 & 0 \\\\\n",
    "      0 & 0 & -1 & 1 \\\\\n",
    "      \\end{array} \\right] $$\n",
    "\n",
    "$$ b = \\left[ \\begin{array}{c} \n",
    "      0 \\\\\n",
    "      1 \\\\\n",
    "      3 \\\\\n",
    "      5\n",
    "      \\end{array} \\right] $$\n",
    "      \n",
    "$$ |b \\rangle = \\frac{1}{\\sqrt{35}} \\left[ \\begin{array}{c} \n",
    "      0 \\\\\n",
    "      1 \\\\\n",
    "      3 \\\\\n",
    "      5\n",
    "      \\end{array} \\right] $$ "
   ]
  },
  {
   "cell_type": "code",
   "execution_count": 4,
   "metadata": {},
   "outputs": [],
   "source": [
    "def trial_circuit(theta0, theta1):\n",
    "    # Initialize the quantum and classical registers\n",
    "    qr = QuantumRegister(2)\n",
    "    qc = QuantumCircuit(2)\n",
    "    \n",
    "    qc.ry(theta0, 0)\n",
    "    qc.ry(theta1, 1)\n",
    "    \n",
    "    return qc\n",
    "\n",
    "trial_circuit(*(0.5*np.pi, 0.5*pi)).draw('mpl');"
   ]
  },
  {
   "cell_type": "code",
   "execution_count": 5,
   "metadata": {},
   "outputs": [
    {
     "name": "stdout",
     "output_type": "stream",
     "text": [
      "Classical solution:\n",
      "[[0. 1. 4. 9.]]\n"
     ]
    }
   ],
   "source": [
    "A = np.matrix([[1, 0, 0, 0],\n",
    "               [-1, 1, 0, 0],\n",
    "               [0, -1, 1, 0],\n",
    "               [0, 0, -1, 1]])\n",
    "\n",
    "b = np.array([0, 1, 3, 5])\n",
    "print(\"Classical solution:\")\n",
    "print(np.linalg.inv(A)@b)\n",
    "b = b / np.linalg.norm(b)"
   ]
  },
  {
   "cell_type": "code",
   "execution_count": 6,
   "metadata": {},
   "outputs": [
    {
     "data": {
      "text/plain": [
       "matrix([[ 1.97142857, -1.05714286, -0.05714286,  0.14285714],\n",
       "        [-1.05714286,  1.88571429, -1.11428571,  0.28571429],\n",
       "        [-0.05714286, -1.11428571,  1.88571429, -0.71428571],\n",
       "        [ 0.14285714,  0.28571429, -0.71428571,  0.28571429]])"
      ]
     },
     "execution_count": 6,
     "metadata": {},
     "output_type": "execute_result"
    }
   ],
   "source": [
    "H = A.H @ (np.kron(I,I) - np.outer(b, b)) @ A\n",
    "H"
   ]
  },
  {
   "cell_type": "code",
   "execution_count": 7,
   "metadata": {},
   "outputs": [
    {
     "data": {
      "image/png": "[encoded data removed]",
      "text/plain": [
       "<Figure size 432x288 with 2 Axes>"
      ]
     },
     "metadata": {
      "needs_background": "light"
     },
     "output_type": "display_data"
    }
   ],
   "source": [
    "def cost_function(theta):\n",
    "    \n",
    "    qc = trial_circuit(theta[0], theta[1])\n",
    "    qc.save_statevector()\n",
    "    \n",
    "    # Now run on a simulator\n",
    "    # Run and get statevector\n",
    "    psi = simulator.run(qc).result().get_statevector(qc)\n",
    "    psi = psi.data\n",
    "    return (psi @ H @ psi).item()\n",
    "\n",
    "def cost_function_plot(theta0, theta1):\n",
    "    qc = trial_circuit(theta0, theta1)\n",
    "    qc.save_statevector()\n",
    "    \n",
    "    # Now run on a simulator\n",
    "    # Run and get statevector\n",
    "    psi = simulator.run(qc).result().get_statevector(qc)\n",
    "    psi = psi.data\n",
    "    return (psi @ H @ psi).item()\n",
    "\n",
    "# Let's plot the cost function\n",
    "theta0 = np.arange(0, 2*pi, 0.05)\n",
    "theta1 = np.arange(0, 2*pi, 0.05)\n",
    "theta0p, theta1p = np.meshgrid(theta0, theta1)\n",
    "cost = np.zeros(theta0p.shape)\n",
    "for i in range(theta0p.shape[0]):\n",
    "    for j in range(theta0p.shape[1]):\n",
    "        theta0_ = theta0p[i,j]\n",
    "        theta1_ = theta1p[i,j]\n",
    "        cost[i,j] = np.real(cost_function_plot(theta0_, theta1_))\n",
    "\n",
    "pl.contourf(theta0p, theta1p, cost, 40, cmap='RdGy')\n",
    "pl.xlabel(\"$theta_0$\")\n",
    "pl.ylabel(\"$theta_1$\")\n",
    "pl.colorbar()\n",
    "pl.show()"
   ]
  },
  {
   "cell_type": "code",
   "execution_count": 8,
   "metadata": {},
   "outputs": [
    {
     "name": "stdout",
     "output_type": "stream",
     "text": [
      "     fun: 0.003908852940145147\n",
      "   maxcv: 0.0\n",
      " message: 'Optimization terminated successfully.'\n",
      "    nfev: 48\n",
      "  status: 1\n",
      " success: True\n",
      "       x: array([2.30307623, 2.9044229 ])\n"
     ]
    }
   ],
   "source": [
    "from scipy.optimize import minimize\n",
    "res = minimize(cost_function, x0 = (0., 0.), method=\"COBYLA\", bounds=[(0, np.pi*2),(0, np.pi*2)])\n",
    "print(res)"
   ]
  },
  {
   "cell_type": "code",
   "execution_count": 9,
   "metadata": {},
   "outputs": [
    {
     "data": {
      "image/png": "[encoded data removed]",
      "text/plain": [
       "<Figure size 146.652x144.48 with 1 Axes>"
      ]
     },
     "execution_count": 9,
     "metadata": {},
     "output_type": "execute_result"
    }
   ],
   "source": [
    "theta_opt_ = res.x\n",
    "circuit= trial_circuit(*theta_opt_)\n",
    "\n",
    "circuit.draw('mpl')"
   ]
  },
  {
   "cell_type": "code",
   "execution_count": 10,
   "metadata": {},
   "outputs": [
    {
     "data": {
      "text/plain": [
       "array([0.04816083, 0.1080607 , 0.4042241 , 0.90697646])"
      ]
     },
     "execution_count": 10,
     "metadata": {},
     "output_type": "execute_result"
    }
   ],
   "source": [
    "job = sv_simulator.run(circuit)\n",
    "results = job.result()\n",
    "results = results.get_statevector().real\n",
    "results"
   ]
  },
  {
   "cell_type": "markdown",
   "metadata": {},
   "source": [
    "This, up to normalisation, is very close to our ideal solution of\n",
    "\n",
    "$$ f_0 = 0, \\\\ f_1 = 1, \\\\ f_2 = 4, \\\\ f_3=9 $$"
   ]
  },
  {
   "cell_type": "code",
   "execution_count": 11,
   "metadata": {},
   "outputs": [
    {
     "data": {
      "text/plain": [
       "[<matplotlib.lines.Line2D at 0x7f3539d0aa90>]"
      ]
     },
     "execution_count": 11,
     "metadata": {},
     "output_type": "execute_result"
    },
    {
     "data": {
      "image/png": "[encoded data removed]",
      "text/plain": [
       "<Figure size 432x288 with 1 Axes>"
      ]
     },
     "metadata": {
      "needs_background": "light"
     },
     "output_type": "display_data"
    }
   ],
   "source": [
    "pl.plot(results)"
   ]
  },
  {
   "cell_type": "code",
   "execution_count": 12,
   "metadata": {},
   "outputs": [
    {
     "data": {
      "text/plain": [
       "[<matplotlib.lines.Line2D at 0x7f3539d7cc70>]"
      ]
     },
     "execution_count": 12,
     "metadata": {},
     "output_type": "execute_result"
    },
    {
     "data": {
      "image/png": "[encoded data removed]",
      "text/plain": [
       "<Figure size 432x288 with 1 Axes>"
      ]
     },
     "metadata": {
      "needs_background": "light"
     },
     "output_type": "display_data"
    }
   ],
   "source": [
    "normalized_results = results/results[1]\n",
    "pl.plot(normalized_results)\n",
    "pl.plot([x*x for x in range(4)])"
   ]
  },
  {
   "cell_type": "code",
   "execution_count": null,
   "metadata": {},
   "outputs": [],
   "source": []
  }
 ],
 "metadata": {
  "interpreter": {
   "hash": "bf6fd7a83dcc77f0caa08b671209bf0567a59590b8634a598a0165a7c12d9dc9"
  },
  "kernelspec": {
   "display_name": "Python 3 (ipykernel)",
   "language": "python",
   "name": "python3"
  },
  "language_info": {
   "codemirror_mode": {
    "name": "ipython",
    "version": 3
   },
   "file_extension": ".py",
   "mimetype": "text/x-python",
   "name": "python",
   "nbconvert_exporter": "python",
   "pygments_lexer": "ipython3",
   "version": "3.9.12"
  }
 },
 "nbformat": 4,
 "nbformat_minor": 4
}
