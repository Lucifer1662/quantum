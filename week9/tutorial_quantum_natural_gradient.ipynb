{
 "cells": [
  {
   "cell_type": "code",
   "execution_count": 1,
   "metadata": {
    "collapsed": false,
    "jupyter": {
     "outputs_hidden": false
    }
   },
   "outputs": [],
   "source": [
    "# This cell is added by sphinx-gallery\n",
    "# It can be customized to whatever you like\n",
    "%matplotlib inline"
   ]
  },
  {
   "cell_type": "markdown",
   "metadata": {},
   "source": [
    "Quantum natural gradient \n",
    "========================\n",
    "\n",
    "\n",
    "\n",
    "*Author: PennyLane dev team. Last updated: 25 Jan 2021.*\n",
    "\n",
    "This example demonstrates the quantum natural gradient optimization\n",
    "technique for variational quantum circuits, originally proposed in\n",
    "[Stokes et al. (2019)](https://arxiv.org/abs/1909.02108).\n",
    "\n",
    "Background\n",
    "----------\n",
    "\n",
    "The most successful class of quantum algorithms for use on near-term\n",
    "noisy quantum hardware is the so-called variational quantum algorithm.\n",
    "As laid out in the\n",
    "`Concepts section <glossary_variational_circuit>`{.interpreted-text\n",
    "role=\"ref\"}, in variational quantum algorithms a low-depth parametrized\n",
    "quantum circuit ansatz is chosen, and a problem-specific observable\n",
    "measured. A classical optimization loop is then used to find the set of\n",
    "quantum parameters that *minimize* a particular measurement expectation\n",
    "value of the quantum device. Examples of such algorithms include the\n",
    "`variational quantum\n",
    "eigensolver (VQE) <tutorial_vqe>`{.interpreted-text role=\"doc\"}, the\n",
    "[quantum approximate optimization algorithm\n",
    "(QAOA)](https://arxiv.org/abs/1411.4028), and\n",
    "`quantum neural networks (QNN) <quantum_neural_net>`{.interpreted-text\n",
    "role=\"ref\"}.\n",
    "\n",
    "Most recent demonstrations of variational quantum algorithms have used\n",
    "gradient-free classical optimization methods, such as the Nelder-Mead\n",
    "algorithm. However, the parameter-shift rule (as implemented in\n",
    "PennyLane) allows the user to automatically compute analytic gradients\n",
    "of quantum circuits. This opens up the possibility to train quantum\n",
    "computing hardware using gradient descent\\-\\--the same method used to\n",
    "train deep learning models. Though one caveat has surfaced with gradient\n",
    "descent \\-\\-- how do we choose the optimal step size for our variational\n",
    "quantum algorithms, to ensure successful and efficient optimization?\n",
    "\n",
    "### The natural gradient\n",
    "\n",
    "In standard gradient descent, each optimization step is given by\n",
    "\n",
    "$$\\theta_{t+1} = \\theta_t -\\eta \\nabla \\mathcal{L}(\\theta),$$\n",
    "\n",
    "where $\\mathcal{L}(\\theta)$ is the cost as a function of the parameters\n",
    "$\\theta$, and $\\eta$ is the learning rate or step size. In essence, each\n",
    "optimization step calculates the steepest descent direction around the\n",
    "local value of $\\theta_t$ in the parameter space, and updates\n",
    "$\\theta_t\\rightarrow \\theta_{t+1}$ by this vector.\n",
    "\n",
    "The problem with the above approach is that each optimization step is\n",
    "strongly connected to a *Euclidean geometry* on the parameter space. The\n",
    "parametrization is not unique, and different parametrizations can\n",
    "distort distances within the optimization landscape.\n",
    "\n",
    "For example, consider the following cost function $\\mathcal{L}$,\n",
    "parametrized using two different coordinate systems,\n",
    "$(\\theta_0, \\theta_1)$, and $(\\phi_0, \\phi_1)$:\n",
    "\n",
    "\n",
    "![](https://pennylane.ai/qml/_images/qng7.png)\n",
    "\n",
    "\n",
    "Performing gradient descent in the $(\\theta_0, \\theta_1)$ parameter\n",
    "space, we are updating each parameter by the same Euclidean distance,\n",
    "and not taking into account the fact that the cost function might vary\n",
    "at a different rate with respect to each parameter.\n",
    "\n",
    "Instead, if we perform a change of coordinate system\n",
    "(re-parametrization) of the cost function, we might find a parameter\n",
    "space where variations in $\\mathcal{L}$ are similar across different\n",
    "parameters. This is the case with the new parametrization\n",
    "$(\\phi_0, \\phi_1)$; the cost function is unchanged, but we now have a\n",
    "nicer geometry in which to perform gradient descent, and a more\n",
    "informative stepsize. This leads to faster convergence, and can help\n",
    "avoid optimization becoming stuck in local minima. For a more in-depth\n",
    "explanation, including why the parameter space might not be best\n",
    "represented by a Euclidean space, see [Yamamoto\n",
    "(2019)](https://arxiv.org/abs/1909.05074).\n",
    "\n",
    "However, what if we avoid gradient descent in the parameter space\n",
    "altogether? If we instead consider the optimization problem as a\n",
    "probability distribution of possible output values given an input (i.e.,\n",
    "[maximum likelihood\n",
    "estimation](https://en.wikipedia.org/wiki/Likelihood_function)), a\n",
    "better approach is to perform the gradient descent in the *distribution\n",
    "space*, which is dimensionless and invariant with respect to the\n",
    "parametrization. As a result, each optimization step will always choose\n",
    "the optimum step-size for every parameter, regardless of the\n",
    "parametrization.\n",
    "\n",
    "In classical neural networks, the above process is known as *natural\n",
    "gradient descent*, and was first introduced by [Amari\n",
    "(1998)](https://www.mitpressjournals.org/doi/abs/10.1162/089976698300017746).\n",
    "The standard gradient descent is modified as follows:\n",
    "\n",
    "$$\\theta_{t+1} = \\theta_t - \\eta F^{-1}\\nabla \\mathcal{L}(\\theta),$$\n",
    "\n",
    "where $F$ is the [Fisher information\n",
    "matrix](https://en.wikipedia.org/wiki/Fisher_information#Matrix_form).\n",
    "The Fisher information matrix acts as a metric tensor, transforming the\n",
    "steepest descent in the Euclidean parameter space to the steepest\n",
    "descent in the distribution space.\n",
    "\n",
    "### The quantum analog\n",
    "\n",
    "In a similar vein, it has been shown that the standard Euclidean\n",
    "geometry is sub-optimal for optimization of quantum variational\n",
    "algorithms [(Harrow and Napp, 2019)](https://arxiv.org/abs/1901.05374).\n",
    "The space of quantum states instead possesses a unique invariant metric\n",
    "tensor known as the Fubini-Study metric tensor $g_{ij}$, which can be\n",
    "used to construct a quantum analog to natural gradient descent:\n",
    "\n",
    "$$\\theta_{t+1} = \\theta_t - \\eta g^{+}(\\theta_t)\\nabla \\mathcal{L}(\\theta),$$\n",
    "\n",
    "where $g^{+}$ refers to the pseudo-inverse.\n",
    "\n",
    "\n",
    "Note:\n",
    "\n",
    "\n",
    "It can be shown that the Fubini-Study metric tensor reduces to the\n",
    "Fisher information matrix in the classical limit.\n",
    "\n",
    "Furthermore, in the limit where $\\eta\\rightarrow 0$, the dynamics of the\n",
    "system are equivalent to imaginary-time evolution within the variational\n",
    "subspace, as proposed in [McArdle et al.\n",
    "(2018)](https://arxiv.org/abs/1804.03023).\n"
   ]
  },
  {
   "cell_type": "markdown",
   "metadata": {},
   "source": [
    "Block-diagonal metric tensor\n",
    "============================\n",
    "\n",
    "A block-diagonal approximation to the Fubini-Study metric tensor of a\n",
    "variational quantum circuit can be evaluated on quantum hardware.\n",
    "\n",
    "Consider a variational quantum circuit\n",
    "\n",
    "$$U(\\mathbf{\\theta})|\\psi_0\\rangle = V_L(\\theta_L) W_L V_{L-1}(\\theta_{L-1}) W_{L-1}\n",
    "  \\cdots V_{\\ell}(\\theta_{\\ell}) W_{\\ell} \\cdots V_{0}(\\theta_{0}) W_{0} |\\psi_0\\rangle$$\n",
    "\n",
    "where\n",
    "\n",
    "-   $|\\psi_0\\rangle$ is the initial state,\n",
    "-   $W_\\ell$ are layers of non-parametrized quantum gates,\n",
    "-   $V_\\ell(\\theta_\\ell)$ are layers of parametrized quantum gates with\n",
    "    $n_\\ell$ parameters\n",
    "    $\\theta_\\ell = \\{\\theta^{(\\ell)}_0, \\dots, \\theta^{(\\ell)}_n\\}$.\n",
    "\n",
    "Further, assume all parametrized gates can be written in the form\n",
    "$X(\\theta^{(\\ell)}_{i}) = e^{i\\theta^{(\\ell)}_{i} K^{(\\ell)}_i}$, where\n",
    "$K^{(\\ell)}_i$ is the *generator* of the parametrized operation.\n",
    "\n",
    "For each parametric layer $\\ell$ in the variational quantum circuit the\n",
    "$n_\\ell\\times n_\\ell$ block-diagonal submatrix of the Fubini-Study\n",
    "tensor $g_{ij}^{(\\ell)}$ is calculated by:\n",
    "\n",
    "$$g_{ij}^{(\\ell)} = \\langle \\psi_{\\ell-1} | K_i K_j | \\psi_{\\ell-1} \\rangle\n",
    "- \\langle \\psi_{\\ell-1} | K_i | \\psi_{\\ell-1}\\rangle\n",
    "\\langle \\psi_{\\ell-1} |K_j | \\psi_{\\ell-1}\\rangle$$\n",
    "\n",
    "where\n",
    "\n",
    "$$| \\psi_{\\ell-1}\\rangle = V_{\\ell-1}(\\theta_{\\ell-1}) W_{\\ell-1} \\cdots V_{0}(\\theta_{0}) W_{0} |\\psi_0\\rangle.$$\n",
    "\n",
    "(that is, $|\\psi_{\\ell-1}\\rangle$ is the quantum state prior to the\n",
    "application of parameterized layer $\\ell$), and we have\n",
    "$K_i \\equiv K_i^{(\\ell)}$ for brevity.\n",
    "\n",
    "Let\\'s consider a small variational quantum circuit example coded in\n",
    "PennyLane:\n"
   ]
  },
  {
   "cell_type": "code",
   "execution_count": 2,
   "metadata": {
    "collapsed": false,
    "jupyter": {
     "outputs_hidden": false
    }
   },
   "outputs": [],
   "source": [
    "import pennylane as qml\n",
    "from pennylane import numpy as np\n",
    "\n",
    "dev = qml.device(\"default.qubit\", wires=3)\n",
    "\n",
    "\n",
    "@qml.qnode(dev)\n",
    "def circuit(params):\n",
    "    # |psi_0>: state preparation\n",
    "    qml.RY(np.pi / 4, wires=0)\n",
    "    qml.RY(np.pi / 3, wires=1)\n",
    "    qml.RY(np.pi / 7, wires=2)\n",
    "\n",
    "    # V0(theta0, theta1): Parametrized layer 0\n",
    "    qml.RZ(params[0], wires=0)\n",
    "    qml.RZ(params[1], wires=1)\n",
    "\n",
    "    # W1: non-parametrized gates\n",
    "    qml.CNOT(wires=[0, 1])\n",
    "    qml.CNOT(wires=[1, 2])\n",
    "\n",
    "    # V_1(theta2, theta3): Parametrized layer 1\n",
    "    qml.RY(params[2], wires=1)\n",
    "    qml.RX(params[3], wires=2)\n",
    "\n",
    "    # W2: non-parametrized gates\n",
    "    qml.CNOT(wires=[0, 1])\n",
    "    qml.CNOT(wires=[1, 2])\n",
    "\n",
    "    return qml.expval(qml.PauliY(0))\n",
    "\n",
    "\n",
    "params = np.array([0.432, -0.123, 0.543, 0.233])"
   ]
  },
  {
   "cell_type": "markdown",
   "metadata": {},
   "source": [
    "The above circuit consists of 4 parameters, with two distinct\n",
    "parametrized layers of 2 parameters each.\n",
    "\n",
    "![](https://pennylane.ai/qml/_images/qng1.png)\n",
    "\n",
    "(Note that in this example, the first non-parametrized layer $W_0$ is\n",
    "simply the identity.) Since there are two layers, each with two\n",
    "parameters, the block-diagonal approximation consists of two $2\\times 2$\n",
    "matrices, $g^{(0)}$ and $g^{(1)}$.\n",
    "\n",
    "![](https://pennylane.ai/qml/_images/qng2.png)\n",
    "\n",
    "To compute the first block-diagonal $g^{(0)}$, we create subcircuits\n",
    "consisting of all gates prior to the layer, and observables\n",
    "corresponding to the *generators* of the gates in the layer:\n",
    "\n",
    "![](https://pennylane.ai/qml/_images/qng3.png)\n"
   ]
  },
  {
   "cell_type": "code",
   "execution_count": 3,
   "metadata": {
    "collapsed": false,
    "jupyter": {
     "outputs_hidden": false
    }
   },
   "outputs": [],
   "source": [
    "g0 = np.zeros([2, 2])\n",
    "\n",
    "\n",
    "def layer0_subcircuit(params):\n",
    "    \"\"\"This function contains all gates that\n",
    "    precede parametrized layer 0\"\"\"\n",
    "    qml.RY(np.pi / 4, wires=0)\n",
    "    qml.RY(np.pi / 3, wires=1)\n",
    "    qml.RY(np.pi / 7, wires=2)"
   ]
  },
  {
   "cell_type": "markdown",
   "metadata": {},
   "source": [
    "We then post-process the measurement results in order to determine\n",
    "$g^{(0)}$, as follows.\n",
    "\n",
    "![](https://pennylane.ai/qml/_images/qng4.png)\n",
    "\n",
    "We can see that the diagonal terms are simply given by the variance:\n"
   ]
  },
  {
   "cell_type": "code",
   "execution_count": 4,
   "metadata": {
    "collapsed": false,
    "jupyter": {
     "outputs_hidden": false
    }
   },
   "outputs": [],
   "source": [
    "@qml.qnode(dev)\n",
    "def layer0_diag(params):\n",
    "    layer0_subcircuit(params)\n",
    "    return qml.var(qml.PauliZ(0)), qml.var(qml.PauliZ(1))\n",
    "\n",
    "\n",
    "# calculate the diagonal terms\n",
    "varK0, varK1 = layer0_diag(params)\n",
    "g0[0, 0] = varK0 / 4\n",
    "g0[1, 1] = varK1 / 4"
   ]
  },
  {
   "cell_type": "markdown",
   "metadata": {},
   "source": [
    "The following two subcircuits are then used to calculate the\n",
    "off-diagonal covariance terms of $g^{(0)}$:\n"
   ]
  },
  {
   "cell_type": "code",
   "execution_count": 5,
   "metadata": {
    "collapsed": false,
    "jupyter": {
     "outputs_hidden": false
    }
   },
   "outputs": [],
   "source": [
    "@qml.qnode(dev)\n",
    "def layer0_off_diag_single(params):\n",
    "    layer0_subcircuit(params)\n",
    "    return qml.expval(qml.PauliZ(0)), qml.expval(qml.PauliZ(1))\n",
    "\n",
    "\n",
    "@qml.qnode(dev)\n",
    "def layer0_off_diag_double(params):\n",
    "    layer0_subcircuit(params)\n",
    "    ZZ = np.kron(np.diag([1, -1]), np.diag([1, -1]))\n",
    "    return qml.expval(qml.Hermitian(ZZ, wires=[0, 1]))\n",
    "\n",
    "\n",
    "# calculate the off-diagonal terms\n",
    "exK0, exK1 = layer0_off_diag_single(params)\n",
    "exK0K1 = layer0_off_diag_double(params)\n",
    "\n",
    "g0[0, 1] = (exK0K1 - exK0 * exK1) / 4\n",
    "g0[1, 0] = (exK0K1 - exK0 * exK1) / 4"
   ]
  },
  {
   "cell_type": "markdown",
   "metadata": {},
   "source": [
    "Note that, by definition, the block-diagonal matrices must be real and\n",
    "symmetric.\n",
    "\n",
    "We can repeat the above process to compute $g^{(1)}$. The subcircuit\n",
    "required is given by\n",
    "\n",
    "![](https://pennylane.ai/qml/_images/qng8.png)\n"
   ]
  },
  {
   "cell_type": "code",
   "execution_count": 6,
   "metadata": {
    "collapsed": false,
    "jupyter": {
     "outputs_hidden": false
    }
   },
   "outputs": [],
   "source": [
    "g1 = np.zeros([2, 2])\n",
    "\n",
    "\n",
    "def layer1_subcircuit(params):\n",
    "    \"\"\"This function contains all gates that\n",
    "    precede parametrized layer 1\"\"\"\n",
    "    # |psi_0>: state preparation\n",
    "    qml.RY(np.pi / 4, wires=0)\n",
    "    qml.RY(np.pi / 3, wires=1)\n",
    "    qml.RY(np.pi / 7, wires=2)\n",
    "\n",
    "    # V0(theta0, theta1): Parametrized layer 0\n",
    "    qml.RZ(params[0], wires=0)\n",
    "    qml.RZ(params[1], wires=1)\n",
    "\n",
    "    # W1: non-parametrized gates\n",
    "    qml.CNOT(wires=[0, 1])\n",
    "    qml.CNOT(wires=[1, 2])"
   ]
  },
  {
   "cell_type": "markdown",
   "metadata": {},
   "source": [
    "Using this subcircuit, we can now generate the submatrix $g^{(1)}$.\n",
    "\n",
    "![](https://pennylane.ai/qml/_images/qng5.png)\n"
   ]
  },
  {
   "cell_type": "code",
   "execution_count": 7,
   "metadata": {
    "collapsed": false,
    "jupyter": {
     "outputs_hidden": false
    }
   },
   "outputs": [],
   "source": [
    "@qml.qnode(dev)\n",
    "def layer1_diag(params):\n",
    "    layer1_subcircuit(params)\n",
    "    return qml.var(qml.PauliY(1)), qml.var(qml.PauliX(2))"
   ]
  },
  {
   "cell_type": "markdown",
   "metadata": {},
   "source": [
    "As previously, the diagonal terms are simply given by the variance,\n"
   ]
  },
  {
   "cell_type": "code",
   "execution_count": 8,
   "metadata": {
    "collapsed": false,
    "jupyter": {
     "outputs_hidden": false
    }
   },
   "outputs": [],
   "source": [
    "varK0, varK1 = layer1_diag(params)\n",
    "g1[0, 0] = varK0 / 4\n",
    "g1[1, 1] = varK1 / 4"
   ]
  },
  {
   "cell_type": "markdown",
   "metadata": {},
   "source": [
    "while the off-diagonal terms require covariance between the two\n",
    "observables to be computed.\n"
   ]
  },
  {
   "cell_type": "code",
   "execution_count": 9,
   "metadata": {
    "collapsed": false,
    "jupyter": {
     "outputs_hidden": false
    }
   },
   "outputs": [],
   "source": [
    "@qml.qnode(dev)\n",
    "def layer1_off_diag_single(params):\n",
    "    layer1_subcircuit(params)\n",
    "    return qml.expval(qml.PauliY(1)), qml.expval(qml.PauliX(2))\n",
    "\n",
    "\n",
    "@qml.qnode(dev)\n",
    "def layer1_off_diag_double(params):\n",
    "    layer1_subcircuit(params)\n",
    "    X = np.array([[0, 1], [1, 0]])\n",
    "    Y = np.array([[0, -1j], [1j, 0]])\n",
    "    YX = np.kron(Y, X)\n",
    "    return qml.expval(qml.Hermitian(YX, wires=[1, 2]))\n",
    "\n",
    "\n",
    "# calculate the off-diagonal terms\n",
    "exK0, exK1 = layer1_off_diag_single(params)\n",
    "exK0K1 = layer1_off_diag_double(params)\n",
    "\n",
    "g1[0, 1] = (exK0K1 - exK0 * exK1) / 4\n",
    "g1[1, 0] = g1[0, 1]"
   ]
  },
  {
   "cell_type": "markdown",
   "metadata": {},
   "source": [
    "Putting this altogether, the block-diagonal approximation to the\n",
    "Fubini-Study metric tensor for this variational quantum circuit is\n"
   ]
  },
  {
   "cell_type": "code",
   "execution_count": 10,
   "metadata": {
    "collapsed": false,
    "jupyter": {
     "outputs_hidden": false
    }
   },
   "outputs": [
    {
     "name": "stdout",
     "output_type": "stream",
     "text": [
      "[[ 0.125      -0.          0.          0.        ]\n",
      " [-0.          0.1875      0.          0.        ]\n",
      " [ 0.          0.          0.24973433 -0.01524701]\n",
      " [ 0.          0.         -0.01524701  0.20293623]]\n"
     ]
    }
   ],
   "source": [
    "from scipy.linalg import block_diag\n",
    "\n",
    "g = block_diag(g0, g1)\n",
    "print(np.round(g, 8))"
   ]
  },
  {
   "cell_type": "markdown",
   "metadata": {},
   "source": [
    "PennyLane contains a built-in function for computing the Fubini-Study\n",
    "metric tensor, `~.pennylane.metric_tensor`{.interpreted-text\n",
    "role=\"func\"}, which we can use to verify this result:\n"
   ]
  },
  {
   "cell_type": "code",
   "execution_count": 11,
   "metadata": {
    "collapsed": false,
    "jupyter": {
     "outputs_hidden": false
    }
   },
   "outputs": [
    {
     "name": "stdout",
     "output_type": "stream",
     "text": [
      "[[ 0.125       0.          0.          0.        ]\n",
      " [ 0.          0.1875      0.          0.        ]\n",
      " [ 0.          0.          0.24973433 -0.01524701]\n",
      " [ 0.          0.         -0.01524701  0.20293623]]\n"
     ]
    }
   ],
   "source": [
    "print(np.round(qml.metric_tensor(circuit, approx=\"block-diag\")(params), 8))"
   ]
  },
  {
   "cell_type": "markdown",
   "metadata": {},
   "source": [
    "As opposed to our manual computation, which required 6 different quantum\n",
    "evaluations, the PennyLane Fubini-Study metric tensor implementation\n",
    "requires only 2 quantum evaluations, one per layer. This is done by\n",
    "automatically detecting the layer structure, and noting that every\n",
    "observable that must be measured commutes, allowing for simultaneous\n",
    "measurement.\n",
    "\n",
    "Therefore, by combining the quantum natural gradient optimizer with the\n",
    "analytic parameter-shift rule to optimize a variational circuit with $d$\n",
    "parameters and $L$ parametrized layers, a total of $2d+L$ quantum\n",
    "evaluations are required per optimization step.\n",
    "\n",
    "Note that the `pennylane.metric_tensor`\n",
    "function also supports computing the diagonal approximation to the\n",
    "metric tensor:\n"
   ]
  },
  {
   "cell_type": "code",
   "execution_count": 12,
   "metadata": {
    "collapsed": false,
    "jupyter": {
     "outputs_hidden": false
    }
   },
   "outputs": [
    {
     "name": "stdout",
     "output_type": "stream",
     "text": [
      "[[0.125      0.         0.         0.        ]\n",
      " [0.         0.1875     0.         0.        ]\n",
      " [0.         0.         0.24973433 0.        ]\n",
      " [0.         0.         0.         0.20293623]]\n"
     ]
    }
   ],
   "source": [
    "print(qml.metric_tensor(circuit, approx='diag')(params))"
   ]
  },
  {
   "cell_type": "markdown",
   "metadata": {},
   "source": [
    "Furthermore, the returned metric tensor is **full differentiable**;\n",
    "include it in your cost function, and train or optimize its value!\n"
   ]
  },
  {
   "cell_type": "markdown",
   "metadata": {},
   "source": [
    "Quantum natural gradient optimization\n",
    "=====================================\n",
    "\n",
    "PennyLane provides an implementation of the quantum natural gradient\n",
    "optimizer, `pennylane.QNGOptimizer`.\n",
    "Let's compare the optimization convergence of the QNG Optimizer and the\n",
    "`pennylane.GradientDescentOptimizer`\n",
    "for the simple variational circuit above.\n"
   ]
  },
  {
   "cell_type": "code",
   "execution_count": 13,
   "metadata": {
    "collapsed": false,
    "jupyter": {
     "outputs_hidden": false
    }
   },
   "outputs": [],
   "source": [
    "steps = 200\n",
    "init_params = np.array([0.432, -0.123, 0.543, 0.233], requires_grad=True)"
   ]
  },
  {
   "cell_type": "markdown",
   "metadata": {},
   "source": [
    "Performing vanilla gradient descent:\n"
   ]
  },
  {
   "cell_type": "code",
   "execution_count": 14,
   "metadata": {
    "collapsed": false,
    "jupyter": {
     "outputs_hidden": false
    }
   },
   "outputs": [],
   "source": [
    "gd_cost = []\n",
    "opt = qml.GradientDescentOptimizer(0.01)\n",
    "\n",
    "theta = init_params\n",
    "for _ in range(steps):\n",
    "    theta = opt.step(circuit, theta)\n",
    "    gd_cost.append(circuit(theta))"
   ]
  },
  {
   "cell_type": "markdown",
   "metadata": {},
   "source": [
    "Performing quantum natural gradient descent:\n"
   ]
  },
  {
   "cell_type": "code",
   "execution_count": 15,
   "metadata": {
    "collapsed": false,
    "jupyter": {
     "outputs_hidden": false
    }
   },
   "outputs": [],
   "source": [
    "qng_cost = []\n",
    "opt = qml.QNGOptimizer(0.01)\n",
    "\n",
    "theta = init_params\n",
    "for _ in range(steps):\n",
    "    theta = opt.step(circuit, theta)\n",
    "    qng_cost.append(circuit(theta))"
   ]
  },
  {
   "cell_type": "markdown",
   "metadata": {},
   "source": [
    "Plotting the cost vs optimization step for both optimization strategies:\n"
   ]
  },
  {
   "cell_type": "code",
   "execution_count": 16,
   "metadata": {
    "collapsed": false,
    "jupyter": {
     "outputs_hidden": false
    }
   },
   "outputs": [
    {
     "data": {
      "image/png": "[encoded data removed]",
      "text/plain": [
       "<Figure size 576x396 with 1 Axes>"
      ]
     },
     "metadata": {},
     "output_type": "display_data"
    }
   ],
   "source": [
    "from matplotlib import pyplot as plt\n",
    "\n",
    "plt.style.use(\"seaborn\")\n",
    "plt.plot(gd_cost, \"b\", label=\"Vanilla gradient descent\")\n",
    "plt.plot(qng_cost, \"g\", label=\"Quantum natural gradient descent\")\n",
    "\n",
    "plt.ylabel(\"Cost function value\")\n",
    "plt.xlabel(\"Optimization steps\")\n",
    "plt.legend()\n",
    "plt.show()"
   ]
  },
  {
   "cell_type": "markdown",
   "metadata": {},
   "source": [
    "References\n",
    "==========\n",
    "\n",
    "1.  Shun-Ichi Amari. \\\"Natural gradient works efficiently in learning.\\\"\n",
    "    [Neural computation 10.2,\n",
    "    251-276](https://www.mitpressjournals.org/doi/abs/10.1162/089976698300017746), 1998.\n",
    "2.  James Stokes, Josh Izaac, Nathan Killoran, Giuseppe Carleo.\n",
    "    \\\"Quantum Natural Gradient.\\\"\n",
    "    [arXiv:1909.02108](https://arxiv.org/abs/1909.02108), 2019.\n",
    "3.  Aram Harrow and John Napp. \\\"Low-depth gradient measurements can\n",
    "    improve convergence in variational hybrid quantum-classical\n",
    "    algorithms.\\\"\n",
    "    [arXiv:1901.05374](https://arxiv.org/abs/1901.05374), 2019.\n",
    "4.  Naoki Yamamoto. \\\"On the natural gradient for variational quantum\n",
    "    eigensolver.\\\"\n",
    "    [arXiv:1909.05074](https://arxiv.org/abs/1909.05074), 2019.\n"
   ]
  }
 ],
 "metadata": {
  "kernelspec": {
   "display_name": "Python 3 (ipykernel)",
   "language": "python",
   "name": "python3"
  },
  "language_info": {
   "codemirror_mode": {
    "name": "ipython",
    "version": 3
   },
   "file_extension": ".py",
   "mimetype": "text/x-python",
   "name": "python",
   "nbconvert_exporter": "python",
   "pygments_lexer": "ipython3",
   "version": "3.9.12"
  }
 },
 "nbformat": 4,
 "nbformat_minor": 4
}
