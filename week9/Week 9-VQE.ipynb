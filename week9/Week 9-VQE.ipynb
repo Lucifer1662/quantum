{
 "cells": [
  {
   "cell_type": "markdown",
   "id": "bc89374a-3d7d-4d0f-bc26-5937a1d5ca3a",
   "metadata": {},
   "source": [
    "# COMP90084 Workshop Week 9 - VQE\n",
    "Follows https://learn.qiskit.org/course/ch-applications/simulating-molecules-using-vqe and https://github.com/Qiskit/qiskit-tutorials/blob/master/tutorials/algorithms/03_vqe_simulation_with_noise.ipynb, and relevant Pennylane demos.\n",
    "## Introduction<a id='introduction'></a>\n",
    "In many applications it is important to find the minimum eigenvalue of a matrix. For example, in chemistry, the minimum eigenvalue of a Hermitian matrix characterizing the molecule is the ground state energy of that system. In the future, the quantum phase estimation algorithm may be used to find the minimum eigenvalue. However, its implementation on useful problems requires circuit depths exceeding the limits of hardware available in the NISQ era. Thus, in 2014, Peruzzo *et al.* proposed VQE to estimate the ground state energy of a molecule using much shallower circuits. \n",
    "\n",
    "Formally stated, given a Hermitian matrix $H$ with an unknown minimum eigenvalue $\\lambda_{min}$, associated with the eigenstate $|\\psi_{min}\\rangle$, VQE provides an estimate $\\lambda_{\\theta}$ bounding $\\lambda_{min}$:\n",
    "\n",
    "\\begin{align*}\n",
    "    \\lambda_{min} \\le \\lambda_{\\theta} \\equiv \\langle \\psi(\\theta) |H|\\psi(\\theta) \\rangle\n",
    "\\end{align*}  \n",
    "\n",
    "where $|\\psi(\\theta)\\rangle$ is the eigenstate associated with $\\lambda_{\\theta}$. By applying a parameterized circuit, represented by $U(\\theta)$, to some arbitrary starting state $|\\psi\\rangle$, the algorithm obtains an estimate $U(\\theta)|\\psi\\rangle \\equiv |\\psi(\\theta)\\rangle$ on $|\\psi_{min}\\rangle$. The estimate is iteratively optimized by a classical controller changing the parameter $\\theta$ minimizing the expectation value of $\\langle \\psi(\\theta) |H|\\psi(\\theta) \\rangle$.\n",
    "\n",
    "## The Variational Method of Quantum Mechanics<a id='varmethod'></a>\n",
    "### Mathematical Background<a id='backgroundmath'></a>\n",
    "\n",
    "VQE is an application of the variational method of quantum mechanics. To better understand the variational method, some preliminary mathematical background is provided. An eigenvector, $|\\psi_i\\rangle$, of a matrix $A$ is invariant under transformation by $A$ up to a scalar multiplicative constant (the eigenvalue $\\lambda_i$). That is,\n",
    "\n",
    "\\begin{align*}\n",
    "    A |\\psi_i\\rangle = \\lambda_i |\\psi_i\\rangle\n",
    "\\end{align*}\n",
    "\n",
    "Furthermore, a matrix $H$ is Hermitian when it is equal to its own conjugate transpose.\n",
    "\n",
    "\\begin{align*}\n",
    "    H = H^{\\dagger}\n",
    "\\end{align*}\n",
    "\n",
    "The spectral theorem states that the eigenvalues of a Hermitian matrix must be real. Thus, any eigenvalue of $H$ has the property that $\\lambda_i = \\lambda_i^*$. As any measurable quantity must be real, Hermitian matrices are suitable for describing the Hamiltonians of quantum systems. Moreover, $H$ may be expressed as\n",
    "\n",
    "\\begin{align*}\n",
    "    H = \\sum_{i = 1}^{N} \\lambda_i |\\psi_i\\rangle \\langle \\psi_i |\n",
    "\\end{align*}\n",
    "\n",
    "where each $\\lambda_i$ is the eigenvalue corresponding to the eigenvector $|\\psi_i\\rangle$. Furthermore, the expectation value of the observable $H$ on an arbitrary quantum state $|\\psi\\rangle$ is given by \n",
    "\n",
    "\\begin{align}\n",
    "    \\langle H \\rangle_{\\psi} &\\equiv \\langle \\psi | H | \\psi \\rangle\n",
    "\\end{align}\n",
    "\n",
    "Substituting $H$ with its representation as a weighted sum of its eigenvectors,\n",
    "\n",
    "\\begin{align}\n",
    "    \\langle H \\rangle_{\\psi} = \\langle \\psi | H | \\psi \\rangle &= \\langle \\psi | \\left(\\sum_{i = 1}^{N} \\lambda_i |\\psi_i\\rangle \\langle \\psi_i |\\right) |\\psi\\rangle\\\\\n",
    "    &= \\sum_{i = 1}^{N} \\lambda_i \\langle \\psi | \\psi_i\\rangle \\langle \\psi_i | \\psi\\rangle \\\\\n",
    "    &= \\sum_{i = 1}^{N} \\lambda_i | \\langle \\psi_i | \\psi\\rangle |^2\n",
    "\\end{align}\n",
    "\n",
    "\n",
    "The last equation demonstrates that the expectation value of an observable on any state can be expressed as a linear combination using the eigenvalues associated with $H$ as the weights. Moreover, each of the weights in the linear combination is greater than or equal to 0, as $| \\langle \\psi_i | \\psi\\rangle |^2 \\ge 0$ and so it is clear that\n",
    "\n",
    "\\begin{align}\n",
    "    \\lambda_{min} \\le \\langle H \\rangle_{\\psi} = \\langle \\psi | H | \\psi \\rangle = \\sum_{i = 1}^{N} \\lambda_i | \\langle \\psi_i | \\psi\\rangle |^2\n",
    "\\end{align}\n",
    "\n",
    "The above equation is known as the **variational method** (in some texts it is also known as the variational principle) [2]. It is important to note that this implies that the expectation value of any wave function will always be at least the minimum eigenvalue associated with $H$. Moreover, the expectation value of the eigenstate $|\\psi_{min}\\rangle$ is given by $\\langle \\psi_{min}|H|\\psi_{min}\\rangle = \\langle \\psi_{min}|\\lambda_{min}|\\psi_{min}\\rangle = \\lambda_{min}$. Thus, as expected, $\\langle H \\rangle_{\\psi_{min}}=\\lambda_{min}$.\n",
    "\n",
    "### Bounding the Ground State<a id='groundstate'></a>\n",
    "When the Hamiltonian of a system is described by the Hermitian matrix $H$ the ground state energy of that system, $E_{gs}$, is the smallest eigenvalue associated with $H$. By arbitrarily selecting a wave function $|\\psi \\rangle$ (called an *ansatz*) as an initial guess approximating $|\\psi_{min}\\rangle$, calculating its expectation value, $\\langle H \\rangle_{\\psi}$, and iteratively updating the wave function, arbitrarily tight bounds on the ground state energy of a Hamiltonian may be obtained. \n",
    "\n",
    "\n",
    "## The Variational Quantum Eigensolver<a id='vqe'></a>\n",
    "### Variational Forms<a id='varforms'></a>\n",
    "A systematic approach to varying the ansatz is required to implement the variational method on a quantum computer. VQE does so through the use of a parameterized circuit with a fixed form. Such a circuit is often called a *variational form*, and its action may be represented by the linear transformation $U(\\theta)$. A variational form is applied to a starting state $|\\psi\\rangle$ (such as the vacuum state $|0\\rangle$, or the Hartree Fock state) and generates an output state $U(\\theta)|\\psi\\rangle\\equiv |\\psi(\\theta)\\rangle$. Iterative optimization over $|\\psi(\\theta)\\rangle$ aims to yield an expectation value $\\langle \\psi(\\theta)|H|\\psi(\\theta)\\rangle \\approx E_{gs} \\equiv \\lambda_{min}$. Ideally, $|\\psi(\\theta)\\rangle$ will be close to $|\\psi_{min}\\rangle$ (where 'closeness' is characterized by either state fidelity, or Manhattan distance) although in practice, useful bounds on $E_{gs}$ can be obtained even if this is not the case.\n",
    "\n",
    "Moreover, a fixed variational form with a polynomial number of parameters can only generate transformations to a polynomially sized subspace of all the states in an exponentially sized Hilbert space. Consequently, various variational forms exist. Some, such as Ry and RyRz are heuristically designed, without consideration of the target domain. Others, such as UCCSD, utilize domain specific knowledge to generate close approximations based on the problem's structure. The structure of common variational forms is discussed in greater depth later in this document. \n",
    "\n",
    "### Simple Variational Forms<a id='simplevarform'></a>\n",
    "When constructing a variational form we must balance two opposing goals. Ideally, our $n$ qubit variational form would be able to generate any possible state $|\\psi\\rangle$ where $|\\psi\\rangle \\in \\mathbb{C}^N$ and $N=2^n$. However, we would like the variational form to use as few parameters as possible. Here, we aim to give intuition for the construction of variational forms satisfying our first goal, while disregarding the second goal for the sake of simplicity. \n",
    "\n",
    "Consider the case where $n=1$. The U3 gate takes three parameters, $\\theta, \\phi$ and $\\lambda$, and represents the following transformation:\n",
    "\n",
    "$$\n",
    "\\begin{align}\n",
    "    U3(\\theta, \\phi, \\lambda) = \\begin{pmatrix}\\cos(\\frac{\\theta}{2}) & -e^{i\\lambda}\\sin(\\frac{\\theta}{2}) \\\\ e^{i\\phi}\\sin(\\frac{\\theta}{2}) & e^{i\\lambda + i\\phi}\\cos(\\frac{\\theta}{2}) \\end{pmatrix}\n",
    "\\end{align}\n",
    "$$\n",
    "\n",
    "Up to a global phase, any possible single qubit transformation may be implemented by appropriately setting these parameters. Consequently, for the single qubit case, a variational form capable of generating any possible state is given by the circuit:\n",
    "\n",
    "![image1](https://qiskit.org/textbook/ch-applications/images/U3_var_form.png)\n",
    "\n",
    "\n",
    "Moreover, this universal 'variational form' only has 3 parameters and thus can be efficiently optimized. It is worth emphasizing that the ability to generate an arbitrary state ensures that during the optimization process, the variational form does not limit the set of attainable states over which the expectation value of $H$ can be taken. Ideally, this ensures that the minimum expectation value is limited only by the capabilities of the classical optimizer. \n",
    "\n",
    "A less trivial universal variational form may be derived for the 2 qubit case, where two body interactions, and thus entanglement, must be considered to achieve universality. Based on the work presented by *Shende et al.* [3] the following is an example of a universal parameterized 2 qubit circuit:\n",
    "\n",
    "![image2](https://qiskit.org/textbook/ch-applications/images/two_qubit_var_form.png)\n",
    "     \n",
    "Allow the transformation performed by the above circuit to be represented by $U(\\theta)$. When optimized variationally, the expectation value of $H$ is minimized when $U(\\theta)|\\psi\\rangle \\equiv |\\psi(\\theta)\\rangle \\approx |\\psi_{min}\\rangle$. By formulation, $U(\\theta)$ may produce a transformation to any possible state, and so this variational form may obtain an arbitrarily tight bound on two qubit ground state energies, only limited by the capabilities of the classical optimizer.\n",
    "\n",
    "## VQE in Qiskit\n"
   ]
  },
  {
   "cell_type": "code",
   "execution_count": 1,
   "id": "fafba517-900f-4774-a0d5-a6c011bd63db",
   "metadata": {},
   "outputs": [],
   "source": [
    "import numpy as np\n",
    "import pylab\n",
    "\n",
    "from qiskit import Aer\n",
    "from qiskit.utils import QuantumInstance, algorithm_globals\n",
    "from qiskit.algorithms import VQE, NumPyMinimumEigensolver\n",
    "from qiskit.algorithms.optimizers import SPSA\n",
    "from qiskit.circuit.library import TwoLocal\n",
    "from qiskit.opflow import I, X, Z"
   ]
  },
  {
   "cell_type": "code",
   "execution_count": 2,
   "id": "4223d90f-fd20-4902-8897-e8724d0f215c",
   "metadata": {},
   "outputs": [
    {
     "name": "stdout",
     "output_type": "stream",
     "text": [
      "Number of qubits: 2\n"
     ]
    }
   ],
   "source": [
    "# define the Hamiltonian\n",
    "H2_op = (-1.052373245772859 * I ^ I) + \\\n",
    "        (0.39793742484318045 * I ^ Z) + \\\n",
    "        (-0.39793742484318045 * Z ^ I) + \\\n",
    "        (-0.01128010425623538 * Z ^ Z) + \\\n",
    "        (0.18093119978423156 * X ^ X)\n",
    "\n",
    "print(f'Number of qubits: {H2_op.num_qubits}')"
   ]
  },
  {
   "cell_type": "markdown",
   "id": "bbc77ed4-c870-46ea-b5dd-608ede82f668",
   "metadata": {},
   "source": [
    "In the assignment questions, your parameters in the Hamiltonian need to follow https://journals.aps.org/prx/supplemental/10.1103/PhysRevX.8.011021/Supplementary.pdf. For your convenience, we'll provide the coefficients here:\n",
    "\n",
    "```\n",
    "distance_and_coeffs = np.array([\n",
    "    [0.05,  1.00777E+01,\t-1.05533E+00,\t1.55708E-01,\t-1.05533E+00,\t1.39333E-02],\n",
    "    [0.10,\t4.75665E+00,\t-1.02731E+00,\t1.56170E-01,\t-1.02731E+00,\t1.38667E-02],\n",
    "    [0.15,\t2.94817E+00,\t-9.84234E-01,\t1.56930E-01,\t-9.84234E-01,\t1.37610E-02],\n",
    "    [0.20,\t2.01153E+00,\t-9.30489E-01,\t1.57973E-01,\t-9.30489E-01,\t1.36238E-02],\n",
    "    [0.25,\t1.42283E+00,\t-8.70646E-01,\t1.59277E-01,\t-8.70646E-01,\t1.34635E-02],\n",
    "    [0.30,\t1.01018E+00,\t-8.08649E-01,\t1.60818E-01,\t-8.08649E-01,\t1.32880E-02],\n",
    "    [0.35,\t7.01273E-01,\t-7.47416E-01,\t1.62573E-01,\t-7.47416E-01,\t1.31036E-02],\n",
    "    [0.40,\t4.60364E-01,\t-6.88819E-01,\t1.64515E-01,\t-6.88819E-01,\t1.29140E-02],\n",
    "    [0.45,\t2.67547E-01,\t-6.33890E-01,\t1.66621E-01,\t-6.33890E-01,\t1.27192E-02],\n",
    "    [0.50,\t1.10647E-01,\t-5.83080E-01,\t1.68870E-01,\t-5.83080E-01,\t1.25165E-02],\n",
    "    [0.55,\t-1.83734E-02,\t-5.36489E-01,\t1.71244E-01,\t-5.36489E-01,\t1.23003E-02],\n",
    "    [0.65,\t-2.13932E-01,\t-4.55433E-01,\t1.76318E-01,\t-4.55433E-01,\t1.18019E-02],\n",
    "    [0.75,\t-3.49833E-01,\t-3.88748E-01,\t1.81771E-01,\t-3.88748E-01,\t1.11772E-02],\n",
    "    [0.85,\t-4.45424E-01,\t-3.33747E-01,\t1.87562E-01,    -3.33747E-01,\t1.04061E-02],\n",
    "    [0.95,\t-5.13548E-01,\t-2.87796E-01,\t1.93650E-01,\t-2.87796E-01,\t9.50345E-03],\n",
    "    [1.05,\t-5.62600E-01,\t-2.48783E-01,\t1.99984E-01,\t-2.48783E-01,\t8.50998E-03],\n",
    "    [1.15,\t-5.97973E-01,\t-2.15234E-01,\t2.06495E-01,\t-2.15234E-01,\t7.47722E-03],\n",
    "    [1.25,\t-6.23223E-01,\t-1.86173E-01,\t2.13102E-01,\t-1.86173E-01,\t6.45563E-03],\n",
    "    [1.35,\t-6.40837E-01,\t-1.60926E-01,\t2.19727E-01,\t-1.60926E-01,\t5.48623E-03],\n",
    "    [1.45,\t-6.52661E-01,\t-1.38977E-01,\t2.26294E-01,\t-1.38977E-01,\t4.59760E-03],\n",
    "    [1.55,\t-6.60117E-01,\t-1.19894E-01,\t2.32740E-01,\t-1.19894E-01,\t3.80558E-03],\n",
    "    [1.65,\t-6.64309E-01,\t-1.03305E-01,\t2.39014E-01,\t-1.03305E-01,\t3.11545E-03],\n",
    "    [1.75,\t-6.66092E-01,\t-8.88906E-02,\t2.45075E-01,\t-8.88906E-02,\t2.52480E-03],\n",
    "    [1.85,\t-6.66126E-01,\t-7.63712E-02,\t2.50896E-01,\t-7.63712E-02,\t2.02647E-03],\n",
    "    [1.95,\t-6.64916E-01,\t-6.55065E-02,\t2.56458E-01,\t-6.55065E-02,\t1.61100E-03],\n",
    "    [2.05,\t-6.62844E-01,\t-5.60866E-02,\t2.61750E-01,\t-5.60866E-02,\t1.26812E-03],\n",
    "    [2.15,\t-6.60199E-01,\t-4.79275E-02,\t2.66768E-01,\t-4.79275E-02,\t9.88000E-04],\n",
    "    [2.25,\t-6.57196E-01,\t-4.08672E-02,\t2.71512E-01,\t-4.08672E-02,\t7.61425E-04],\n",
    "    [2.35,\t-6.53992E-01,\t-3.47636E-02,\t2.75986E-01,\t-3.47636E-02,\t5.80225E-04],\n",
    "    [2.45,\t-6.50702E-01,\t-2.94924E-02,\t2.80199E-01,\t-2.94924E-02,\t4.36875E-04],\n",
    "    [2.55,\t-6.47408E-01,\t-2.49459E-02,\t2.84160E-01,\t-2.49459E-02,\t3.25025E-04],\n",
    "    [2.65,\t-6.44165E-01,\t-2.10309E-02,\t2.87881E-01,\t-2.10309E-02,\t2.38800E-04],\n",
    "    [2.75,\t-6.41011E-01,\t-1.76672E-02,\t2.91376E-01,\t-1.76672E-02,\t1.73300E-04],\n",
    "    [2.85,\t-6.37971E-01,\t-1.47853E-02,\t2.94658E-01,\t-1.47853E-02,\t1.24200E-04],\n",
    "    [2.95,\t-6.35058E-01,\t-1.23246E-02,\t2.97741E-01,\t-1.23246E-02,\t8.78750E-05],\n",
    "    [3.05,\t-6.32279E-01,\t-1.02318E-02,\t3.00638E-01,\t-1.02317E-02,\t6.14500E-05],\n",
    "    [3.15,\t-6.29635E-01,\t-8.45958E-03,\t3.03362E-01,\t-8.45958E-03,\t4.24250E-05],\n",
    "    [3.25,\t-6.27126E-01,\t-6.96585E-03,\t3.05927E-01,\t-6.96585E-03,\t2.89500E-05],\n",
    "    [3.35,\t-6.24746E-01,\t-5.71280E-03,\t3.08344E-01,\t-5.71280E-03,\t1.95500E-05],\n",
    "    [3.45,\t-6.22491E-01,\t-4.66670E-03,\t3.10625E-01,\t-4.66670E-03,\t1.30500E-05],\n",
    "    [3.55,\t-6.20353E-01,\t-3.79743E-03,\t3.12780E-01,\t-3.79743E-03,\t8.57500E-06],\n",
    "    [3.65,\t-6.18325E-01,\t-3.07840E-03,\t3.14819E-01,\t-3.07840E-03,\t5.60000E-06],\n",
    "    [3.75,\t-6.16401E-01,\t-2.48625E-03,\t3.16750E-01,\t-2.48625E-03,\t3.60000E-06],\n",
    "    [3.85,\t-6.14575E-01,\t-2.00063E-03,\t3.18581E-01,\t-2.00062E-03,\t2.27500E-06],\n",
    "    [3.95,\t-6.12839E-01,\t-1.60393E-03,\t3.20320E-01,\t-1.60392E-03,\t1.42500E-06]\n",
    "])\n",
    "```\n",
    "as well as the function which takes the coefficients as input arguments and returns the Hamiltonian:\n",
    "```\n",
    "def hamiltonianH2(coeff_I, coeff_Z1, coeff_X1X2, coeffZ_2, coeff_Z1Z2):\n",
    "    return coeff_I*(I^I) + coeff_Z1*(I^Z) + coeffZ_2*(Z^I) + coeff_X1X2*(X^X) + coeff_Z1Z2*(Z^Z)\n",
    "```\n"
   ]
  },
  {
   "cell_type": "markdown",
   "id": "0b318f40-2218-40f8-b941-234e594199de",
   "metadata": {},
   "source": [
    "As the $H_2$ problem is still easily tractable classically we can use NumPyMinimumEigensolver to compute a reference value so we can compare later the results."
   ]
  },
  {
   "cell_type": "code",
   "execution_count": 3,
   "id": "f9b96552-51f0-4f49-bf03-e9565978f0cc",
   "metadata": {},
   "outputs": [
    {
     "name": "stdout",
     "output_type": "stream",
     "text": [
      "Reference value: -1.85728\n"
     ]
    }
   ],
   "source": [
    "npme = NumPyMinimumEigensolver()\n",
    "result = npme.compute_minimum_eigenvalue(operator=H2_op)\n",
    "ref_value = result.eigenvalue.real\n",
    "print(f'Reference value: {ref_value:.5f}')"
   ]
  },
  {
   "cell_type": "markdown",
   "id": "c7bb9eea-80a5-48b8-9321-bbbe301296c0",
   "metadata": {},
   "source": [
    "Then run VQE on the simulator"
   ]
  },
  {
   "cell_type": "code",
   "execution_count": 4,
   "id": "9f3358a3-6774-4a6c-a45f-8e3a018bf48f",
   "metadata": {},
   "outputs": [
    {
     "name": "stdout",
     "output_type": "stream",
     "text": [
      "VQE on Aer qasm simulator (no noise): -1.85332\n",
      "Delta from reference energy value is 0.00395\n"
     ]
    },
    {
     "data": {
      "image/png": "[encoded data removed]",
      "text/plain": [
       "<Figure size 761.778x216.72 with 1 Axes>"
      ]
     },
     "execution_count": 4,
     "metadata": {},
     "output_type": "execute_result"
    }
   ],
   "source": [
    "seed = 170\n",
    "iterations = 125\n",
    "algorithm_globals.random_seed = seed\n",
    "backend = Aer.get_backend('aer_simulator')\n",
    "qi = QuantumInstance(backend=backend, seed_simulator=seed, seed_transpiler=seed) \n",
    "\n",
    "counts = []\n",
    "values = []\n",
    "def store_intermediate_result(eval_count, parameters, mean, std):\n",
    "    counts.append(eval_count)\n",
    "    values.append(mean)\n",
    "\n",
    "ansatz = TwoLocal(rotation_blocks='ry', entanglement_blocks='cz') # For the assignment, you'll need to use the ansatz provided in the specs\n",
    "spsa = SPSA(maxiter=iterations)\n",
    "vqe = VQE(ansatz, optimizer=spsa, callback=store_intermediate_result, quantum_instance=qi)\n",
    "result = vqe.compute_minimum_eigenvalue(operator=H2_op)\n",
    "print(f'VQE on Aer qasm simulator (no noise): {result.eigenvalue.real:.5f}')\n",
    "print(f'Delta from reference energy value is {(result.eigenvalue.real - ref_value):.5f}')\n",
    "ansatz.decompose().draw('mpl', style='bw', scale = 1.5)"
   ]
  },
  {
   "cell_type": "code",
   "execution_count": 5,
   "id": "295dfa9f-bbfa-4f17-b4d9-250db6aba6b0",
   "metadata": {},
   "outputs": [
    {
     "data": {
      "text/plain": [
       "Text(0.5, 1.0, 'Convergence with no noise')"
      ]
     },
     "execution_count": 5,
     "metadata": {},
     "output_type": "execute_result"
    },
    {
     "data": {
      "image/png": "[encoded data removed]",
      "text/plain": [
       "<Figure size 864x288 with 1 Axes>"
      ]
     },
     "metadata": {
      "needs_background": "light"
     },
     "output_type": "display_data"
    }
   ],
   "source": [
    "pylab.rcParams['figure.figsize'] = (12, 4)\n",
    "pylab.plot(counts, values)\n",
    "pylab.xlabel('Eval count')\n",
    "pylab.ylabel('Energy')\n",
    "pylab.title('Convergence with no noise')"
   ]
  },
  {
   "cell_type": "markdown",
   "id": "ef91a709-1786-4df7-972d-e38272b7efa4",
   "metadata": {},
   "source": [
    "## VQE in Pennylane"
   ]
  },
  {
   "cell_type": "code",
   "execution_count": 6,
   "id": "0fa21dc0-dcd5-47d1-96f2-36dfdb4dd97d",
   "metadata": {},
   "outputs": [],
   "source": [
    "from pennylane import numpy as np\n",
    "\n",
    "symbols = [\"H\", \"H\"]\n",
    "coordinates = np.array([0.0, 0.0, -0.6614, 0.0, 0.0, 0.6614])"
   ]
  },
  {
   "cell_type": "code",
   "execution_count": 7,
   "id": "d0c53232-1bfd-4027-8b48-37a5073ee2f8",
   "metadata": {},
   "outputs": [
    {
     "name": "stdout",
     "output_type": "stream",
     "text": [
      "Number of qubits =  4\n",
      "The Hamiltonian is    (-0.2427450126096215) [Z2]\n",
      "+ (-0.24274501260962145) [Z3]\n",
      "+ (-0.04207255194725573) [I0]\n",
      "+ (0.17771358229079076) [Z1]\n",
      "+ (0.1777135822907908) [Z0]\n",
      "+ (0.12293330449305753) [Z0 Z2]\n",
      "+ (0.12293330449305753) [Z1 Z3]\n",
      "+ (0.1676833885561007) [Z0 Z3]\n",
      "+ (0.1676833885561007) [Z1 Z2]\n",
      "+ (0.17059759276839584) [Z0 Z1]\n",
      "+ (0.17627661394197264) [Z2 Z3]\n",
      "+ (-0.04475008406304316) [Y0 Y1 X2 X3]\n",
      "+ (-0.04475008406304316) [X0 X1 Y2 Y3]\n",
      "+ (0.04475008406304316) [Y0 X1 X2 Y3]\n",
      "+ (0.04475008406304316) [X0 Y1 Y2 X3]\n"
     ]
    }
   ],
   "source": [
    "import pennylane as qml\n",
    "\n",
    "H, qubits = qml.qchem.molecular_hamiltonian(symbols, coordinates)\n",
    "print(\"Number of qubits = \", qubits)\n",
    "print(\"The Hamiltonian is \", H)"
   ]
  },
  {
   "cell_type": "code",
   "execution_count": 8,
   "id": "77796b7a-1419-4e48-881d-e654dd7a6536",
   "metadata": {},
   "outputs": [],
   "source": [
    "dev = qml.device(\"default.qubit\", wires=qubits)"
   ]
  },
  {
   "cell_type": "markdown",
   "id": "18980418-d7b1-4e3c-80d4-eb4a8a0661ab",
   "metadata": {},
   "source": [
    "Next, we need to define the quantum circuit that prepares the trial\n",
    "state of the molecule. We want to prepare states of the form,\n",
    "\n",
    "$$\\vert \\Psi(\\theta) \\rangle = \\cos(\\theta/2)~|1100\\rangle -\\sin(\\theta/2)~|0011\\rangle,$$\n",
    "\n",
    "where $\\theta$ is the variational parameter to be optimized in order to\n",
    "find the best approximation to the true ground state. In the\n",
    "Jordan-Wigner encoding, the first term $|1100\\rangle$ represents the\n",
    "[Hartree-Fock (HF)\n",
    "state](https://en.wikipedia.org/wiki/Hartree%E2%80%93Fock_method) where\n",
    "the two electrons in the molecule occupy the lowest-energy orbitals. The\n",
    "second term $|0011\\rangle$ encodes a double excitation of the HF state\n",
    "where the two particles are excited from qubits 0, 1 to 2, 3.\n",
    "\n",
    "The quantum circuit to prepare the trial state\n",
    "$\\vert \\Psi(\\theta) \\rangle$ is schematically illustrated in the figure\n",
    "below.\n",
    "\n",
    "\n",
    "\n",
    "![](https://pennylane.ai/qml/_images/sketch_circuit.png)\n",
    "\n",
    "\n",
    "\n",
    "In this figure, the gate $G^{(2)}$ corresponds to the\n",
    "`pennylane.DoubleExcitation`\n",
    "operation, implemented in PennyLane as a [Givens\n",
    "rotation](https://en.wikipedia.org/wiki/Givens_rotation), which couples\n",
    "the four-qubit states $\\vert 1100 \\rangle$ and $\\vert 0011 \\rangle$. For\n",
    "more details on how to use the excitation operations to build quantum\n",
    "circuits for quantum chemistry applications see the tutorial\n",
    "https://pennylane.ai/qml/demos/tutorial_givens_rotations.html.\n",
    "\n",
    "Implementing the circuit above using PennyLane is straightforward.\n",
    "First, we use the `hf_state()` function to\n",
    "generate the vector representing the Hartree-Fock state.\n"
   ]
  },
  {
   "cell_type": "code",
   "execution_count": 9,
   "id": "846711f2-c1da-4a77-b398-52e45bcb096c",
   "metadata": {},
   "outputs": [
    {
     "name": "stdout",
     "output_type": "stream",
     "text": [
      "[1 1 0 0]\n"
     ]
    }
   ],
   "source": [
    "electrons = 2\n",
    "hf = qml.qchem.hf_state(electrons, qubits)\n",
    "print(hf)"
   ]
  },
  {
   "cell_type": "code",
   "execution_count": 10,
   "id": "d69b5b1b-a559-4fd8-baed-88c80412b20c",
   "metadata": {},
   "outputs": [],
   "source": [
    "# define the ansatz\n",
    "def circuit(param, wires):\n",
    "    qml.BasisState(hf, wires=wires)\n",
    "    qml.DoubleExcitation(param, wires=[0, 1, 2, 3])\n",
    "# define the cost function\n",
    "@qml.qnode(dev)\n",
    "def cost_fn(param):\n",
    "    circuit(param, wires=range(qubits))\n",
    "    return qml.expval(H)"
   ]
  },
  {
   "cell_type": "code",
   "execution_count": 11,
   "id": "f4849cdc-a4b0-495b-a38f-79676d51a836",
   "metadata": {},
   "outputs": [
    {
     "name": "stdout",
     "output_type": "stream",
     "text": [
      "Step = 0,  Energy = -1.12799983 Ha\n",
      "Step = 2,  Energy = -1.13466246 Ha\n",
      "Step = 4,  Energy = -1.13590595 Ha\n",
      "Step = 6,  Energy = -1.13613667 Ha\n",
      "Step = 8,  Energy = -1.13617944 Ha\n",
      "Step = 10,  Energy = -1.13618736 Ha\n",
      "Step = 12,  Energy = -1.13618883 Ha\n",
      "\n",
      "Final value of the ground-state energy = -1.13618883 Ha\n",
      "\n",
      "Optimal value of the circuit parameter = 0.2089\n"
     ]
    }
   ],
   "source": [
    "# optimization\n",
    "step_size = 0.4\n",
    "# a basic gradient-descent optimizer\n",
    "opt = qml.GradientDescentOptimizer(stepsize=step_size)\n",
    "# initialize the circuit parameter\n",
    "theta = np.array(0.0, requires_grad=True)\n",
    "# carry out the optimization\n",
    "# store the values of the cost function\n",
    "energy = [cost_fn(theta)]\n",
    "\n",
    "# store the values of the circuit parameter\n",
    "angle = [theta]\n",
    "\n",
    "max_iterations = 100\n",
    "conv_tol = 1e-06\n",
    "\n",
    "for n in range(max_iterations):\n",
    "    theta, prev_energy = opt.step_and_cost(cost_fn, theta)\n",
    "\n",
    "    energy.append(cost_fn(theta))\n",
    "    angle.append(theta)\n",
    "\n",
    "    conv = np.abs(energy[-1] - prev_energy)\n",
    "\n",
    "    if n % 2 == 0:\n",
    "        print(f\"Step = {n},  Energy = {energy[-1]:.8f} Ha\")\n",
    "\n",
    "    if conv <= conv_tol:\n",
    "        break\n",
    "\n",
    "print(\"\\n\" f\"Final value of the ground-state energy = {energy[-1]:.8f} Ha\")\n",
    "print(\"\\n\" f\"Optimal value of the circuit parameter = {angle[-1]:.4f}\")"
   ]
  },
  {
   "cell_type": "code",
   "execution_count": 12,
   "id": "ebca9a55-24b3-4391-ad81-ba79dd40de93",
   "metadata": {},
   "outputs": [
    {
     "data": {
      "image/png": "[encoded data removed]",
      "text/plain": [
       "<Figure size 864x360 with 2 Axes>"
      ]
     },
     "metadata": {
      "needs_background": "light"
     },
     "output_type": "display_data"
    }
   ],
   "source": [
    "# plot the optimization process\n",
    "import matplotlib.pyplot as plt\n",
    "\n",
    "fig = plt.figure()\n",
    "fig.set_figheight(5)\n",
    "fig.set_figwidth(12)\n",
    "\n",
    "# Full configuration interaction (FCI) energy computed classically\n",
    "E_fci = -1.136189454088\n",
    "\n",
    "# Add energy plot on column 1\n",
    "ax1 = fig.add_subplot(121)\n",
    "ax1.plot(range(n + 2), energy, \"go\", ls=\"dashed\")\n",
    "ax1.plot(range(n + 2), np.full(n + 2, E_fci), color=\"red\")\n",
    "ax1.set_xlabel(\"Optimization step\", fontsize=13)\n",
    "ax1.set_ylabel(\"Energy (Hartree)\", fontsize=13)\n",
    "ax1.text(0.5, -1.1176, r\"$E_\\mathrm{HF}$\", fontsize=15)\n",
    "ax1.text(0, -1.1357, r\"$E_\\mathrm{FCI}$\", fontsize=15)\n",
    "plt.xticks(fontsize=12)\n",
    "plt.yticks(fontsize=12)\n",
    "\n",
    "# Add angle plot on column 2\n",
    "ax2 = fig.add_subplot(122)\n",
    "ax2.plot(range(n + 2), angle, \"go\", ls=\"dashed\")\n",
    "ax2.set_xlabel(\"Optimization step\", fontsize=13)\n",
    "ax2.set_ylabel(\"Gate parameter $\\\\theta$ (rad)\", fontsize=13)\n",
    "plt.xticks(fontsize=12)\n",
    "plt.yticks(fontsize=12)\n",
    "\n",
    "plt.subplots_adjust(wspace=0.3, bottom=0.2)\n",
    "plt.show()"
   ]
  },
  {
   "cell_type": "markdown",
   "id": "6319520c-37a1-41be-9a30-c935d20213ad",
   "metadata": {},
   "source": [
    "In this case, the VQE algorithm converges after thirteen iterations. The\n",
    "optimal value of the circuit parameter $\\theta^* = 0.208$ defines the\n",
    "state\n",
    "\n",
    "$$\\vert \\Psi(\\theta^*) \\rangle = 0.994~\\vert 1100 \\rangle - 0.104~\\vert 0011 \\rangle,$$\n",
    "\n",
    "which is precisely the ground state of the $\\mathrm{H}_2$ molecule in a\n",
    "minimal basis set approximation."
   ]
  },
  {
   "cell_type": "code",
   "execution_count": null,
   "id": "3060c90e-6546-46e7-b1b8-13c7284eab15",
   "metadata": {},
   "outputs": [],
   "source": []
  }
 ],
 "metadata": {
  "kernelspec": {
   "display_name": "Python 3.10.6 64-bit",
   "language": "python",
   "name": "python3"
  },
  "language_info": {
   "codemirror_mode": {
    "name": "ipython",
    "version": 3
   },
   "file_extension": ".py",
   "mimetype": "text/x-python",
   "name": "python",
   "nbconvert_exporter": "python",
   "pygments_lexer": "ipython3",
   "version": "3.10.6"
  },
  "vscode": {
   "interpreter": {
    "hash": "949777d72b0d2535278d3dc13498b2535136f6dfe0678499012e853ee9abcab1"
   }
  }
 },
 "nbformat": 4,
 "nbformat_minor": 5
}
