{
 "cells": [
  {
   "cell_type": "markdown",
   "id": "7730a678-95a6-4c27-9724-45976a5c7dfd",
   "metadata": {},
   "source": [
    "# COMP90084 Workshop Week 8\n",
    "In this week's workshop, we will implement the two algorithms, qPCA and quantum enhanced SVM, which were discussed during last week's lectures.\n",
    "## qPCA"
   ]
  },
  {
   "cell_type": "code",
   "execution_count": 2,
   "id": "5b96366a-6ba8-43f6-938b-a225affdebe8",
   "metadata": {},
   "outputs": [],
   "source": [
    "import numpy as np\n",
    "import qiskit\n",
    "from qiskit import QuantumCircuit, QuantumRegister, ClassicalRegister\n",
    "from qiskit.quantum_info import DensityMatrix, partial_trace, Statevector\n",
    "import sympy as sym\n",
    "from sklearn import datasets"
   ]
  },
  {
   "cell_type": "markdown",
   "id": "cb01cb31-9c3f-4ebe-97e4-3dee7ef8cf04",
   "metadata": {},
   "source": [
    "Load the Iris dataset directly from scikit-learn and calculate the covariance matrix with numpy"
   ]
  },
  {
   "cell_type": "code",
   "execution_count": 5,
   "id": "3d9ad937-b8fd-40cb-b4c4-ab497dce537e",
   "metadata": {},
   "outputs": [
    {
     "name": "stdout",
     "output_type": "stream",
     "text": [
      "4.9 0.2\n",
      "(150,) (150,)\n",
      "4.9 0.2\n",
      "(150,) (150,)\n",
      "[[0.68569351 0.51627069]\n",
      " [0.51627069 0.58100626]]\n",
      "1.266699776286353\n",
      "[[0.54132283 0.40757147]\n",
      " [0.40757147 0.45867717]]\n"
     ]
    }
   ],
   "source": [
    "iris = datasets.load_iris()\n",
    "# only look at column 1 and 4\n",
    "x = np.array(iris.data[:,0])\n",
    "y = np.array(iris.data[:,3])\n",
    "print(x[1], y[1])\n",
    "print(x.shape, y.shape)\n",
    "# standardise the data\n",
    "# x = x - np.mean(x)\n",
    "# y = y - np.mean(y)\n",
    "\n",
    "print(x[1], y[1])\n",
    "print(x.shape, y.shape)\n",
    "\n",
    "iris_data_cov_mat = np.cov(x, y)\n",
    "print(iris_data_cov_mat)\n",
    "print(np.trace(iris_data_cov_mat))\n",
    "# normalize the covariance matrix\n",
    "iris_data_cov_density_mat = iris_data_cov_mat/np.trace(iris_data_cov_mat)\n",
    "print(iris_data_cov_density_mat)"
   ]
  },
  {
   "cell_type": "markdown",
   "id": "bb3a2e69-1c66-4035-bb19-3277647f963a",
   "metadata": {},
   "source": [
    "Load the covariance matrix into the quantum circuit\n",
    "\n",
    "Calculate $\\theta_1$ and $\\theta_2$:\n",
    "$$\n",
    "\\rho = \\left[\\begin{array}{cc}\n",
    "\\frac{1}{2}\\left(1+\\operatorname{Cos}\\left(\\theta_{1}\\right) \\operatorname{Cos}\\left(\\theta_{2}\\right)\\right) & -\\frac{1}{2} \\operatorname{Cos}\\left(\\theta_{1}\\right) \\operatorname{Sin}\\left(\\theta_{2}\\right) \\\\\n",
    "-\\frac{1}{2} \\operatorname{Cos}\\left(\\theta_{1}\\right) \\operatorname{Sin}\\left(\\theta_{2}\\right) & \\frac{1}{2}\\left(1-\\operatorname{Cos}\\left(\\theta_{1}\\right) \\operatorname{Cos}\\left(\\theta_{2}\\right)\\right)\n",
    "\\end{array}\\right]\n",
    "$$"
   ]
  },
  {
   "cell_type": "code",
   "execution_count": 3,
   "id": "f2ef5fd3-d17a-4dc3-af54-c2a1364c6a6f",
   "metadata": {},
   "outputs": [
    {
     "name": "stdout",
     "output_type": "stream",
     "text": [
      "[[ 0.61056909 -1.46975366]\n",
      " [ 5.67261622 -1.46975366]]\n"
     ]
    }
   ],
   "source": [
    "theta1, theta2 = sym.symbols('theta1, theta2')\n",
    "eq00 = sym.Eq(1/2*(1+sym.cos(theta1)*sym.cos(theta2)), iris_data_cov_density_mat[0,0])\n",
    "eq01 = sym.Eq(-1/2*sym.cos(theta1)*sym.sin(theta2), iris_data_cov_density_mat[0,1])\n",
    "eq10 = sym.Eq(-1/2*sym.cos(theta1)*sym.sin(theta2), iris_data_cov_density_mat[1,0])\n",
    "eq11 = sym.Eq(1/2*(1-sym.cos(theta1)*sym.cos(theta2)), iris_data_cov_density_mat[1,1])\n",
    "result = sym.solve([eq00, eq01, eq10, eq11], [theta1, theta2])\n",
    "result = np.array(result, dtype = np.float64)\n",
    "print(result)"
   ]
  },
  {
   "cell_type": "markdown",
   "id": "eff33078-b23e-4442-b3af-649e1bf7472c",
   "metadata": {},
   "source": [
    "Construct the $U_{prep}$ circuit"
   ]
  },
  {
   "cell_type": "code",
   "execution_count": 4,
   "id": "d73b6eac-44ca-4870-8dc9-9fb70d0129b7",
   "metadata": {},
   "outputs": [
    {
     "data": {
      "image/png": "[encoded data removed]",
      "text/plain": [
       "<Figure size 490.878x216.72 with 1 Axes>"
      ]
     },
     "execution_count": 4,
     "metadata": {},
     "output_type": "execute_result"
    }
   ],
   "source": [
    "u_prep = QuantumCircuit(2, name='u_prep')\n",
    "u_prep.ry(result[0,0], 0)\n",
    "u_prep.cx(0,1)\n",
    "u_prep.ry(result[0,1], 0)\n",
    "u_prep.rz(np.pi, 0)\n",
    "u_prep.draw('mpl', style='bw', scale = 1.5)"
   ]
  },
  {
   "cell_type": "markdown",
   "id": "15bad626-9da6-4e04-9315-672bb672c3ab",
   "metadata": {},
   "source": [
    "Check the partial trace of the state produced by the $U_{prep}$ circuit.\n",
    "\n",
    "The partial trace is defined as:\n",
    "$$\n",
    "\\rho=(I \\otimes\\langle 0|)|\\psi\\rangle\\langle\\psi|(I \\otimes|0\\rangle)+(I \\otimes\\langle 1|)|\\psi\\rangle\\langle\\psi|(I \\otimes|1\\rangle)\n",
    "$$\n",
    "In this case we left the first qubit untouched and traced out the second qubit."
   ]
  },
  {
   "cell_type": "code",
   "execution_count": 5,
   "id": "5638a182-2cf4-4754-9459-be5b3c1911c7",
   "metadata": {},
   "outputs": [
    {
     "name": "stdout",
     "output_type": "stream",
     "text": [
      "[[0.54132283+0.000000e+00j 0.40757147+4.991311e-17j]\n",
      " [0.40757147-4.991311e-17j 0.45867717+0.000000e+00j]]\n"
     ]
    }
   ],
   "source": [
    "u_prep_rho = DensityMatrix(u_prep)\n",
    "cov_mat_rho = partial_trace(u_prep_rho, [1]) # trace out the second qubit\n",
    "print(cov_mat_rho.data)"
   ]
  },
  {
   "cell_type": "code",
   "execution_count": 6,
   "id": "943d0cec-aae9-4576-9853-b668259bebbc",
   "metadata": {},
   "outputs": [
    {
     "name": "stdout",
     "output_type": "stream",
     "text": [
      "[[0.54132283 0.40757147]\n",
      " [0.40757147 0.45867717]]\n"
     ]
    }
   ],
   "source": [
    "print(iris_data_cov_density_mat)"
   ]
  },
  {
   "cell_type": "markdown",
   "id": "a020a4ee-2ae4-439b-bc2a-ea07a6cca0b5",
   "metadata": {},
   "source": [
    "We can see that the state produced by the $U_{prep}$ circuit (after trace out the second qubit) is indeed the normalized corvariant matrix.\n",
    "\n",
    "Full qPCA circuit"
   ]
  },
  {
   "cell_type": "code",
   "execution_count": 7,
   "id": "66f73dde-c9f5-4189-8ef2-7e9849c084b5",
   "metadata": {},
   "outputs": [
    {
     "data": {
      "image/png": "[encoded data removed]",
      "text/plain": [
       "<Figure size 581.396x577.92 with 1 Axes>"
      ]
     },
     "execution_count": 7,
     "metadata": {},
     "output_type": "execute_result"
    }
   ],
   "source": [
    "qpca = QuantumCircuit(5,1)\n",
    "qpca.append(u_prep.to_gate(), [1,2])\n",
    "qpca.append(u_prep.to_gate(), [3,4])\n",
    "qpca.h(0)\n",
    "qpca.cswap(control_qubit=0, target_qubit1=1, target_qubit2=3)\n",
    "qpca.h(0)\n",
    "qpca.measure(0,0)\n",
    "qpca.draw('mpl', style = 'bw', scale=1.5)"
   ]
  },
  {
   "cell_type": "code",
   "execution_count": 8,
   "id": "0d75877d-0db3-40a6-8335-e25f8be89878",
   "metadata": {},
   "outputs": [
    {
     "name": "stdout",
     "output_type": "stream",
     "text": [
      "{'1': 8139, '0': 91861}\n",
      "{'1': 0.08139, '0': 0.91861}\n"
     ]
    }
   ],
   "source": [
    "# run the simulation\n",
    "simulator = qiskit.Aer.get_backend('aer_simulator')\n",
    "qpca = qiskit.transpile(qpca, simulator)\n",
    "result = simulator.run(qpca, shots = 100000).result()\n",
    "counts = result.get_counts(qpca)\n",
    "print(counts)\n",
    "probs = {}\n",
    "for key in counts.keys():\n",
    "    probs[key] = counts[key]/sum(counts.values())\n",
    "print(probs)"
   ]
  },
  {
   "cell_type": "markdown",
   "id": "9b635a8b-e84e-4764-a4bb-eabc0c7b3269",
   "metadata": {},
   "source": [
    "Estimate the eigenvalues"
   ]
  },
  {
   "cell_type": "code",
   "execution_count": 9,
   "id": "61a813a3-87aa-477a-94d2-740dce730079",
   "metadata": {},
   "outputs": [
    {
     "name": "stdout",
     "output_type": "stream",
     "text": [
      "[1.1534840252483596, 0.11321575103799328]\n"
     ]
    }
   ],
   "source": [
    "prob_diff = probs['0'] - probs['1']\n",
    "lambda1 = np.trace(iris_data_cov_mat)*(1+np.sqrt(1-2*(1-prob_diff)))/2\n",
    "lambda2 = np.trace(iris_data_cov_mat)*(1-np.sqrt(1-2*(1-prob_diff)))/2\n",
    "print([lambda1, lambda2])"
   ]
  },
  {
   "cell_type": "markdown",
   "id": "895a0791-4240-4fd3-85c7-775e650e2c21",
   "metadata": {},
   "source": [
    "Eigenvalues directly from the covariant matrix:"
   ]
  },
  {
   "cell_type": "code",
   "execution_count": 10,
   "id": "09f6e200-1c02-44ba-81b5-93b120609f22",
   "metadata": {},
   "outputs": [
    {
     "data": {
      "text/plain": [
       "array([1.1522673 , 0.11443247])"
      ]
     },
     "execution_count": 10,
     "metadata": {},
     "output_type": "execute_result"
    }
   ],
   "source": [
    "np.linalg.eigvals(iris_data_cov_mat)"
   ]
  },
  {
   "cell_type": "markdown",
   "id": "67478dcb-e025-4db1-8aba-8fd87a95cc3c",
   "metadata": {},
   "source": [
    "Or we can extract the probabilities from the state of the circuit"
   ]
  },
  {
   "cell_type": "code",
   "execution_count": 11,
   "id": "bbb557d5-4cd7-4e48-842a-c6e02958cbbe",
   "metadata": {},
   "outputs": [
    {
     "data": {
      "image/png": "[encoded data removed]",
      "text/plain": [
       "<Figure size 491.096x577.92 with 1 Axes>"
      ]
     },
     "execution_count": 11,
     "metadata": {},
     "output_type": "execute_result"
    }
   ],
   "source": [
    "# no measurement at the end, just need the density matrix\n",
    "qpca_dm = QuantumCircuit(5,1)\n",
    "qpca_dm.append(u_prep.to_gate(), [1,2])\n",
    "qpca_dm.append(u_prep.to_gate(), [3,4])\n",
    "qpca_dm.h(0)\n",
    "qpca_dm.cswap(control_qubit=0, target_qubit1=1, target_qubit2=3)\n",
    "qpca_dm.h(0)\n",
    "qpca_dm.draw('mpl', style = 'bw', scale = 1.5)"
   ]
  },
  {
   "cell_type": "code",
   "execution_count": 12,
   "id": "d1a452a7-809a-4e95-918c-3e9cc5fcccfa",
   "metadata": {},
   "outputs": [
    {
     "data": {
      "text/plain": [
       "array([[0.91782208+4.86297311e-33j, 0.        +0.00000000e+00j],\n",
       "       [0.        +0.00000000e+00j, 0.08217792-4.86297311e-33j]])"
      ]
     },
     "execution_count": 12,
     "metadata": {},
     "output_type": "execute_result"
    }
   ],
   "source": [
    "# convert to density matrix\n",
    "final_state = DensityMatrix(qpca_dm)\n",
    "# trace out the qubits except the first one\n",
    "final_state_first_qubit = partial_trace(final_state, [1,2,3,4])\n",
    "final_state_first_qubit.data"
   ]
  },
  {
   "cell_type": "code",
   "execution_count": 13,
   "id": "c7506f04-45f0-4a40-8aec-8a78f4eedb9e",
   "metadata": {},
   "outputs": [
    {
     "name": "stdout",
     "output_type": "stream",
     "text": [
      "{'0': 0.9178220820842811, '1': 0.08217791791571877}\n"
     ]
    }
   ],
   "source": [
    "# extract the probabilities from the density matrix\n",
    "probs_dm = final_state_first_qubit.probabilities_dict()\n",
    "print(probs_dm)"
   ]
  },
  {
   "cell_type": "code",
   "execution_count": 14,
   "id": "eacda486-fc05-441f-8cee-d177e7ddff7a",
   "metadata": {},
   "outputs": [
    {
     "name": "stdout",
     "output_type": "stream",
     "text": [
      "[1.152267303509043, 0.11443247277730993]\n",
      "[1.1522673  0.11443247]\n"
     ]
    }
   ],
   "source": [
    "# estimate the eigenvalues\n",
    "prob_diff_dm = probs_dm['0'] - probs_dm['1']\n",
    "lambda1_dm = np.trace(iris_data_cov_mat)*(1+np.sqrt(1-2*(1-prob_diff_dm)))/2\n",
    "lambda2_dm = np.trace(iris_data_cov_mat)*(1-np.sqrt(1-2*(1-prob_diff_dm)))/2\n",
    "print([lambda1_dm, lambda2_dm])\n",
    "print(np.linalg.eigvals(iris_data_cov_mat))"
   ]
  },
  {
   "cell_type": "markdown",
   "id": "49b2f6dd-acab-4cbf-8df3-9883728a2312",
   "metadata": {},
   "source": [
    "## Quantum Kernel Machine Learning\n",
    "This section follows https://qiskit.org/documentation/machine-learning/tutorials/03_quantum_kernel.html.\n",
    "\n",
    "The general task of machine learning is to find and study patterns in data. For many datasets, the datapoints are better understood in a higher dimensional feature space, through the use of a kernel function:\n",
    "$k(\\vec{x}_i, \\vec{x}_j) = \\langle f(\\vec{x}_i), f(\\vec{x}_j) \\rangle$\n",
    "where $k$ is the kernel function, $\\vec{x}_i, \\vec{x}_j$ are $n$ dimensional inputs, $f$ is a map from $n$-dimension to $m$-dimension space and $\\langle a,b \\rangle$ denotes the dot product. When considering finite data, a kernel function can be represented as a matrix: \n",
    "$K_{ij} = k(\\vec{x}_i,\\vec{x}_j)$.\n",
    "\n",
    "In quantum kernel machine learning, a quantum feature map $\\phi(\\vec{x})$ is used to map a classical feature vector $\\vec{x}$ to a quantum Hilbert space, $| \\phi(\\vec{x})\\rangle \\langle \\phi(\\vec{x})|$, such that $K_{ij} = \\left| \\langle \\phi^\\dagger(\\vec{x}_j)| \\phi(\\vec{x}_i) \\rangle \\right|^{2}$. See [_Supervised learning with quantum enhanced feature spaces_](https://arxiv.org/pdf/1804.11326.pdf) for more details.\n",
    "\n",
    "In this notebook, we use `qiskit` to calculate a kernel matrix using a quantum feature map, then use this kernel matrix in `scikit-learn` classification and clustering algorithms.\n"
   ]
  },
  {
   "cell_type": "code",
   "execution_count": 15,
   "id": "849fdb53-4908-465f-bc74-4173f92ceecd",
   "metadata": {},
   "outputs": [],
   "source": [
    "import matplotlib.pyplot as plt\n",
    "from sklearn.svm import SVC\n",
    "from qiskit import BasicAer\n",
    "from qiskit.circuit.library import ZZFeatureMap\n",
    "from qiskit.utils import QuantumInstance, algorithm_globals\n",
    "from qiskit_machine_learning.algorithms import QSVC\n",
    "from qiskit_machine_learning.kernels import QuantumKernel\n",
    "from qiskit_machine_learning.datasets import ad_hoc_data\n",
    "\n",
    "seed = 42\n",
    "algorithm_globals.random_seed = seed"
   ]
  },
  {
   "cell_type": "markdown",
   "id": "3b59caa5-b1dd-4c3f-878f-1a3a69710a9d",
   "metadata": {},
   "source": [
    "For our classification example, we will use the _ad hoc dataset_ as described in [_Supervised learning with quantum enhanced feature spaces_](https://arxiv.org/pdf/1804.11326.pdf), and the `scikit-learn` [support vector machine](https://scikit-learn.org/stable/modules/svm.html) classification (`svc`) algorithm. "
   ]
  },
  {
   "cell_type": "code",
   "execution_count": 16,
   "id": "6964ec1e-c52e-46bd-a95a-26f7c7227c96",
   "metadata": {},
   "outputs": [
    {
     "data": {
      "image/png": "[encoded data removed]",
      "text/plain": [
       "<Figure size 720x720 with 1 Axes>"
      ]
     },
     "metadata": {
      "needs_background": "light"
     },
     "output_type": "display_data"
    }
   ],
   "source": [
    "adhoc_dimension = 2\n",
    "train_features, train_labels, test_features, test_labels, adhoc_total = ad_hoc_data(\n",
    "    training_size=20,\n",
    "    test_size=5,\n",
    "    n=adhoc_dimension,\n",
    "    gap=0.1,\n",
    "    plot_data=False,\n",
    "    one_hot=False,\n",
    "    include_sample_total=True,\n",
    ")\n",
    "\n",
    "plt.figure(figsize=(10, 10))\n",
    "plt.ylim(0, 2 * np.pi)\n",
    "plt.xlim(0, 2 * np.pi)\n",
    "plt.imshow(\n",
    "    np.asmatrix(adhoc_total).T,\n",
    "    interpolation=\"nearest\",\n",
    "    origin=\"lower\",\n",
    "    cmap=\"RdBu\",\n",
    "    extent=[0, 2 * np.pi, 0, 2 * np.pi],\n",
    ")\n",
    "\n",
    "plt.scatter(\n",
    "    train_features[np.where(train_labels[:] == 0), 0],\n",
    "    train_features[np.where(train_labels[:] == 0), 1],\n",
    "    marker=\"s\",\n",
    "    facecolors=\"w\",\n",
    "    edgecolors=\"b\",\n",
    "    label=\"A train\",\n",
    ")\n",
    "plt.scatter(\n",
    "    train_features[np.where(train_labels[:] == 1), 0],\n",
    "    train_features[np.where(train_labels[:] == 1), 1],\n",
    "    marker=\"o\",\n",
    "    facecolors=\"w\",\n",
    "    edgecolors=\"r\",\n",
    "    label=\"B train\",\n",
    ")\n",
    "plt.scatter(\n",
    "    test_features[np.where(test_labels[:] == 0), 0],\n",
    "    test_features[np.where(test_labels[:] == 0), 1],\n",
    "    marker=\"s\",\n",
    "    facecolors=\"b\",\n",
    "    edgecolors=\"w\",\n",
    "    label=\"A test\",\n",
    ")\n",
    "plt.scatter(\n",
    "    test_features[np.where(test_labels[:] == 1), 0],\n",
    "    test_features[np.where(test_labels[:] == 1), 1],\n",
    "    marker=\"o\",\n",
    "    facecolors=\"r\",\n",
    "    edgecolors=\"w\",\n",
    "    label=\"B test\",\n",
    ")\n",
    "\n",
    "plt.legend(bbox_to_anchor=(1.05, 1), loc=\"upper left\", borderaxespad=0.0)\n",
    "plt.title(\"Ad hoc dataset for classification\")\n",
    "\n",
    "plt.show()"
   ]
  },
  {
   "cell_type": "markdown",
   "id": "8b86385a-7166-479e-9209-c0ff9c13329c",
   "metadata": {},
   "source": [
    "With our training and testing datasets ready, we set up the `QuantumKernel` class to calculate a kernel matrix using the [ZZFeatureMap](https://qiskit.org/documentation/stubs/qiskit.circuit.library.ZZFeatureMap.html), and the `BasicAer` `qasm_simulator` using 1024 shots."
   ]
  },
  {
   "cell_type": "code",
   "execution_count": 17,
   "id": "81c38e2b-46f4-47ab-8feb-ef1da56e9b30",
   "metadata": {},
   "outputs": [
    {
     "data": {
      "image/png": "[encoded data removed]",
      "text/plain": [
       "<Figure size 929.252x144.48 with 1 Axes>"
      ]
     },
     "execution_count": 17,
     "metadata": {},
     "output_type": "execute_result"
    }
   ],
   "source": [
    "adhoc_feature_map = ZZFeatureMap(feature_dimension=adhoc_dimension, reps=2, entanglement=\"linear\")\n",
    "\n",
    "adhoc_backend = QuantumInstance(\n",
    "    BasicAer.get_backend(\"qasm_simulator\"), shots=1024, seed_simulator=seed, seed_transpiler=seed\n",
    ")\n",
    "\n",
    "adhoc_kernel = QuantumKernel(feature_map=adhoc_feature_map, quantum_instance=adhoc_backend)\n",
    "adhoc_feature_map.decompose().draw('mpl', style = 'bw')"
   ]
  },
  {
   "cell_type": "markdown",
   "id": "17ccee11-b802-4c53-a54d-f10f468f8301",
   "metadata": {},
   "source": [
    "The `scikit-learn` `svc` algorithm allows us to define a [custom kernel](https://scikit-learn.org/stable/modules/svm.html#custom-kernels) in two ways: by providing the kernel as a callable function or by precomputing the kernel matrix. We can do either of these using the `QuantumKernel` class in `qiskit`.\n",
    "\n",
    "The following code gives the kernel as a callable function:"
   ]
  },
  {
   "cell_type": "code",
   "execution_count": 18,
   "id": "d60e19fd-e800-4b0b-a43c-e6ee2df0aa5c",
   "metadata": {},
   "outputs": [
    {
     "name": "stdout",
     "output_type": "stream",
     "text": [
      "Callable kernel classification test score: 0.9\n"
     ]
    }
   ],
   "source": [
    "adhoc_svc = SVC(kernel=adhoc_kernel.evaluate)\n",
    "adhoc_svc.fit(train_features, train_labels)\n",
    "adhoc_score = adhoc_svc.score(test_features, test_labels)\n",
    "\n",
    "print(f\"Callable kernel classification test score: {adhoc_score}\")"
   ]
  },
  {
   "cell_type": "markdown",
   "id": "62a0999e-35d6-4729-a084-ae0d8ca76ded",
   "metadata": {},
   "source": [
    "The following code precomputes and plots the training and testing kernel matrices before providing them to the `scikit-learn` `svc` algorithm:"
   ]
  },
  {
   "cell_type": "code",
   "execution_count": 19,
   "id": "6ebd78d2-679d-4b3a-94c4-1ed27b96d126",
   "metadata": {},
   "outputs": [
    {
     "data": {
      "image/png": "[encoded data removed]",
      "text/plain": [
       "<Figure size 720x360 with 2 Axes>"
      ]
     },
     "metadata": {
      "needs_background": "light"
     },
     "output_type": "display_data"
    },
    {
     "name": "stdout",
     "output_type": "stream",
     "text": [
      "Precomputed kernel classification test score: 0.9\n"
     ]
    }
   ],
   "source": [
    "adhoc_matrix_train = adhoc_kernel.evaluate(x_vec=train_features)\n",
    "adhoc_matrix_test = adhoc_kernel.evaluate(x_vec=test_features, y_vec=train_features)\n",
    "\n",
    "fig, axs = plt.subplots(1, 2, figsize=(10, 5))\n",
    "axs[0].imshow(\n",
    "    np.asmatrix(adhoc_matrix_train), interpolation=\"nearest\", origin=\"upper\", cmap=\"Blues\"\n",
    ")\n",
    "axs[0].set_title(\"Ad hoc training kernel matrix\")\n",
    "axs[1].imshow(np.asmatrix(adhoc_matrix_test), interpolation=\"nearest\", origin=\"upper\", cmap=\"Reds\")\n",
    "axs[1].set_title(\"Ad hoc testing kernel matrix\")\n",
    "plt.show()\n",
    "\n",
    "adhoc_svc = SVC(kernel=\"precomputed\")\n",
    "adhoc_svc.fit(adhoc_matrix_train, train_labels)\n",
    "adhoc_score = adhoc_svc.score(adhoc_matrix_test, test_labels)\n",
    "\n",
    "print(f\"Precomputed kernel classification test score: {adhoc_score}\")"
   ]
  },
  {
   "cell_type": "markdown",
   "id": "8a8bc186-1dd0-4dfa-b5fd-c29c810dc21d",
   "metadata": {},
   "source": [
    "`qiskit` also contains the `qsvc` class that extends the `sklearn svc` class, that can be used as follows:"
   ]
  },
  {
   "cell_type": "code",
   "execution_count": 20,
   "id": "0618a070-5ad1-4412-a4c7-2a4b5d7c23bf",
   "metadata": {},
   "outputs": [
    {
     "name": "stdout",
     "output_type": "stream",
     "text": [
      "QSVC classification test score: 0.9\n"
     ]
    }
   ],
   "source": [
    "qsvc = QSVC(quantum_kernel=adhoc_kernel)\n",
    "qsvc.fit(train_features, train_labels)\n",
    "qsvc_score = qsvc.score(test_features, test_labels)\n",
    "\n",
    "print(f\"QSVC classification test score: {qsvc_score}\")"
   ]
  },
  {
   "cell_type": "markdown",
   "id": "9c358cde-6df8-4deb-a62a-9827f0f9ab0e",
   "metadata": {},
   "source": [
    "## Training the Quantum Embedding Kernel\n",
    "\n",
    "Based on https://pennylane.ai/qml/demos/tutorial_kernels_module.html#training-qeks\n",
    "\n",
    "To be able to train the Quantum Embedding Kernel we need some measure of\n",
    "how well it fits the dataset in question. Performing an exhaustive\n",
    "search in parameter space is not a good solution because it is very\n",
    "resource intensive, and since the accuracy is a discrete quantity we\n",
    "would not be able to detect small improvements.\n",
    "\n",
    "We can, however, resort to a more specialized measure, the\n",
    "*kernel-target alignment*. The kernel-target alignment compares the\n",
    "similarity predicted by the quantum kernel to the actual labels of the\n",
    "training data. It is based on *kernel alignment*, a similiarity measure\n",
    "between two kernels with given kernel matrices $K_1$ and $K_2$:\n",
    "\n",
    "$$\\operatorname{KA}(K_1, K_2) = \\frac{\\operatorname{Tr}(K_1 K_2)}{\\sqrt{\\operatorname{Tr}(K_1^2)\\operatorname{Tr}(K_2^2)}}.$$\n",
    "\n",
    "\n",
    "\n",
    "Seen from a more theoretical side, $\\operatorname{KA}$ is nothing else\n",
    "than the cosine of the angle between the kernel matrices $K_1$ and $K_2$\n",
    "if we see them as vectors in the space of matrices with the\n",
    "Hilbert-Schmidt (or Frobenius) scalar product\n",
    "$\\langle A, B \\rangle = \\operatorname{Tr}(A^T B)$. This reinforces the\n",
    "geometric picture of how this measure relates to objects, namely two\n",
    "kernels, being aligned in a vector space.\n",
    "\n",
    "\n",
    "The training data enters the picture by defining an *ideal* kernel\n",
    "function that expresses the original labelling in the vector\n",
    "$\\boldsymbol{y}$ by assigning to two datapoints the product of the\n",
    "corresponding labels:\n",
    "\n",
    "$$k_{\\boldsymbol{y}}(\\boldsymbol{x}_i, \\boldsymbol{x}_j) = y_i y_j.$$\n",
    "\n",
    "The assigned kernel is thus $+1$ if both datapoints lie in the same\n",
    "class and $-1$ otherwise and its kernel matrix is simply given by the\n",
    "outer product $\\boldsymbol{y}\\boldsymbol{y}^T$. The kernel-target\n",
    "alignment is then defined as the kernel alignment of the kernel matrix\n",
    "$K$ generated by the quantum kernel and\n",
    "$\\boldsymbol{y}\\boldsymbol{y}^T$:\n",
    "\n",
    "$$\\operatorname{KTA}_{\\boldsymbol{y}}(K)\n",
    "= \\frac{\\operatorname{Tr}(K \\boldsymbol{y}\\boldsymbol{y}^T)}{\\sqrt{\\operatorname{Tr}(K^2)\\operatorname{Tr}((\\boldsymbol{y}\\boldsymbol{y}^T)^2)}}\n",
    "= \\frac{\\boldsymbol{y}^T K \\boldsymbol{y}}{\\sqrt{\\operatorname{Tr}(K^2)} N}$$\n",
    "\n",
    "where $N$ is the number of elements in $\\boldsymbol{y}$, that is the\n",
    "number of datapoints in the dataset.\n",
    "\n",
    "In summary, the kernel-target alignment effectively captures how well\n",
    "the kernel you chose reproduces the actual similarities of the data. It\n",
    "does have one drawback, however: having a high kernel-target alignment\n",
    "is only a necessary but not a sufficient condition for a good\n",
    "performance of the kernel. This means having good alignment is\n",
    "guaranteed for good performance, but optimal alignment will not always\n",
    "bring optimal training accuracy with it.\n",
    "\n",
    "\n"
   ]
  },
  {
   "cell_type": "code",
   "execution_count": 21,
   "id": "b2e1718a-b804-4b3c-8d64-0d2516a9a2a2",
   "metadata": {},
   "outputs": [],
   "source": [
    "from pennylane import numpy as np\n",
    "np.random.seed(1359)\n",
    "import pennylane as qml\n",
    "import matplotlib as mpl\n",
    "import time"
   ]
  },
  {
   "cell_type": "markdown",
   "id": "46d1c857-f714-47bf-b9cd-ab05dfc79a3e",
   "metadata": {},
   "source": [
    "Make a toy data set"
   ]
  },
  {
   "cell_type": "code",
   "execution_count": 22,
   "id": "97602dda-b884-495e-b378-143e24625e4e",
   "metadata": {},
   "outputs": [],
   "source": [
    "def _make_circular_data(num_sectors):\n",
    "    \"\"\"Generate datapoints arranged in an even circle.\"\"\"\n",
    "    center_indices = np.array(range(0, num_sectors))\n",
    "    sector_angle = 2 * np.pi / num_sectors\n",
    "    angles = (center_indices + 0.5) * sector_angle\n",
    "    x = 0.7 * np.cos(angles)\n",
    "    y = 0.7 * np.sin(angles)\n",
    "    labels = 2 * np.remainder(np.floor_divide(angles, sector_angle), 2) - 1\n",
    "\n",
    "    return x, y, labels\n",
    "\n",
    "\n",
    "def make_double_cake_data(num_sectors):\n",
    "    x1, y1, labels1 = _make_circular_data(num_sectors)\n",
    "    x2, y2, labels2 = _make_circular_data(num_sectors)\n",
    "\n",
    "    # x and y coordinates of the datapoints\n",
    "    x = np.hstack([x1, 0.5 * x2])\n",
    "    y = np.hstack([y1, 0.5 * y2])\n",
    "\n",
    "    # Canonical form of dataset\n",
    "    X = np.vstack([x, y]).T\n",
    "\n",
    "    labels = np.hstack([labels1, -1 * labels2])\n",
    "\n",
    "    # Canonical form of labels\n",
    "    Y = labels.astype(int)\n",
    "\n",
    "    return X, Y\n",
    "\n",
    "def plot_double_cake_data(X, Y, ax, num_sectors=None):\n",
    "    \"\"\"Plot double cake data and corresponding sectors.\"\"\"\n",
    "    x, y = X.T\n",
    "    cmap = mpl.colors.ListedColormap([\"#FF0000\", \"#0000FF\"])\n",
    "    ax.scatter(x, y, c=Y, cmap=cmap, s=25, marker=\"s\")\n",
    "\n",
    "    if num_sectors is not None:\n",
    "        sector_angle = 360 / num_sectors\n",
    "        for i in range(num_sectors):\n",
    "            color = [\"#FF0000\", \"#0000FF\"][(i % 2)]\n",
    "            other_color = [\"#FF0000\", \"#0000FF\"][((i + 1) % 2)]\n",
    "            ax.add_artist(\n",
    "                mpl.patches.Wedge(\n",
    "                    (0, 0),\n",
    "                    1,\n",
    "                    i * sector_angle,\n",
    "                    (i + 1) * sector_angle,\n",
    "                    lw=0,\n",
    "                    color=color,\n",
    "                    alpha=0.1,\n",
    "                    width=0.5,\n",
    "                )\n",
    "            )\n",
    "            ax.add_artist(\n",
    "                mpl.patches.Wedge(\n",
    "                    (0, 0),\n",
    "                    0.5,\n",
    "                    i * sector_angle,\n",
    "                    (i + 1) * sector_angle,\n",
    "                    lw=0,\n",
    "                    color=other_color,\n",
    "                    alpha=0.1,\n",
    "                )\n",
    "            )\n",
    "            ax.set_xlim(-1, 1)\n",
    "\n",
    "    ax.set_ylim(-1, 1)\n",
    "    ax.set_aspect(\"equal\")\n",
    "    ax.axis(\"off\")\n",
    "\n",
    "    return ax"
   ]
  },
  {
   "cell_type": "code",
   "execution_count": 23,
   "id": "bbbe6643-71cf-4e6f-98df-6a9ad3e1a125",
   "metadata": {},
   "outputs": [
    {
     "data": {
      "image/png": "[encoded data removed]",
      "text/plain": [
       "<Figure size 432x288 with 1 Axes>"
      ]
     },
     "metadata": {
      "needs_background": "light"
     },
     "output_type": "display_data"
    }
   ],
   "source": [
    "# plot the data\n",
    "num_sectors = 3\n",
    "X, Y = make_double_cake_data(num_sectors)\n",
    "\n",
    "ax = plot_double_cake_data(X, Y, plt.gca(), num_sectors=num_sectors)"
   ]
  },
  {
   "cell_type": "markdown",
   "id": "5cdbebdf-b975-4cc9-9210-d6461ff141f5",
   "metadata": {},
   "source": [
    "Define the circuit for the quantum kernel.\n",
    "\n",
    "PennyLane\\'s [kernels\n",
    "module](https://pennylane.readthedocs.io/en/latest/code/qml_kernels.html)\n",
    "allows for a particularly simple implementation of Quantum Embedding\n",
    "Kernels. The first ingredient we need for this is an *ansatz*, which we\n",
    "will construct by repeating a layer as building block. Let\\'s start by\n",
    "defining this layer:"
   ]
  },
  {
   "cell_type": "code",
   "execution_count": 27,
   "id": "ab5552c9-7917-43b8-8c69-33ddb5563fe5",
   "metadata": {},
   "outputs": [],
   "source": [
    "def layer(x, params, wires, i0=0, inc=1):\n",
    "    \"\"\"Building block of the embedding ansatz\"\"\"\n",
    "    i = i0\n",
    "    for j, wire in enumerate(wires):\n",
    "        qml.Hadamard(wires=[wire])\n",
    "        qml.RZ(x[i % len(x)], wires=[wire])\n",
    "        i += inc\n",
    "        qml.RY(params[0, j], wires=[wire])\n",
    "\n",
    "    qml.broadcast(unitary=qml.CRZ, pattern=\"ring\", wires=wires, parameters=params[1])\n",
    "\n",
    "def ansatz(x, params, wires):\n",
    "    \"\"\"The embedding ansatz\"\"\"\n",
    "    for j, layer_params in enumerate(params):\n",
    "        layer(x, layer_params, wires, i0=j * len(wires))\n",
    "\n",
    "\n",
    "adjoint_ansatz = qml.adjoint(ansatz)\n",
    "\n",
    "\n",
    "def random_params(num_wires, num_layers):\n",
    "    \"\"\"Generate random variational parameters in the shape for the ansatz.\"\"\"\n",
    "    return np.random.uniform(0, 2 * np.pi, (num_layers, 2, num_wires), requires_grad=True)\n",
    "    \n",
    "dev = qml.device(\"default.qubit\", wires=5, shots=None)\n",
    "wires = dev.wires.tolist()\n",
    "\n",
    "@qml.qnode(dev)\n",
    "def kernel_circuit(x1, x2, params):\n",
    "    ansatz(x1, params, wires=wires)\n",
    "    adjoint_ansatz(x2, params, wires=wires)\n",
    "    return qml.probs(wires=wires)\n",
    "\n",
    "def kernel(x1, x2, params):\n",
    "    return kernel_circuit(x1, x2, params)[0]\n",
    "\n",
    "init_params = random_params(num_wires=5, num_layers=6)\n",
    "\n",
    "init_kernel = lambda x1, x2: kernel(x1, x2, init_params)"
   ]
  },
  {
   "cell_type": "markdown",
   "id": "e6a793d6-71c7-45a1-84f7-e1b98493006e",
   "metadata": {},
   "source": [
    "Let\\'s now come back to the actual implementation. PennyLane\\'s\n",
    "`kernels` module allows you to easily evaluate the kernel target\n",
    "alignment:"
   ]
  },
  {
   "cell_type": "code",
   "execution_count": 28,
   "id": "48e5fa5e-4e53-497b-9ddf-ed6c6a36b0f5",
   "metadata": {},
   "outputs": [
    {
     "name": "stdout",
     "output_type": "stream",
     "text": [
      "The kernel-target alignment for our dataset and random parameters is 0.088\n"
     ]
    }
   ],
   "source": [
    "kta_init = qml.kernels.target_alignment(X, Y, init_kernel, assume_normalized_kernel=True)\n",
    "\n",
    "print(f\"The kernel-target alignment for our dataset and random parameters is {kta_init:.3f}\")"
   ]
  },
  {
   "cell_type": "markdown",
   "id": "aa78e86d-9b52-409a-b0d6-4edc0573c56e",
   "metadata": {},
   "source": [
    "Now let\\'s code up an optimization loop and improve the kernel-target\n",
    "alignment!\n",
    "\n",
    "We will make use of regular gradient descent optimization. To speed up\n",
    "the optimization we will not use the entire training set to compute\n",
    "$\\operatorname{KTA}$ but rather sample smaller subsets of the data at\n",
    "each step, we choose $4$ datapoints at random. Remember that\n",
    "PennyLane\\'s built-in optimizer works to *minimize* the cost function\n",
    "that is given to it, which is why we have to multiply the kernel target\n",
    "alignment by $-1$ to actually *maximize* it in the process.\n",
    "\n",
    "\n",
    "\n",
    "Note:\n",
    "\n",
    "\n",
    "Currently, the function `qml.kernels.target_alignment` is not\n",
    "differentiable yet, making it unfit for gradient descent optimization.\n",
    "We therefore first define a differentiable version of this function.\n",
    "\n"
   ]
  },
  {
   "cell_type": "code",
   "execution_count": 29,
   "id": "026c6636-8bd8-41b8-88a1-616143f41509",
   "metadata": {},
   "outputs": [
    {
     "name": "stdout",
     "output_type": "stream",
     "text": [
      "Step 50 - Alignment = 0.190\n",
      "Step 100 - Alignment = 0.245\n",
      "Step 150 - Alignment = 0.267\n",
      "Step 200 - Alignment = 0.295\n",
      "Step 250 - Alignment = 0.310\n",
      "Step 300 - Alignment = 0.326\n",
      "Step 350 - Alignment = 0.349\n",
      "Step 400 - Alignment = 0.366\n",
      "Step 450 - Alignment = 0.372\n",
      "Step 500 - Alignment = 0.398\n"
     ]
    }
   ],
   "source": [
    "def target_alignment(\n",
    "    X,\n",
    "    Y,\n",
    "    kernel,\n",
    "    assume_normalized_kernel=False,\n",
    "    rescale_class_labels=True,\n",
    "):\n",
    "    \"\"\"Kernel-target alignment between kernel and labels.\"\"\"\n",
    "\n",
    "    K = qml.kernels.square_kernel_matrix(\n",
    "        X,\n",
    "        kernel,\n",
    "        assume_normalized_kernel=assume_normalized_kernel,\n",
    "    )\n",
    "\n",
    "    if rescale_class_labels:\n",
    "        nplus = np.count_nonzero(np.array(Y) == 1)\n",
    "        nminus = len(Y) - nplus\n",
    "        _Y = np.array([y / nplus if y == 1 else y / nminus for y in Y])\n",
    "    else:\n",
    "        _Y = np.array(Y)\n",
    "\n",
    "    T = np.outer(_Y, _Y)\n",
    "    inner_product = np.sum(K * T)\n",
    "    norm = np.sqrt(np.sum(K * K) * np.sum(T * T))\n",
    "    inner_product = inner_product / norm\n",
    "\n",
    "    return inner_product\n",
    "\n",
    "\n",
    "params = init_params\n",
    "opt = qml.GradientDescentOptimizer(0.5)\n",
    "\n",
    "for i in range(500):\n",
    "    # Choose subset of datapoints to compute the KTA on.\n",
    "    subset = np.random.choice(list(range(len(X))), 4)\n",
    "    # Define the cost function for optimization\n",
    "    cost = lambda _params: -target_alignment(\n",
    "        X[subset],\n",
    "        Y[subset],\n",
    "        lambda x1, x2: kernel(x1, x2, _params),\n",
    "        assume_normalized_kernel=True,\n",
    "    )\n",
    "    # Optimization step\n",
    "    params = opt.step(cost, params)\n",
    "\n",
    "    # Report the alignment on the full dataset every 50 steps.\n",
    "    if (i + 1) % 50 == 0:\n",
    "        current_alignment = target_alignment(\n",
    "            X,\n",
    "            Y,\n",
    "            lambda x1, x2: kernel(x1, x2, params),\n",
    "            assume_normalized_kernel=True,\n",
    "        )\n",
    "        print(f\"Step {i+1} - Alignment = {current_alignment:.3f}\")"
   ]
  },
  {
   "cell_type": "markdown",
   "id": "8b4e76c4-2d40-4d1e-beae-b36541c429b3",
   "metadata": {},
   "source": [
    "We want to assess the impact of training the parameters of the quantum\n",
    "kernel. Thus, let\\'s build a support vector classifier with the\n",
    "trained kernel:\n"
   ]
  },
  {
   "cell_type": "code",
   "execution_count": 30,
   "id": "3e562243-3989-4aea-a7c4-328aa1019fd9",
   "metadata": {},
   "outputs": [],
   "source": [
    "# First create a kernel with the trained parameter baked into it.\n",
    "trained_kernel = lambda x1, x2: kernel(x1, x2, params)\n",
    "\n",
    "# Second create a kernel matrix function using the trained kernel.\n",
    "trained_kernel_matrix = lambda X1, X2: qml.kernels.kernel_matrix(X1, X2, trained_kernel)\n",
    "\n",
    "# Note that SVC expects the kernel argument to be a kernel matrix function.\n",
    "svm_trained = SVC(kernel=trained_kernel_matrix).fit(X, Y)"
   ]
  },
  {
   "cell_type": "markdown",
   "id": "df7df0b2-e84d-4170-bece-3b7341b2eee7",
   "metadata": {},
   "source": [
    "We expect to see an accuracy improvement vs. the SVM with random\n",
    "parameters:\n"
   ]
  },
  {
   "cell_type": "code",
   "execution_count": 32,
   "id": "6c9c7345-ac96-440d-8dc5-a229560b980a",
   "metadata": {},
   "outputs": [
    {
     "name": "stdout",
     "output_type": "stream",
     "text": [
      "The accuracy of a kernel with trained parameters is 1.000\n"
     ]
    }
   ],
   "source": [
    "def accuracy(classifier, X, Y_target):\n",
    "    return 1 - np.count_nonzero(classifier.predict(X) - Y_target) / len(Y_target)\n",
    "\n",
    "accuracy_trained = accuracy(svm_trained, X, Y)\n",
    "print(f\"The accuracy of a kernel with trained parameters is {accuracy_trained:.3f}\")"
   ]
  },
  {
   "cell_type": "markdown",
   "id": "06e59d0e-d7e9-4131-a5ec-f1e27a37089a",
   "metadata": {},
   "source": [
    "Following on the results that SVM\\'s have proven good generalisation\n",
    "behavior, it will be interesting to inspect the decision boundaries of\n",
    "our classifier:"
   ]
  },
  {
   "cell_type": "code",
   "execution_count": 33,
   "id": "962a72cb-1a74-42d4-a0fb-0ce652b26ccf",
   "metadata": {},
   "outputs": [
    {
     "data": {
      "image/png": "[encoded data removed]",
      "text/plain": [
       "<Figure size 432x288 with 1 Axes>"
      ]
     },
     "metadata": {
      "needs_background": "light"
     },
     "output_type": "display_data"
    }
   ],
   "source": [
    "def plot_decision_boundaries(classifier, ax, N_gridpoints=14):\n",
    "    _xx, _yy = np.meshgrid(np.linspace(-1, 1, N_gridpoints), np.linspace(-1, 1, N_gridpoints))\n",
    "\n",
    "    _zz = np.zeros_like(_xx)\n",
    "    for idx in np.ndindex(*_xx.shape):\n",
    "        _zz[idx] = classifier.predict(np.array([_xx[idx], _yy[idx]])[np.newaxis, :])\n",
    "\n",
    "    plot_data = {\"_xx\": _xx, \"_yy\": _yy, \"_zz\": _zz}\n",
    "    ax.contourf(\n",
    "        _xx,\n",
    "        _yy,\n",
    "        _zz,\n",
    "        cmap=mpl.colors.ListedColormap([\"#FF0000\", \"#0000FF\"]),\n",
    "        alpha=0.2,\n",
    "        levels=[-1, 0, 1],\n",
    "    )\n",
    "    plot_double_cake_data(X, Y, ax)\n",
    "\n",
    "    return plot_data\n",
    "\n",
    "trained_plot_data = plot_decision_boundaries(svm_trained, plt.gca())"
   ]
  },
  {
   "cell_type": "code",
   "execution_count": null,
   "id": "174766e8-3064-47b4-8166-9dbf9d3fa196",
   "metadata": {},
   "outputs": [],
   "source": []
  }
 ],
 "metadata": {
  "kernelspec": {
   "display_name": "Python 3.10.6 64-bit",
   "language": "python",
   "name": "python3"
  },
  "language_info": {
   "codemirror_mode": {
    "name": "ipython",
    "version": 3
   },
   "file_extension": ".py",
   "mimetype": "text/x-python",
   "name": "python",
   "nbconvert_exporter": "python",
   "pygments_lexer": "ipython3",
   "version": "3.10.6"
  },
  "vscode": {
   "interpreter": {
    "hash": "949777d72b0d2535278d3dc13498b2535136f6dfe0678499012e853ee9abcab1"
   }
  }
 },
 "nbformat": 4,
 "nbformat_minor": 5
}
